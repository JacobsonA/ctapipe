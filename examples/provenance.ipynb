{
 "cells": [
  {
   "cell_type": "markdown",
   "metadata": {},
   "source": [
    "# Using the ctapipe Provenance service\n",
    "\n",
    "The provenance functionality is used automatically when you use most of ctapipe functionality (particularly `ctapipe.core.Tool` and functions in `ctapipe.io` and `ctapipe.utils`), so normally you don't have to work with it directly. It tracks both input and output files, as well as details of the machine and software environment on which a Tool executed. \n",
    "\n",
    "Here we show some very low-level functions of this system:"
   ]
  },
  {
   "cell_type": "code",
   "execution_count": 1,
   "metadata": {
    "execution": {
     "iopub.execute_input": "2020-11-13T15:18:51.235410Z",
     "iopub.status.busy": "2020-11-13T15:18:51.234732Z",
     "iopub.status.idle": "2020-11-13T15:18:51.603489Z",
     "shell.execute_reply": "2020-11-13T15:18:51.602575Z"
    }
   },
   "outputs": [
    {
     "name": "stderr",
     "output_type": "stream",
     "text": [
      "/home/travis/miniconda/envs/travis/lib/python3.7/site-packages/setuptools_scm/git.py:68: UserWarning: \"/home/travis/build/cta-observatory/ctapipe\" is shallow and may cause errors\n",
      "  warnings.warn('\"{}\" is shallow and may cause errors'.format(wd.path))\n"
     ]
    }
   ],
   "source": [
    "from ctapipe.core import Provenance\n",
    "from pprint import pprint"
   ]
  },
  {
   "cell_type": "markdown",
   "metadata": {},
   "source": [
    "## Activities\n",
    "\n",
    "The basis of Provenance is an *activity*, which is generally an executable or step in a script. Activities can be nested (e.g. with sub-activities), as shown below, but normally this is not required:"
   ]
  },
  {
   "cell_type": "code",
   "execution_count": 2,
   "metadata": {
    "execution": {
     "iopub.execute_input": "2020-11-13T15:18:51.608766Z",
     "iopub.status.busy": "2020-11-13T15:18:51.607690Z",
     "iopub.status.idle": "2020-11-13T15:18:52.075341Z",
     "shell.execute_reply": "2020-11-13T15:18:52.075713Z"
    }
   },
   "outputs": [],
   "source": [
    "p = Provenance()  # note this is a singleton, so only ever one global provenence object\n",
    "p.clear()\n",
    "p.start_activity()\n",
    "p.add_input_file(\"test.txt\")\n",
    "\n",
    "p.start_activity(\"sub\")\n",
    "p.add_input_file(\"subinput.txt\")\n",
    "p.add_input_file(\"anothersubinput.txt\")\n",
    "p.add_output_file(\"suboutput.txt\")\n",
    "p.finish_activity(\"sub\")\n",
    "\n",
    "p.start_activity(\"sub2\")\n",
    "p.add_input_file(\"sub2input.txt\")\n",
    "p.finish_activity(\"sub2\")\n",
    "\n",
    "p.finish_activity()"
   ]
  },
  {
   "cell_type": "code",
   "execution_count": 3,
   "metadata": {
    "execution": {
     "iopub.execute_input": "2020-11-13T15:18:52.084865Z",
     "iopub.status.busy": "2020-11-13T15:18:52.084391Z",
     "iopub.status.idle": "2020-11-13T15:18:52.089284Z",
     "shell.execute_reply": "2020-11-13T15:18:52.088904Z"
    }
   },
   "outputs": [
    {
     "data": {
      "text/plain": [
       "['sub', 'sub2', '/home/travis/miniconda/envs/travis/bin/python']"
      ]
     },
     "execution_count": 1,
     "metadata": {},
     "output_type": "execute_result"
    }
   ],
   "source": [
    "p.finished_activity_names"
   ]
  },
  {
   "cell_type": "markdown",
   "metadata": {},
   "source": [
    "Activities have associated input and output *entities*  (files or other objects)"
   ]
  },
  {
   "cell_type": "code",
   "execution_count": 4,
   "metadata": {
    "execution": {
     "iopub.execute_input": "2020-11-13T15:18:52.094244Z",
     "iopub.status.busy": "2020-11-13T15:18:52.093747Z",
     "iopub.status.idle": "2020-11-13T15:18:52.096171Z",
     "shell.execute_reply": "2020-11-13T15:18:52.096585Z"
    }
   },
   "outputs": [
    {
     "data": {
      "text/plain": [
       "[('sub',\n",
       "  [{'url': '/home/travis/build/cta-observatory/ctapipe/docs/examples/subinput.txt',\n",
       "    'role': None},\n",
       "   {'url': '/home/travis/build/cta-observatory/ctapipe/docs/examples/anothersubinput.txt',\n",
       "    'role': None}]),\n",
       " ('sub2',\n",
       "  [{'url': '/home/travis/build/cta-observatory/ctapipe/docs/examples/sub2input.txt',\n",
       "    'role': None}]),\n",
       " ('/home/travis/miniconda/envs/travis/bin/python',\n",
       "  [{'url': '/home/travis/build/cta-observatory/ctapipe/docs/examples/test.txt',\n",
       "    'role': None}])]"
      ]
     },
     "execution_count": 1,
     "metadata": {},
     "output_type": "execute_result"
    }
   ],
   "source": [
    "[ (x['activity_name'], x['input']) for x in p.provenance]"
   ]
  },
  {
   "cell_type": "markdown",
   "metadata": {},
   "source": [
    "Activities track when they were started and finished:"
   ]
  },
  {
   "cell_type": "code",
   "execution_count": 5,
   "metadata": {
    "execution": {
     "iopub.execute_input": "2020-11-13T15:18:52.101098Z",
     "iopub.status.busy": "2020-11-13T15:18:52.100617Z",
     "iopub.status.idle": "2020-11-13T15:18:52.103049Z",
     "shell.execute_reply": "2020-11-13T15:18:52.103461Z"
    }
   },
   "outputs": [
    {
     "data": {
      "text/plain": [
       "[('sub', 0.00046666666658978784),\n",
       " ('sub2', 0.00046666666674965995),\n",
       " ('/home/travis/miniconda/envs/travis/bin/python', 0.0077166666666173)]"
      ]
     },
     "execution_count": 1,
     "metadata": {},
     "output_type": "execute_result"
    }
   ],
   "source": [
    "[ (x['activity_name'],x['duration_min']) for x in p.provenance]"
   ]
  },
  {
   "cell_type": "markdown",
   "metadata": {},
   "source": [
    "## Full provenance\n",
    "\n",
    "The provence object is a list of activitites, and for each lots of details are collected:"
   ]
  },
  {
   "cell_type": "code",
   "execution_count": 6,
   "metadata": {
    "execution": {
     "iopub.execute_input": "2020-11-13T15:18:52.108916Z",
     "iopub.status.busy": "2020-11-13T15:18:52.108445Z",
     "iopub.status.idle": "2020-11-13T15:18:52.110907Z",
     "shell.execute_reply": "2020-11-13T15:18:52.111324Z"
    }
   },
   "outputs": [
    {
     "data": {
      "text/plain": [
       "{'activity_name': 'sub',\n",
       " 'activity_uuid': '3796d899-e2b0-4bea-a439-f1bdb3d3d76c',\n",
       " 'start': {'time_utc': '2020-11-13T15:18:52.012'},\n",
       " 'stop': {'time_utc': '2020-11-13T15:18:52.040'},\n",
       " 'system': {'ctapipe_version': '0.9.2.dev40+g2e3a5744',\n",
       "  'ctapipe_resources_version': '0.3.1',\n",
       "  'eventio_version': '1.4.2',\n",
       "  'ctapipe_svc_path': None,\n",
       "  'executable': '/home/travis/miniconda/envs/travis/bin/python',\n",
       "  'platform': {'architecture_bits': '64bit',\n",
       "   'architecture_linkage': '',\n",
       "   'machine': 'x86_64',\n",
       "   'processor': 'x86_64',\n",
       "   'node': 'travis-job-7012dc37-8b65-4b3d-8ad9-5079e9741538',\n",
       "   'version': '#31~18.04.1-Ubuntu SMP Mon Jun 22 15:24:52 UTC 2020',\n",
       "   'system': 'Linux',\n",
       "   'release': '5.3.0-1029-gcp',\n",
       "   'libcver': ('glibc', '2.10'),\n",
       "   'num_cpus': 2,\n",
       "   'boot_time': '2020-11-13T15:07:45.000'},\n",
       "  'python': {'version_string': '3.7.7 (default, Mar 26 2020, 15:48:22) \\n[GCC 7.3.0]',\n",
       "   'version': ('3', '7', '7'),\n",
       "   'compiler': 'GCC 7.3.0',\n",
       "   'implementation': 'CPython'},\n",
       "  'environment': {'CONDA_DEFAULT_ENV': 'travis',\n",
       "   'CONDA_PREFIX': '/home/travis/miniconda/envs/travis',\n",
       "   'CONDA_PYTHON_EXE': '/home/travis/miniconda/bin/python',\n",
       "   'CONDA_EXE': '/home/travis/miniconda/bin/conda',\n",
       "   'CONDA_PROMPT_MODIFIER': '',\n",
       "   'CONDA_SHLVL': '1',\n",
       "   'PATH': '/home/travis/miniconda/envs/travis/bin:/home/travis/miniconda/condabin:/home/travis/bin:/home/travis/.local/bin:/usr/local/lib/jvm/openjdk11/bin:/opt/pyenv/shims:/home/travis/.phpenv/shims:/home/travis/perl5/perlbrew/bin:/home/travis/.nvm/versions/node/v10.16.0/bin:/home/travis/.kiex/elixirs/elixir-1.7.4/bin:/home/travis/.kiex/bin:/home/travis/.rvm/gems/ruby-2.6.5/bin:/home/travis/.rvm/gems/ruby-2.6.5@global/bin:/home/travis/.rvm/rubies/ruby-2.6.5/bin:/home/travis/gopath/bin:/home/travis/.gimme/versions/go1.11.1.linux.amd64/bin:/usr/local/maven-3.6.3/bin:/usr/local/cmake-3.12.4/bin:/usr/local/clang-7.0.0/bin:/usr/local/sbin:/usr/local/bin:/usr/sbin:/usr/bin:/sbin:/bin:/snap/bin:/home/travis/.rvm/bin:/home/travis/.phpenv/bin:/opt/pyenv/bin:/home/travis/.yarn/bin',\n",
       "   'LD_LIBRARY_PATH': None,\n",
       "   'DYLD_LIBRARY_PATH': None,\n",
       "   'USER': 'travis',\n",
       "   'HOME': '/home/travis',\n",
       "   'SHELL': '/bin/bash'},\n",
       "  'arguments': ['/home/travis/miniconda/envs/travis/lib/python3.7/site-packages/ipykernel_launcher.py',\n",
       "   '-f',\n",
       "   '/tmp/tmpbxyg4bsf.json',\n",
       "   '--HistoryManager.hist_file=:memory:'],\n",
       "  'start_time_utc': '2020-11-13T15:18:52.039'},\n",
       " 'input': [{'url': '/home/travis/build/cta-observatory/ctapipe/docs/examples/subinput.txt',\n",
       "   'role': None},\n",
       "  {'url': '/home/travis/build/cta-observatory/ctapipe/docs/examples/anothersubinput.txt',\n",
       "   'role': None}],\n",
       " 'output': [{'url': '/home/travis/build/cta-observatory/ctapipe/docs/examples/suboutput.txt',\n",
       "   'role': None}],\n",
       " 'status': 'sub',\n",
       " 'duration_min': 0.00046666666658978784}"
      ]
     },
     "execution_count": 1,
     "metadata": {},
     "output_type": "execute_result"
    }
   ],
   "source": [
    "p.provenance[0]"
   ]
  },
  {
   "cell_type": "markdown",
   "metadata": {},
   "source": [
    "This can be better represented in JSON:"
   ]
  },
  {
   "cell_type": "code",
   "execution_count": 7,
   "metadata": {
    "execution": {
     "iopub.execute_input": "2020-11-13T15:18:52.116190Z",
     "iopub.status.busy": "2020-11-13T15:18:52.115250Z",
     "iopub.status.idle": "2020-11-13T15:18:52.117848Z",
     "shell.execute_reply": "2020-11-13T15:18:52.118255Z"
    }
   },
   "outputs": [
    {
     "name": "stdout",
     "output_type": "stream",
     "text": [
      "[\n",
      "  {\n",
      "    \"activity_name\": \"sub\",\n",
      "    \"activity_uuid\": \"3796d899-e2b0-4bea-a439-f1bdb3d3d76c\",\n",
      "    \"start\": {\n",
      "      \"time_utc\": \"2020-11-13T15:18:52.012\"\n",
      "    },\n",
      "    \"stop\": {\n",
      "      \"time_utc\": \"2020-11-13T15:18:52.040\"\n",
      "    },\n",
      "    \"system\": {\n",
      "      \"ctapipe_version\": \"0.9.2.dev40+g2e3a5744\",\n",
      "      \"ctapipe_resources_version\": \"0.3.1\",\n",
      "      \"eventio_version\": \"1.4.2\",\n",
      "      \"ctapipe_svc_path\": null,\n",
      "      \"executable\": \"/home/travis/miniconda/envs/travis/bin/python\",\n",
      "      \"platform\": {\n",
      "        \"architecture_bits\": \"64bit\",\n",
      "        \"architecture_linkage\": \"\",\n",
      "        \"machine\": \"x86_64\",\n",
      "        \"processor\": \"x86_64\",\n",
      "        \"node\": \"travis-job-7012dc37-8b65-4b3d-8ad9-5079e9741538\",\n",
      "        \"version\": \"#31~18.04.1-Ubuntu SMP Mon Jun 22 15:24:52 UTC 2020\",\n",
      "        \"system\": \"Linux\",\n",
      "        \"release\": \"5.3.0-1029-gcp\",\n",
      "        \"libcver\": [\n",
      "          \"glibc\",\n",
      "          \"2.10\"\n",
      "        ],\n",
      "        \"num_cpus\": 2,\n",
      "        \"boot_time\": \"2020-11-13T15:07:45.000\"\n",
      "      },\n",
      "      \"python\": {\n",
      "        \"version_string\": \"3.7.7 (default, Mar 26 2020, 15:48:22) \\n[GCC 7.3.0]\",\n",
      "        \"version\": [\n",
      "          \"3\",\n",
      "          \"7\",\n",
      "          \"7\"\n",
      "        ],\n",
      "        \"compiler\": \"GCC 7.3.0\",\n",
      "        \"implementation\": \"CPython\"\n",
      "      },\n",
      "      \"environment\": {\n",
      "        \"CONDA_DEFAULT_ENV\": \"travis\",\n",
      "        \"CONDA_PREFIX\": \"/home/travis/miniconda/envs/travis\",\n",
      "        \"CONDA_PYTHON_EXE\": \"/home/travis/miniconda/bin/python\",\n",
      "        \"CONDA_EXE\": \"/home/travis/miniconda/bin/conda\",\n",
      "        \"CONDA_PROMPT_MODIFIER\": \"\",\n",
      "        \"CONDA_SHLVL\": \"1\",\n",
      "        \"PATH\": \"/home/travis/miniconda/envs/travis/bin:/home/travis/miniconda/condabin:/home/travis/bin:/home/travis/.local/bin:/usr/local/lib/jvm/openjdk11/bin:/opt/pyenv/shims:/home/travis/.phpenv/shims:/home/travis/perl5/perlbrew/bin:/home/travis/.nvm/versions/node/v10.16.0/bin:/home/travis/.kiex/elixirs/elixir-1.7.4/bin:/home/travis/.kiex/bin:/home/travis/.rvm/gems/ruby-2.6.5/bin:/home/travis/.rvm/gems/ruby-2.6.5@global/bin:/home/travis/.rvm/rubies/ruby-2.6.5/bin:/home/travis/gopath/bin:/home/travis/.gimme/versions/go1.11.1.linux.amd64/bin:/usr/local/maven-3.6.3/bin:/usr/local/cmake-3.12.4/bin:/usr/local/clang-7.0.0/bin:/usr/local/sbin:/usr/local/bin:/usr/sbin:/usr/bin:/sbin:/bin:/snap/bin:/home/travis/.rvm/bin:/home/travis/.phpenv/bin:/opt/pyenv/bin:/home/travis/.yarn/bin\",\n",
      "        \"LD_LIBRARY_PATH\": null,\n",
      "        \"DYLD_LIBRARY_PATH\": null,\n",
      "        \"USER\": \"travis\",\n",
      "        \"HOME\": \"/home/travis\",\n",
      "        \"SHELL\": \"/bin/bash\"\n",
      "      },\n",
      "      \"arguments\": [\n",
      "        \"/home/travis/miniconda/envs/travis/lib/python3.7/site-packages/ipykernel_launcher.py\",\n",
      "        \"-f\",\n",
      "        \"/tmp/tmpbxyg4bsf.json\",\n",
      "        \"--HistoryManager.hist_file=:memory:\"\n",
      "      ],\n",
      "      \"start_time_utc\": \"2020-11-13T15:18:52.039\"\n",
      "    },\n",
      "    \"input\": [\n",
      "      {\n",
      "        \"url\": \"/home/travis/build/cta-observatory/ctapipe/docs/examples/subinput.txt\",\n",
      "        \"role\": null\n",
      "      },\n",
      "      {\n",
      "        \"url\": \"/home/travis/build/cta-observatory/ctapipe/docs/examples/anothersubinput.txt\",\n",
      "        \"role\": null\n",
      "      }\n",
      "    ],\n",
      "    \"output\": [\n",
      "      {\n",
      "        \"url\": \"/home/travis/build/cta-observatory/ctapipe/docs/examples/suboutput.txt\",\n",
      "        \"role\": null\n",
      "      }\n",
      "    ],\n",
      "    \"status\": \"sub\",\n",
      "    \"duration_min\": 0.00046666666658978784\n",
      "  },\n",
      "  {\n",
      "    \"activity_name\": \"sub2\",\n",
      "    \"activity_uuid\": \"8d733a31-5d16-46ff-81a2-68c6e1314035\",\n",
      "    \"start\": {\n",
      "      \"time_utc\": \"2020-11-13T15:18:52.041\"\n",
      "    },\n",
      "    \"stop\": {\n",
      "      \"time_utc\": \"2020-11-13T15:18:52.069\"\n",
      "    },\n",
      "    \"system\": {\n",
      "      \"ctapipe_version\": \"0.9.2.dev40+g2e3a5744\",\n",
      "      \"ctapipe_resources_version\": \"0.3.1\",\n",
      "      \"eventio_version\": \"1.4.2\",\n",
      "      \"ctapipe_svc_path\": null,\n",
      "      \"executable\": \"/home/travis/miniconda/envs/travis/bin/python\",\n",
      "      \"platform\": {\n",
      "        \"architecture_bits\": \"64bit\",\n",
      "        \"architecture_linkage\": \"\",\n",
      "        \"machine\": \"x86_64\",\n",
      "        \"processor\": \"x86_64\",\n",
      "        \"node\": \"travis-job-7012dc37-8b65-4b3d-8ad9-5079e9741538\",\n",
      "        \"version\": \"#31~18.04.1-Ubuntu SMP Mon Jun 22 15:24:52 UTC 2020\",\n",
      "        \"system\": \"Linux\",\n",
      "        \"release\": \"5.3.0-1029-gcp\",\n",
      "        \"libcver\": [\n",
      "          \"glibc\",\n",
      "          \"2.10\"\n",
      "        ],\n",
      "        \"num_cpus\": 2,\n",
      "        \"boot_time\": \"2020-11-13T15:07:45.000\"\n",
      "      },\n",
      "      \"python\": {\n",
      "        \"version_string\": \"3.7.7 (default, Mar 26 2020, 15:48:22) \\n[GCC 7.3.0]\",\n",
      "        \"version\": [\n",
      "          \"3\",\n",
      "          \"7\",\n",
      "          \"7\"\n",
      "        ],\n",
      "        \"compiler\": \"GCC 7.3.0\",\n",
      "        \"implementation\": \"CPython\"\n",
      "      },\n",
      "      \"environment\": {\n",
      "        \"CONDA_DEFAULT_ENV\": \"travis\",\n",
      "        \"CONDA_PREFIX\": \"/home/travis/miniconda/envs/travis\",\n",
      "        \"CONDA_PYTHON_EXE\": \"/home/travis/miniconda/bin/python\",\n",
      "        \"CONDA_EXE\": \"/home/travis/miniconda/bin/conda\",\n",
      "        \"CONDA_PROMPT_MODIFIER\": \"\",\n",
      "        \"CONDA_SHLVL\": \"1\",\n",
      "        \"PATH\": \"/home/travis/miniconda/envs/travis/bin:/home/travis/miniconda/condabin:/home/travis/bin:/home/travis/.local/bin:/usr/local/lib/jvm/openjdk11/bin:/opt/pyenv/shims:/home/travis/.phpenv/shims:/home/travis/perl5/perlbrew/bin:/home/travis/.nvm/versions/node/v10.16.0/bin:/home/travis/.kiex/elixirs/elixir-1.7.4/bin:/home/travis/.kiex/bin:/home/travis/.rvm/gems/ruby-2.6.5/bin:/home/travis/.rvm/gems/ruby-2.6.5@global/bin:/home/travis/.rvm/rubies/ruby-2.6.5/bin:/home/travis/gopath/bin:/home/travis/.gimme/versions/go1.11.1.linux.amd64/bin:/usr/local/maven-3.6.3/bin:/usr/local/cmake-3.12.4/bin:/usr/local/clang-7.0.0/bin:/usr/local/sbin:/usr/local/bin:/usr/sbin:/usr/bin:/sbin:/bin:/snap/bin:/home/travis/.rvm/bin:/home/travis/.phpenv/bin:/opt/pyenv/bin:/home/travis/.yarn/bin\",\n",
      "        \"LD_LIBRARY_PATH\": null,\n",
      "        \"DYLD_LIBRARY_PATH\": null,\n",
      "        \"USER\": \"travis\",\n",
      "        \"HOME\": \"/home/travis\",\n",
      "        \"SHELL\": \"/bin/bash\"\n",
      "      },\n",
      "      \"arguments\": [\n",
      "        \"/home/travis/miniconda/envs/travis/lib/python3.7/site-packages/ipykernel_launcher.py\",\n",
      "        \"-f\",\n",
      "        \"/tmp/tmpbxyg4bsf.json\",\n",
      "        \"--HistoryManager.hist_file=:memory:\"\n",
      "      ],\n",
      "      \"start_time_utc\": \"2020-11-13T15:18:52.069\"\n",
      "    },\n",
      "    \"input\": [\n",
      "      {\n",
      "        \"url\": \"/home/travis/build/cta-observatory/ctapipe/docs/examples/sub2input.txt\",\n",
      "        \"role\": null\n",
      "      }\n",
      "    ],\n",
      "    \"output\": [],\n",
      "    \"status\": \"sub2\",\n",
      "    \"duration_min\": 0.00046666666674965995\n",
      "  },\n",
      "  {\n",
      "    \"activity_name\": \"/home/travis/miniconda/envs/travis/bin/python\",\n",
      "    \"activity_uuid\": \"71fc9fa6-fee4-4f27-b8a3-3db289f90f0b\",\n",
      "    \"start\": {\n",
      "      \"time_utc\": \"2020-11-13T15:18:51.607\"\n",
      "    },\n",
      "    \"stop\": {\n",
      "      \"time_utc\": \"2020-11-13T15:18:52.070\"\n",
      "    },\n",
      "    \"system\": {\n",
      "      \"ctapipe_version\": \"0.9.2.dev40+g2e3a5744\",\n",
      "      \"ctapipe_resources_version\": \"0.3.1\",\n",
      "      \"eventio_version\": \"1.4.2\",\n",
      "      \"ctapipe_svc_path\": null,\n",
      "      \"executable\": \"/home/travis/miniconda/envs/travis/bin/python\",\n",
      "      \"platform\": {\n",
      "        \"architecture_bits\": \"64bit\",\n",
      "        \"architecture_linkage\": \"\",\n",
      "        \"machine\": \"x86_64\",\n",
      "        \"processor\": \"x86_64\",\n",
      "        \"node\": \"travis-job-7012dc37-8b65-4b3d-8ad9-5079e9741538\",\n",
      "        \"version\": \"#31~18.04.1-Ubuntu SMP Mon Jun 22 15:24:52 UTC 2020\",\n",
      "        \"system\": \"Linux\",\n",
      "        \"release\": \"5.3.0-1029-gcp\",\n",
      "        \"libcver\": [\n",
      "          \"glibc\",\n",
      "          \"2.10\"\n",
      "        ],\n",
      "        \"num_cpus\": 2,\n",
      "        \"boot_time\": \"2020-11-13T15:07:45.000\"\n",
      "      },\n",
      "      \"python\": {\n",
      "        \"version_string\": \"3.7.7 (default, Mar 26 2020, 15:48:22) \\n[GCC 7.3.0]\",\n",
      "        \"version\": [\n",
      "          \"3\",\n",
      "          \"7\",\n",
      "          \"7\"\n",
      "        ],\n",
      "        \"compiler\": \"GCC 7.3.0\",\n",
      "        \"implementation\": \"CPython\"\n",
      "      },\n",
      "      \"environment\": {\n",
      "        \"CONDA_DEFAULT_ENV\": \"travis\",\n",
      "        \"CONDA_PREFIX\": \"/home/travis/miniconda/envs/travis\",\n",
      "        \"CONDA_PYTHON_EXE\": \"/home/travis/miniconda/bin/python\",\n",
      "        \"CONDA_EXE\": \"/home/travis/miniconda/bin/conda\",\n",
      "        \"CONDA_PROMPT_MODIFIER\": \"\",\n",
      "        \"CONDA_SHLVL\": \"1\",\n",
      "        \"PATH\": \"/home/travis/miniconda/envs/travis/bin:/home/travis/miniconda/condabin:/home/travis/bin:/home/travis/.local/bin:/usr/local/lib/jvm/openjdk11/bin:/opt/pyenv/shims:/home/travis/.phpenv/shims:/home/travis/perl5/perlbrew/bin:/home/travis/.nvm/versions/node/v10.16.0/bin:/home/travis/.kiex/elixirs/elixir-1.7.4/bin:/home/travis/.kiex/bin:/home/travis/.rvm/gems/ruby-2.6.5/bin:/home/travis/.rvm/gems/ruby-2.6.5@global/bin:/home/travis/.rvm/rubies/ruby-2.6.5/bin:/home/travis/gopath/bin:/home/travis/.gimme/versions/go1.11.1.linux.amd64/bin:/usr/local/maven-3.6.3/bin:/usr/local/cmake-3.12.4/bin:/usr/local/clang-7.0.0/bin:/usr/local/sbin:/usr/local/bin:/usr/sbin:/usr/bin:/sbin:/bin:/snap/bin:/home/travis/.rvm/bin:/home/travis/.phpenv/bin:/opt/pyenv/bin:/home/travis/.yarn/bin\",\n",
      "        \"LD_LIBRARY_PATH\": null,\n",
      "        \"DYLD_LIBRARY_PATH\": null,\n",
      "        \"USER\": \"travis\",\n",
      "        \"HOME\": \"/home/travis\",\n",
      "        \"SHELL\": \"/bin/bash\"\n",
      "      },\n",
      "      \"arguments\": [\n",
      "        \"/home/travis/miniconda/envs/travis/lib/python3.7/site-packages/ipykernel_launcher.py\",\n",
      "        \"-f\",\n",
      "        \"/tmp/tmpbxyg4bsf.json\",\n",
      "        \"--HistoryManager.hist_file=:memory:\"\n",
      "      ],\n",
      "      \"start_time_utc\": \"2020-11-13T15:18:52.011\"\n",
      "    },\n",
      "    \"input\": [\n",
      "      {\n",
      "        \"url\": \"/home/travis/build/cta-observatory/ctapipe/docs/examples/test.txt\",\n",
      "        \"role\": null\n",
      "      }\n",
      "    ],\n",
      "    \"output\": [],\n",
      "    \"status\": \"completed\",\n",
      "    \"duration_min\": 0.0077166666666173\n",
      "  }\n",
      "]\n"
     ]
    }
   ],
   "source": [
    "print(p.as_json(indent=2))"
   ]
  },
  {
   "cell_type": "markdown",
   "metadata": {},
   "source": [
    "## Storing provenance info in output files\n",
    "\n",
    "* already this can be stored in something like an HDF5 file header, which allows hierarchies.\n",
    "* Try to flatted the data so it can be stored in a key=value header in a **FITS file** (using the FITS extended keyword convention to allow >8 character keywords), or as a table "
   ]
  },
  {
   "cell_type": "code",
   "execution_count": 8,
   "metadata": {
    "execution": {
     "iopub.execute_input": "2020-11-13T15:18:52.123689Z",
     "iopub.status.busy": "2020-11-13T15:18:52.122704Z",
     "iopub.status.idle": "2020-11-13T15:18:52.124621Z",
     "shell.execute_reply": "2020-11-13T15:18:52.124963Z"
    }
   },
   "outputs": [],
   "source": [
    "def flatten_dict(y):\n",
    "    out = {}\n",
    "\n",
    "    def flatten(x, name=''):\n",
    "        if type(x) is dict:\n",
    "            for a in x:\n",
    "                flatten(x[a], name + a + '.')\n",
    "        elif type(x) is list:\n",
    "            i = 0\n",
    "            for a in x:\n",
    "                flatten(a, name + str(i) + '.')\n",
    "                i += 1\n",
    "        else:\n",
    "            out[name[:-1]] = x\n",
    "\n",
    "    flatten(y)\n",
    "    return out"
   ]
  },
  {
   "cell_type": "code",
   "execution_count": 9,
   "metadata": {
    "execution": {
     "iopub.execute_input": "2020-11-13T15:18:52.128582Z",
     "iopub.status.busy": "2020-11-13T15:18:52.127821Z",
     "iopub.status.idle": "2020-11-13T15:18:52.130165Z",
     "shell.execute_reply": "2020-11-13T15:18:52.129717Z"
    }
   },
   "outputs": [],
   "source": [
    "d = dict(activity=p.provenance)"
   ]
  },
  {
   "cell_type": "code",
   "execution_count": 10,
   "metadata": {
    "execution": {
     "iopub.execute_input": "2020-11-13T15:18:52.136601Z",
     "iopub.status.busy": "2020-11-13T15:18:52.135115Z",
     "iopub.status.idle": "2020-11-13T15:18:52.168601Z",
     "shell.execute_reply": "2020-11-13T15:18:52.169214Z"
    }
   },
   "outputs": [
    {
     "name": "stdout",
     "output_type": "stream",
     "text": [
      "{'activity.0.activity_name': 'sub',\n",
      " 'activity.0.activity_uuid': '3796d899-e2b0-4bea-a439-f1bdb3d3d76c',\n",
      " 'activity.0.duration_min': 0.00046666666658978784,\n",
      " 'activity.0.input.0.role': None,\n",
      " 'activity.0.input.0.url': '/home/travis/build/cta-observatory/ctapipe/docs/examples/subinput.txt',\n",
      " 'activity.0.input.1.role': None,\n",
      " 'activity.0.input.1.url': '/home/travis/build/cta-observatory/ctapipe/docs/examples/anothersubinput.txt',\n",
      " 'activity.0.output.0.role': None,\n",
      " 'activity.0.output.0.url': '/home/travis/build/cta-observatory/ctapipe/docs/examples/suboutput.txt',\n",
      " 'activity.0.start.time_utc': '2020-11-13T15:18:52.012',\n",
      " 'activity.0.status': 'sub',\n",
      " 'activity.0.stop.time_utc': '2020-11-13T15:18:52.040',\n",
      " 'activity.0.system.arguments.0': '/home/travis/miniconda/envs/travis/lib/python3.7/site-packages/ipykernel_launcher.py',\n",
      " 'activity.0.system.arguments.1': '-f',\n",
      " 'activity.0.system.arguments.2': '/tmp/tmpbxyg4bsf.json',\n",
      " 'activity.0.system.arguments.3': '--HistoryManager.hist_file=:memory:',\n",
      " 'activity.0.system.ctapipe_resources_version': '0.3.1',\n",
      " 'activity.0.system.ctapipe_svc_path': None,\n",
      " 'activity.0.system.ctapipe_version': '0.9.2.dev40+g2e3a5744',\n",
      " 'activity.0.system.environment.CONDA_DEFAULT_ENV': 'travis',\n",
      " 'activity.0.system.environment.CONDA_EXE': '/home/travis/miniconda/bin/conda',\n",
      " 'activity.0.system.environment.CONDA_PREFIX': '/home/travis/miniconda/envs/travis',\n",
      " 'activity.0.system.environment.CONDA_PROMPT_MODIFIER': '',\n",
      " 'activity.0.system.environment.CONDA_PYTHON_EXE': '/home/travis/miniconda/bin/python',\n",
      " 'activity.0.system.environment.CONDA_SHLVL': '1',\n",
      " 'activity.0.system.environment.DYLD_LIBRARY_PATH': None,\n",
      " 'activity.0.system.environment.HOME': '/home/travis',\n",
      " 'activity.0.system.environment.LD_LIBRARY_PATH': None,\n",
      " 'activity.0.system.environment.PATH': '/home/travis/miniconda/envs/travis/bin:/home/travis/miniconda/condabin:/home/travis/bin:/home/travis/.local/bin:/usr/local/lib/jvm/openjdk11/bin:/opt/pyenv/shims:/home/travis/.phpenv/shims:/home/travis/perl5/perlbrew/bin:/home/travis/.nvm/versions/node/v10.16.0/bin:/home/travis/.kiex/elixirs/elixir-1.7.4/bin:/home/travis/.kiex/bin:/home/travis/.rvm/gems/ruby-2.6.5/bin:/home/travis/.rvm/gems/ruby-2.6.5@global/bin:/home/travis/.rvm/rubies/ruby-2.6.5/bin:/home/travis/gopath/bin:/home/travis/.gimme/versions/go1.11.1.linux.amd64/bin:/usr/local/maven-3.6.3/bin:/usr/local/cmake-3.12.4/bin:/usr/local/clang-7.0.0/bin:/usr/local/sbin:/usr/local/bin:/usr/sbin:/usr/bin:/sbin:/bin:/snap/bin:/home/travis/.rvm/bin:/home/travis/.phpenv/bin:/opt/pyenv/bin:/home/travis/.yarn/bin',\n",
      " 'activity.0.system.environment.SHELL': '/bin/bash',\n",
      " 'activity.0.system.environment.USER': 'travis',\n",
      " 'activity.0.system.eventio_version': '1.4.2',\n",
      " 'activity.0.system.executable': '/home/travis/miniconda/envs/travis/bin/python',\n",
      " 'activity.0.system.platform.architecture_bits': '64bit',\n",
      " 'activity.0.system.platform.architecture_linkage': '',\n",
      " 'activity.0.system.platform.boot_time': '2020-11-13T15:07:45.000',\n",
      " 'activity.0.system.platform.libcver': ('glibc', '2.10'),\n",
      " 'activity.0.system.platform.machine': 'x86_64',\n",
      " 'activity.0.system.platform.node': 'travis-job-7012dc37-8b65-4b3d-8ad9-5079e9741538',\n",
      " 'activity.0.system.platform.num_cpus': 2,\n",
      " 'activity.0.system.platform.processor': 'x86_64',\n",
      " 'activity.0.system.platform.release': '5.3.0-1029-gcp',\n",
      " 'activity.0.system.platform.system': 'Linux',\n",
      " 'activity.0.system.platform.version': '#31~18.04.1-Ubuntu SMP Mon Jun 22 '\n",
      "                                       '15:24:52 UTC 2020',\n",
      " 'activity.0.system.python.compiler': 'GCC 7.3.0',\n",
      " 'activity.0.system.python.implementation': 'CPython',\n",
      " 'activity.0.system.python.version': ('3', '7', '7'),\n",
      " 'activity.0.system.python.version_string': '3.7.7 (default, Mar 26 2020, '\n",
      "                                            '15:48:22) \\n'\n",
      "                                            '[GCC 7.3.0]',\n",
      " 'activity.0.system.start_time_utc': '2020-11-13T15:18:52.039',\n",
      " 'activity.1.activity_name': 'sub2',\n",
      " 'activity.1.activity_uuid': '8d733a31-5d16-46ff-81a2-68c6e1314035',\n",
      " 'activity.1.duration_min': 0.00046666666674965995,\n",
      " 'activity.1.input.0.role': None,\n",
      " 'activity.1.input.0.url': '/home/travis/build/cta-observatory/ctapipe/docs/examples/sub2input.txt',\n",
      " 'activity.1.start.time_utc': '2020-11-13T15:18:52.041',\n",
      " 'activity.1.status': 'sub2',\n",
      " 'activity.1.stop.time_utc': '2020-11-13T15:18:52.069',\n",
      " 'activity.1.system.arguments.0': '/home/travis/miniconda/envs/travis/lib/python3.7/site-packages/ipykernel_launcher.py',\n",
      " 'activity.1.system.arguments.1': '-f',\n",
      " 'activity.1.system.arguments.2': '/tmp/tmpbxyg4bsf.json',\n",
      " 'activity.1.system.arguments.3': '--HistoryManager.hist_file=:memory:',\n",
      " 'activity.1.system.ctapipe_resources_version': '0.3.1',\n",
      " 'activity.1.system.ctapipe_svc_path': None,\n",
      " 'activity.1.system.ctapipe_version': '0.9.2.dev40+g2e3a5744',\n",
      " 'activity.1.system.environment.CONDA_DEFAULT_ENV': 'travis',\n",
      " 'activity.1.system.environment.CONDA_EXE': '/home/travis/miniconda/bin/conda',\n",
      " 'activity.1.system.environment.CONDA_PREFIX': '/home/travis/miniconda/envs/travis',\n",
      " 'activity.1.system.environment.CONDA_PROMPT_MODIFIER': '',\n",
      " 'activity.1.system.environment.CONDA_PYTHON_EXE': '/home/travis/miniconda/bin/python',\n",
      " 'activity.1.system.environment.CONDA_SHLVL': '1',\n",
      " 'activity.1.system.environment.DYLD_LIBRARY_PATH': None,\n",
      " 'activity.1.system.environment.HOME': '/home/travis',\n",
      " 'activity.1.system.environment.LD_LIBRARY_PATH': None,\n",
      " 'activity.1.system.environment.PATH': '/home/travis/miniconda/envs/travis/bin:/home/travis/miniconda/condabin:/home/travis/bin:/home/travis/.local/bin:/usr/local/lib/jvm/openjdk11/bin:/opt/pyenv/shims:/home/travis/.phpenv/shims:/home/travis/perl5/perlbrew/bin:/home/travis/.nvm/versions/node/v10.16.0/bin:/home/travis/.kiex/elixirs/elixir-1.7.4/bin:/home/travis/.kiex/bin:/home/travis/.rvm/gems/ruby-2.6.5/bin:/home/travis/.rvm/gems/ruby-2.6.5@global/bin:/home/travis/.rvm/rubies/ruby-2.6.5/bin:/home/travis/gopath/bin:/home/travis/.gimme/versions/go1.11.1.linux.amd64/bin:/usr/local/maven-3.6.3/bin:/usr/local/cmake-3.12.4/bin:/usr/local/clang-7.0.0/bin:/usr/local/sbin:/usr/local/bin:/usr/sbin:/usr/bin:/sbin:/bin:/snap/bin:/home/travis/.rvm/bin:/home/travis/.phpenv/bin:/opt/pyenv/bin:/home/travis/.yarn/bin',\n",
      " 'activity.1.system.environment.SHELL': '/bin/bash',\n",
      " 'activity.1.system.environment.USER': 'travis',\n",
      " 'activity.1.system.eventio_version': '1.4.2',\n",
      " 'activity.1.system.executable': '/home/travis/miniconda/envs/travis/bin/python',\n",
      " 'activity.1.system.platform.architecture_bits': '64bit',\n",
      " 'activity.1.system.platform.architecture_linkage': '',\n",
      " 'activity.1.system.platform.boot_time': '2020-11-13T15:07:45.000',\n",
      " 'activity.1.system.platform.libcver': ('glibc', '2.10'),\n",
      " 'activity.1.system.platform.machine': 'x86_64',\n",
      " 'activity.1.system.platform.node': 'travis-job-7012dc37-8b65-4b3d-8ad9-5079e9741538',\n",
      " 'activity.1.system.platform.num_cpus': 2,\n",
      " 'activity.1.system.platform.processor': 'x86_64',\n",
      " 'activity.1.system.platform.release': '5.3.0-1029-gcp',\n",
      " 'activity.1.system.platform.system': 'Linux',\n",
      " 'activity.1.system.platform.version': '#31~18.04.1-Ubuntu SMP Mon Jun 22 '\n",
      "                                       '15:24:52 UTC 2020',\n",
      " 'activity.1.system.python.compiler': 'GCC 7.3.0',\n",
      " 'activity.1.system.python.implementation': 'CPython',\n",
      " 'activity.1.system.python.version': ('3', '7', '7'),\n",
      " 'activity.1.system.python.version_string': '3.7.7 (default, Mar 26 2020, '\n",
      "                                            '15:48:22) \\n'\n",
      "                                            '[GCC 7.3.0]',\n",
      " 'activity.1.system.start_time_utc': '2020-11-13T15:18:52.069',\n",
      " 'activity.2.activity_name': '/home/travis/miniconda/envs/travis/bin/python',\n",
      " 'activity.2.activity_uuid': '71fc9fa6-fee4-4f27-b8a3-3db289f90f0b',\n",
      " 'activity.2.duration_min': 0.0077166666666173,\n",
      " 'activity.2.input.0.role': None,\n",
      " 'activity.2.input.0.url': '/home/travis/build/cta-observatory/ctapipe/docs/examples/test.txt',\n",
      " 'activity.2.start.time_utc': '2020-11-13T15:18:51.607',\n",
      " 'activity.2.status': 'completed',\n",
      " 'activity.2.stop.time_utc': '2020-11-13T15:18:52.070',\n",
      " 'activity.2.system.arguments.0': '/home/travis/miniconda/envs/travis/lib/python3.7/site-packages/ipykernel_launcher.py',\n",
      " 'activity.2.system.arguments.1': '-f',\n",
      " 'activity.2.system.arguments.2': '/tmp/tmpbxyg4bsf.json',\n",
      " 'activity.2.system.arguments.3': '--HistoryManager.hist_file=:memory:',\n",
      " 'activity.2.system.ctapipe_resources_version': '0.3.1',\n",
      " 'activity.2.system.ctapipe_svc_path': None,\n",
      " 'activity.2.system.ctapipe_version': '0.9.2.dev40+g2e3a5744',\n",
      " 'activity.2.system.environment.CONDA_DEFAULT_ENV': 'travis',\n",
      " 'activity.2.system.environment.CONDA_EXE': '/home/travis/miniconda/bin/conda',\n",
      " 'activity.2.system.environment.CONDA_PREFIX': '/home/travis/miniconda/envs/travis',\n",
      " 'activity.2.system.environment.CONDA_PROMPT_MODIFIER': '',\n",
      " 'activity.2.system.environment.CONDA_PYTHON_EXE': '/home/travis/miniconda/bin/python',\n",
      " 'activity.2.system.environment.CONDA_SHLVL': '1',\n",
      " 'activity.2.system.environment.DYLD_LIBRARY_PATH': None,\n",
      " 'activity.2.system.environment.HOME': '/home/travis',\n",
      " 'activity.2.system.environment.LD_LIBRARY_PATH': None,\n",
      " 'activity.2.system.environment.PATH': '/home/travis/miniconda/envs/travis/bin:/home/travis/miniconda/condabin:/home/travis/bin:/home/travis/.local/bin:/usr/local/lib/jvm/openjdk11/bin:/opt/pyenv/shims:/home/travis/.phpenv/shims:/home/travis/perl5/perlbrew/bin:/home/travis/.nvm/versions/node/v10.16.0/bin:/home/travis/.kiex/elixirs/elixir-1.7.4/bin:/home/travis/.kiex/bin:/home/travis/.rvm/gems/ruby-2.6.5/bin:/home/travis/.rvm/gems/ruby-2.6.5@global/bin:/home/travis/.rvm/rubies/ruby-2.6.5/bin:/home/travis/gopath/bin:/home/travis/.gimme/versions/go1.11.1.linux.amd64/bin:/usr/local/maven-3.6.3/bin:/usr/local/cmake-3.12.4/bin:/usr/local/clang-7.0.0/bin:/usr/local/sbin:/usr/local/bin:/usr/sbin:/usr/bin:/sbin:/bin:/snap/bin:/home/travis/.rvm/bin:/home/travis/.phpenv/bin:/opt/pyenv/bin:/home/travis/.yarn/bin',\n",
      " 'activity.2.system.environment.SHELL': '/bin/bash',\n",
      " 'activity.2.system.environment.USER': 'travis',\n",
      " 'activity.2.system.eventio_version': '1.4.2',\n",
      " 'activity.2.system.executable': '/home/travis/miniconda/envs/travis/bin/python',\n",
      " 'activity.2.system.platform.architecture_bits': '64bit',\n",
      " 'activity.2.system.platform.architecture_linkage': '',\n",
      " 'activity.2.system.platform.boot_time': '2020-11-13T15:07:45.000',\n",
      " 'activity.2.system.platform.libcver': ('glibc', '2.10'),\n",
      " 'activity.2.system.platform.machine': 'x86_64',\n",
      " 'activity.2.system.platform.node': 'travis-job-7012dc37-8b65-4b3d-8ad9-5079e9741538',\n",
      " 'activity.2.system.platform.num_cpus': 2,\n",
      " 'activity.2.system.platform.processor': 'x86_64',\n",
      " 'activity.2.system.platform.release': '5.3.0-1029-gcp',\n",
      " 'activity.2.system.platform.system': 'Linux',\n",
      " 'activity.2.system.platform.version': '#31~18.04.1-Ubuntu SMP Mon Jun 22 '\n",
      "                                       '15:24:52 UTC 2020',\n",
      " 'activity.2.system.python.compiler': 'GCC 7.3.0',\n",
      " 'activity.2.system.python.implementation': 'CPython',\n",
      " 'activity.2.system.python.version': ('3', '7', '7'),\n",
      " 'activity.2.system.python.version_string': '3.7.7 (default, Mar 26 2020, '\n",
      "                                            '15:48:22) \\n'\n",
      "                                            '[GCC 7.3.0]',\n",
      " 'activity.2.system.start_time_utc': '2020-11-13T15:18:52.011'}\n"
     ]
    }
   ],
   "source": [
    "pprint(flatten_dict(d))"
   ]
  }
 ],
 "metadata": {
  "kernelspec": {
   "display_name": "Python 3",
   "language": "python",
   "name": "python3"
  },
  "language_info": {
   "codemirror_mode": {
    "name": "ipython",
    "version": 3
   },
   "file_extension": ".py",
   "mimetype": "text/x-python",
   "name": "python",
   "nbconvert_exporter": "python",
   "pygments_lexer": "ipython3",
   "version": "3.7.7"
  }
 },
 "nbformat": 4,
 "nbformat_minor": 2
}
