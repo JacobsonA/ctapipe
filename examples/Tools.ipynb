{
 "cells": [
  {
   "cell_type": "markdown",
   "metadata": {},
   "source": [
    "# Creating command-line Tools"
   ]
  },
  {
   "cell_type": "code",
   "execution_count": 1,
   "metadata": {
    "execution": {
     "iopub.execute_input": "2020-11-13T15:18:10.929590Z",
     "iopub.status.busy": "2020-11-13T15:18:10.928869Z",
     "iopub.status.idle": "2020-11-13T15:18:11.692070Z",
     "shell.execute_reply": "2020-11-13T15:18:11.692471Z"
    }
   },
   "outputs": [
    {
     "name": "stderr",
     "output_type": "stream",
     "text": [
      "/home/travis/miniconda/envs/travis/lib/python3.7/site-packages/setuptools_scm/git.py:68: UserWarning: \"/home/travis/build/cta-observatory/ctapipe\" is shallow and may cause errors\n",
      "  warnings.warn('\"{}\" is shallow and may cause errors'.format(wd.path))\n"
     ]
    }
   ],
   "source": [
    "from ctapipe.core import Tool, Component, TelescopeComponent\n",
    "from ctapipe.core.traits import (\n",
    "    Integer, Float, List, Dict, Unicode,\n",
    "    TraitError, observe, FloatTelescopeParameter,\n",
    "    Path,\n",
    ")\n",
    "import logging\n",
    "from time import sleep\n",
    "from astropy import units as u\n",
    "from ctapipe.utils import get_dataset_path"
   ]
  },
  {
   "cell_type": "code",
   "execution_count": 2,
   "metadata": {
    "execution": {
     "iopub.execute_input": "2020-11-13T15:18:11.697956Z",
     "iopub.status.busy": "2020-11-13T15:18:11.696724Z",
     "iopub.status.idle": "2020-11-13T15:18:11.753122Z",
     "shell.execute_reply": "2020-11-13T15:18:11.753561Z"
    }
   },
   "outputs": [],
   "source": [
    "GAMMA_FILE = get_dataset_path('gamma_test.simtel.gz')"
   ]
  },
  {
   "cell_type": "markdown",
   "metadata": {},
   "source": [
    "see https://github.com/ipython/traitlets/blob/master/examples/myapp.py"
   ]
  },
  {
   "cell_type": "markdown",
   "metadata": {},
   "source": [
    "## Setup:\n",
    "\n",
    "Create a few `Component`s that we will use later in a `Tool`:"
   ]
  },
  {
   "cell_type": "code",
   "execution_count": 3,
   "metadata": {
    "execution": {
     "iopub.execute_input": "2020-11-13T15:18:11.762651Z",
     "iopub.status.busy": "2020-11-13T15:18:11.761156Z",
     "iopub.status.idle": "2020-11-13T15:18:11.763157Z",
     "shell.execute_reply": "2020-11-13T15:18:11.763583Z"
    }
   },
   "outputs": [],
   "source": [
    "class MyComponent(Component):\n",
    "    \"\"\" A Component that does stuff \"\"\"\n",
    "\n",
    "    value = Integer(default_value=-1, help=\"Value to use\").tag(config=True)\n",
    "\n",
    "    def do_thing(self):\n",
    "        self.log.debug(\"Did thing\")\n",
    "\n",
    "\n",
    "# in order to have 2 of the same components at once\n",
    "class SecondaryMyComponent(MyComponent):\n",
    "    pass\n",
    "\n",
    "\n",
    "class AdvancedComponent(Component):\n",
    "    \"\"\" An advanced technique \"\"\"\n",
    "\n",
    "    value1 = Integer(default_value=-1, help=\"Value to use\").tag(config=True)\n",
    "    infile = Path(\n",
    "        help=\"input file name\", \n",
    "        exists=None,  # set to True to require existing, False for requiring non-existing\n",
    "        directory_ok=False,\n",
    "    ).tag(config=True)\n",
    "    outfile = Path(\n",
    "        help=\"output file name\",\n",
    "        exists=False, directory_ok=False\n",
    "    ).tag(config=True)\n",
    "    \n",
    "    def __init__(self, config=None, parent=None, **kwargs):\n",
    "        super().__init__(config=config, parent=parent, **kwargs)\n",
    "        # components can have sub components, but these must have \n",
    "        # then parent=self as argument and be assigned as member\n",
    "        # so the full config can be received later\n",
    "        self.subcompent = MyComponent(parent=self)\n",
    "\n",
    "    @observe(\"outfile\")\n",
    "    def on_outfile_changed(self, change):\n",
    "        self.log.warning(\"Outfile was changed to '{}'\".format(change))\n",
    "\n",
    "\n",
    "class TelescopeWiseComponent(TelescopeComponent):\n",
    "    \"\"\" a component that contains parameters that are per-telescope configurable \"\"\"\n",
    "\n",
    "    param = FloatTelescopeParameter(\n",
    "        help=\"Something configurable with telescope patterns\", default_value=5.0\n",
    "    ).tag(config=True)"
   ]
  },
  {
   "cell_type": "code",
   "execution_count": 4,
   "metadata": {
    "execution": {
     "iopub.execute_input": "2020-11-13T15:18:11.772638Z",
     "iopub.status.busy": "2020-11-13T15:18:11.770939Z",
     "iopub.status.idle": "2020-11-13T15:18:11.774776Z",
     "shell.execute_reply": "2020-11-13T15:18:11.775227Z"
    }
   },
   "outputs": [
    {
     "data": {
      "text/html": [
       "<b>MyComponent</b>\n",
       "<p>  A Component that does stuff  </p>\n",
       "<table>\n",
       "<tr><th>value</th>\n",
       "<td>-1</td>\n",
       "<td style=\"text-align:left\"><i>Value to use (default: -1)</i></td></tr>\n",
       "</table>"
      ],
      "text/plain": [
       "<__main__.MyComponent at 0x7f66e09390d0>"
      ]
     },
     "execution_count": 1,
     "metadata": {},
     "output_type": "execute_result"
    }
   ],
   "source": [
    "MyComponent()"
   ]
  },
  {
   "cell_type": "code",
   "execution_count": 5,
   "metadata": {
    "execution": {
     "iopub.execute_input": "2020-11-13T15:18:11.780090Z",
     "iopub.status.busy": "2020-11-13T15:18:11.779611Z",
     "iopub.status.idle": "2020-11-13T15:18:11.782161Z",
     "shell.execute_reply": "2020-11-13T15:18:11.782569Z"
    }
   },
   "outputs": [
    {
     "data": {
      "text/html": [
       "<b>AdvancedComponent</b>\n",
       "<p>  An advanced technique  </p>\n",
       "<table>\n",
       "<tr><th>infile</th>\n",
       "<td>None</td>\n",
       "<td style=\"text-align:left\"><i>input file name (default: None)</i></td></tr>\n",
       "<tr><th>outfile</th>\n",
       "<td>None</td>\n",
       "<td style=\"text-align:left\"><i>output file name (default: None)</i></td></tr>\n",
       "<tr><th>value1</th>\n",
       "<td>-1</td>\n",
       "<td style=\"text-align:left\"><i>Value to use (default: -1)</i></td></tr>\n",
       "</table>"
      ],
      "text/plain": [
       "<__main__.AdvancedComponent at 0x7f66ba609650>"
      ]
     },
     "execution_count": 1,
     "metadata": {},
     "output_type": "execute_result"
    }
   ],
   "source": [
    "AdvancedComponent()"
   ]
  },
  {
   "cell_type": "markdown",
   "metadata": {},
   "source": [
    "`TelescopeComponents` need to have a subarray given to them in order to work (since they need one to turn a `TelescopeParameter` into a concrete list of values for each telescope.  Here we will give a dummy one:"
   ]
  },
  {
   "cell_type": "code",
   "execution_count": 6,
   "metadata": {
    "execution": {
     "iopub.execute_input": "2020-11-13T15:18:11.787148Z",
     "iopub.status.busy": "2020-11-13T15:18:11.786457Z",
     "iopub.status.idle": "2020-11-13T15:18:12.068617Z",
     "shell.execute_reply": "2020-11-13T15:18:12.069121Z"
    }
   },
   "outputs": [
    {
     "name": "stderr",
     "output_type": "stream",
     "text": [
      "Resorting to default CameraReadout, File does not exist: (LSTCam.camreadout)\n"
     ]
    },
    {
     "name": "stderr",
     "output_type": "stream",
     "text": [
      "Resorting to default CameraReadout, File does not exist: (NectarCam.camreadout)\n"
     ]
    },
    {
     "name": "stdout",
     "output_type": "stream",
     "text": [
      "Subarray : Junk\n",
      "Num Tels : 2\n",
      "Footprint: 0.00 km2\n",
      "\n",
      "                TYPE  Num IDmin  IDmax\n",
      "=====================================\n",
      "      LST_LST_LSTCam    1    1 ..   1\n",
      "   MST_MST_NectarCam    1    2 ..   2\n"
     ]
    }
   ],
   "source": [
    "from ctapipe.instrument import SubarrayDescription, TelescopeDescription\n",
    "\n",
    "subarray = SubarrayDescription(\n",
    "    \"Junk\",\n",
    "    tel_positions={1: (0.0, 0.0, 0.0) * u.m, 2: (1.0, 1.0, 0.0) * u.m},\n",
    "    tel_descriptions={\n",
    "        1: TelescopeDescription.from_name(\"LST\", \"LSTCam\"),\n",
    "        2: TelescopeDescription.from_name(\"MST\", \"NectarCam\"),\n",
    "    },\n",
    ")\n",
    "subarray.info()"
   ]
  },
  {
   "cell_type": "code",
   "execution_count": 7,
   "metadata": {
    "execution": {
     "iopub.execute_input": "2020-11-13T15:18:12.074005Z",
     "iopub.status.busy": "2020-11-13T15:18:12.073544Z",
     "iopub.status.idle": "2020-11-13T15:18:12.078524Z",
     "shell.execute_reply": "2020-11-13T15:18:12.078060Z"
    }
   },
   "outputs": [
    {
     "data": {
      "text/html": [
       "<b>TelescopeWiseComponent</b>\n",
       "<p>  a component that contains parameters that are per-telescope configurable  </p>\n",
       "<table>\n",
       "<tr><th>param</th>\n",
       "<td><span style='color:blue'>[('type', '*', 5.0)]</span></td>\n",
       "<td style=\"text-align:left\"><i>Something configurable with telescope patterns (default: traitlets.Undefined)</i></td></tr>\n",
       "</table>"
      ],
      "text/plain": [
       "<__main__.TelescopeWiseComponent at 0x7f66ba5ad2d0>"
      ]
     },
     "execution_count": 1,
     "metadata": {},
     "output_type": "execute_result"
    }
   ],
   "source": [
    "TelescopeWiseComponent(subarray=subarray)"
   ]
  },
  {
   "cell_type": "markdown",
   "metadata": {},
   "source": [
    "This TelescopeParameters can then be set using a list of patterns like:\n",
    "```python\n",
    "component.param = [ \n",
    "    (\"type\", \"LST*\",3.0), \n",
    "    (\"type\", \"MST*\", 2.0), \n",
    "    (id, 25, 4.0) \n",
    "]\n",
    "```\n",
    "\n",
    "These get translated into per-telescope-id values once the subarray is registered.  After that one acccess the per-telescope id values via:\n",
    "```python\n",
    "component.param.tel[tel_id]\n",
    "```"
   ]
  },
  {
   "cell_type": "markdown",
   "metadata": {},
   "source": [
    "## Now create an executable Tool that contains the Components"
   ]
  },
  {
   "cell_type": "code",
   "execution_count": 8,
   "metadata": {
    "execution": {
     "iopub.execute_input": "2020-11-13T15:18:12.086433Z",
     "iopub.status.busy": "2020-11-13T15:18:12.084974Z",
     "iopub.status.idle": "2020-11-13T15:18:12.086947Z",
     "shell.execute_reply": "2020-11-13T15:18:12.087398Z"
    }
   },
   "outputs": [],
   "source": [
    "class MyTool(Tool):\n",
    "    name=\"mytool\"\n",
    "    description=\"do some things and stuff\"\n",
    "    aliases = dict(\n",
    "        infile='AdvancedComponent.infile',\n",
    "        iterations='MyTool.iterations'\n",
    "    )\n",
    "\n",
    "    # Which classes are registered for configuration\n",
    "    classes = List([MyComponent, AdvancedComponent, SecondaryMyComponent, TelescopeWiseComponent])\n",
    "\n",
    "    # local configuration parameters\n",
    "    iterations = Integer(5,help=\"Number of times to run\",allow_none=False).tag(config=True)\n",
    "\n",
    "    def setup(self):\n",
    "        self.comp = MyComponent(parent=self)\n",
    "        self.comp2 = SecondaryMyComponent(parent=self)\n",
    "        self.comp3 = TelescopeWiseComponent(parent=self, subarray=subarray)\n",
    "        self.advanced = AdvancedComponent(parent=self)\n",
    "\n",
    "\n",
    "    def start(self):\n",
    "        self.log.info(\"Performing {} iterations...\".format(self.iterations))\n",
    "        for ii in range(self.iterations):\n",
    "            self.log.info(\"ITERATION {}\".format(ii))\n",
    "            self.comp.do_thing()\n",
    "            self.comp2.do_thing()\n",
    "            sleep(0.1)\n",
    "            \n",
    "    def finish(self):\n",
    "        self.log.warning(\"Shutting down.\")\n",
    "    "
   ]
  },
  {
   "cell_type": "markdown",
   "metadata": {},
   "source": [
    "## Get Help info\n",
    "\n",
    "The following allows you to print the help info within a Jupyter notebook, but this same inforamtion would be displayed if the user types:\n",
    "```\n",
    "  mytool --help\n",
    "```"
   ]
  },
  {
   "cell_type": "code",
   "execution_count": 9,
   "metadata": {
    "execution": {
     "iopub.execute_input": "2020-11-13T15:18:12.092340Z",
     "iopub.status.busy": "2020-11-13T15:18:12.091425Z",
     "iopub.status.idle": "2020-11-13T15:18:12.094197Z",
     "shell.execute_reply": "2020-11-13T15:18:12.094526Z"
    }
   },
   "outputs": [],
   "source": [
    "tool=MyTool()"
   ]
  },
  {
   "cell_type": "code",
   "execution_count": 10,
   "metadata": {
    "execution": {
     "iopub.execute_input": "2020-11-13T15:18:12.100959Z",
     "iopub.status.busy": "2020-11-13T15:18:12.099952Z",
     "iopub.status.idle": "2020-11-13T15:18:12.102513Z",
     "shell.execute_reply": "2020-11-13T15:18:12.102944Z"
    }
   },
   "outputs": [
    {
     "name": "stdout",
     "output_type": "stream",
     "text": [
      "do some things and stuff\n",
      "\n",
      "Options\n",
      "=======\n",
      "The options below are convenience aliases to configurable class-options,\n",
      "as listed in the \"Equivalent to\" description-line of the aliases.\n",
      "To see all configurable class-options for some <cmd>, use:\n",
      "    <cmd> --help-all\n",
      "\n",
      "--debug\n",
      "    Set log-level to debug, for the most verbose logging.\n",
      "    Equivalent to: [--Application.log_level=10]\n",
      "--show-config\n",
      "    Show the application's configuration (human-readable format)\n",
      "    Equivalent to: [--Application.show_config=True]\n",
      "--show-config-json\n",
      "    Show the application's configuration (json format)\n",
      "    Equivalent to: [--Application.show_config_json=True]\n",
      "-q\n",
      "    Disable console logging.\n",
      "    Equivalent to: [--Tool.quiet=True]\n",
      "--no-q\n",
      "    set Tool.quiet=False\n",
      "    Equivalent to: [--Tool.quiet=False]\n",
      "--infile=<Path>\n",
      "    input file name\n",
      "    Default: None\n",
      "    Equivalent to: [--AdvancedComponent.infile]\n",
      "--iterations=<Int>\n",
      "    Number of times to run\n",
      "    Default: 5\n",
      "    Equivalent to: [--MyTool.iterations]\n",
      "--config=<Path>\n",
      "    name of a configuration file with parameters to load in addition to command-\n",
      "    line parameters\n",
      "    Default: None\n",
      "    Equivalent to: [--Tool.config_file]\n",
      "--log-level=<Enum>\n",
      "    Set the log level by value or name.\n",
      "    Choices: any of [0, 10, 20, 30, 40, 50, 'DEBUG', 'INFO', 'WARN', 'ERROR', 'CRITICAL']\n",
      "    Default: 30\n",
      "    Equivalent to: [--Tool.log_level]\n",
      "--log-file=<Path>\n",
      "    Filename for the log\n",
      "    Default: None\n",
      "    Equivalent to: [--Tool.log_file]\n",
      "--log=<Path>\n",
      "    Filename for the log\n",
      "    Default: None\n",
      "    Equivalent to: [--Tool.log_file]\n",
      "-l=<Path>\n",
      "    Filename for the log\n",
      "    Default: None\n",
      "    Equivalent to: [--Tool.log_file]\n",
      "--log-file-level=<Enum>\n",
      "    Logging Level for File Logging\n",
      "    Choices: any of [0, 10, 20, 30, 40, 50, 'DEBUG', 'INFO', 'WARN', 'ERROR', 'CRITICAL']\n",
      "    Default: 'INFO'\n",
      "    Equivalent to: [--Tool.log_file_level]\n",
      "\n",
      "To see all available configurables, use `--help-all`.\n",
      "\n"
     ]
    }
   ],
   "source": [
    "tool.print_help()"
   ]
  },
  {
   "cell_type": "markdown",
   "metadata": {},
   "source": [
    "The following  is equivalant to the user typing `mytool --help-all`"
   ]
  },
  {
   "cell_type": "code",
   "execution_count": 11,
   "metadata": {
    "execution": {
     "iopub.execute_input": "2020-11-13T15:18:12.112072Z",
     "iopub.status.busy": "2020-11-13T15:18:12.110911Z",
     "iopub.status.idle": "2020-11-13T15:18:12.113616Z",
     "shell.execute_reply": "2020-11-13T15:18:12.114063Z"
    }
   },
   "outputs": [
    {
     "name": "stdout",
     "output_type": "stream",
     "text": [
      "do some things and stuff\n",
      "\n",
      "Options\n",
      "=======\n",
      "The options below are convenience aliases to configurable class-options,\n",
      "as listed in the \"Equivalent to\" description-line of the aliases.\n",
      "To see all configurable class-options for some <cmd>, use:\n",
      "    <cmd> --help-all\n",
      "\n",
      "--debug\n",
      "    Set log-level to debug, for the most verbose logging.\n",
      "    Equivalent to: [--Application.log_level=10]\n",
      "--show-config\n",
      "    Show the application's configuration (human-readable format)\n",
      "    Equivalent to: [--Application.show_config=True]\n",
      "--show-config-json\n",
      "    Show the application's configuration (json format)\n",
      "    Equivalent to: [--Application.show_config_json=True]\n",
      "-q\n",
      "    Disable console logging.\n",
      "    Equivalent to: [--Tool.quiet=True]\n",
      "--no-q\n",
      "    set Tool.quiet=False\n",
      "    Equivalent to: [--Tool.quiet=False]\n",
      "--infile=<Path>\n",
      "    input file name\n",
      "    Default: None\n",
      "    Equivalent to: [--AdvancedComponent.infile]\n",
      "--iterations=<Int>\n",
      "    Number of times to run\n",
      "    Default: 5\n",
      "    Equivalent to: [--MyTool.iterations]\n",
      "--config=<Path>\n",
      "    name of a configuration file with parameters to load in addition to command-\n",
      "    line parameters\n",
      "    Default: None\n",
      "    Equivalent to: [--Tool.config_file]\n",
      "--log-level=<Enum>\n",
      "    Set the log level by value or name.\n",
      "    Choices: any of [0, 10, 20, 30, 40, 50, 'DEBUG', 'INFO', 'WARN', 'ERROR', 'CRITICAL']\n",
      "    Default: 30\n",
      "    Equivalent to: [--Tool.log_level]\n",
      "--log-file=<Path>\n",
      "    Filename for the log\n",
      "    Default: None\n",
      "    Equivalent to: [--Tool.log_file]\n",
      "--log=<Path>\n",
      "    Filename for the log\n",
      "    Default: None\n",
      "    Equivalent to: [--Tool.log_file]\n",
      "-l=<Path>\n",
      "    Filename for the log\n",
      "    Default: None\n",
      "    Equivalent to: [--Tool.log_file]\n",
      "--log-file-level=<Enum>\n",
      "    Logging Level for File Logging\n",
      "    Choices: any of [0, 10, 20, 30, 40, 50, 'DEBUG', 'INFO', 'WARN', 'ERROR', 'CRITICAL']\n",
      "    Default: 'INFO'\n",
      "    Equivalent to: [--Tool.log_file_level]\n",
      "\n",
      "Class options\n",
      "=============\n",
      "The command-line option below sets the respective configurable class-parameter:\n",
      "    --Class.parameter=value\n",
      "This line is evaluated in Python, so simple expressions are allowed.\n",
      "For instance, to set `C.a=[0,1,2]`, you may type this:\n",
      "    --C.a='range(3)'\n",
      "\n",
      "Application(SingletonConfigurable) options\n",
      "------------------------------------------\n",
      "--Application.log_datefmt=<Unicode>\n",
      "    The date format used by logging formatters for %(asctime)s\n",
      "    Default: '%Y-%m-%d %H:%M:%S'\n",
      "--Application.log_format=<Unicode>\n",
      "    The Logging format template\n",
      "    Default: '[%(name)s]%(highlevel)s %(message)s'\n",
      "--Application.log_level=<Enum>\n",
      "    Set the log level by value or name.\n",
      "    Choices: any of [0, 10, 20, 30, 40, 50, 'DEBUG', 'INFO', 'WARN', 'ERROR', 'CRITICAL']\n",
      "    Default: 30\n",
      "--Application.show_config=<Bool>\n",
      "    Instead of starting the Application, dump configuration to stdout\n",
      "    Default: False\n",
      "--Application.show_config_json=<Bool>\n",
      "    Instead of starting the Application, dump configuration to stdout (as JSON)\n",
      "    Default: False\n",
      "\n",
      "Tool(Application) options\n",
      "-------------------------\n",
      "--Tool.config_file=<Path>\n",
      "    name of a configuration file with parameters to load in addition to command-\n",
      "    line parameters\n",
      "    Default: None\n",
      "--Tool.log_config=<key-1>=<value-1>...\n",
      "    Default: {'version': 1, 'disable_existing_loggers': False, 'formatters...\n",
      "--Tool.log_datefmt=<Unicode>\n",
      "    The date format used by logging formatters for %(asctime)s\n",
      "    Default: '%Y-%m-%d %H:%M:%S'\n",
      "--Tool.log_file=<Path>\n",
      "    Filename for the log\n",
      "    Default: None\n",
      "--Tool.log_file_level=<Enum>\n",
      "    Logging Level for File Logging\n",
      "    Choices: any of [0, 10, 20, 30, 40, 50, 'DEBUG', 'INFO', 'WARN', 'ERROR', 'CRITICAL']\n",
      "    Default: 'INFO'\n",
      "--Tool.log_format=<Unicode>\n",
      "    The Logging format template\n",
      "    Default: '[%(name)s]%(highlevel)s %(message)s'\n",
      "--Tool.log_level=<Enum>\n",
      "    Set the log level by value or name.\n",
      "    Choices: any of [0, 10, 20, 30, 40, 50, 'DEBUG', 'INFO', 'WARN', 'ERROR', 'CRITICAL']\n",
      "    Default: 30\n",
      "--Tool.provenance_log=<Path>\n",
      "    Default: None\n",
      "--Tool.quiet=<Bool>\n",
      "    Default: False\n",
      "--Tool.show_config=<Bool>\n",
      "    Instead of starting the Application, dump configuration to stdout\n",
      "    Default: False\n",
      "--Tool.show_config_json=<Bool>\n",
      "    Instead of starting the Application, dump configuration to stdout (as JSON)\n",
      "    Default: False\n",
      "\n",
      "MyTool(Tool) options\n",
      "--------------------\n",
      "--MyTool.config_file=<Path>\n",
      "    name of a configuration file with parameters to load in addition to command-\n",
      "    line parameters\n",
      "    Default: None\n",
      "--MyTool.iterations=<Int>\n",
      "    Number of times to run\n",
      "    Default: 5\n",
      "--MyTool.log_config=<key-1>=<value-1>...\n",
      "    Default: {'version': 1, 'disable_existing_loggers': False, 'formatters...\n",
      "--MyTool.log_datefmt=<Unicode>\n",
      "    The date format used by logging formatters for %(asctime)s\n",
      "    Default: '%Y-%m-%d %H:%M:%S'\n",
      "--MyTool.log_file=<Path>\n",
      "    Filename for the log\n",
      "    Default: None\n",
      "--MyTool.log_file_level=<Enum>\n",
      "    Logging Level for File Logging\n",
      "    Choices: any of [0, 10, 20, 30, 40, 50, 'DEBUG', 'INFO', 'WARN', 'ERROR', 'CRITICAL']\n",
      "    Default: 'INFO'\n",
      "--MyTool.log_format=<Unicode>\n",
      "    The Logging format template\n",
      "    Default: '[%(name)s]%(highlevel)s %(message)s'\n",
      "--MyTool.log_level=<Enum>\n",
      "    Set the log level by value or name.\n",
      "    Choices: any of [0, 10, 20, 30, 40, 50, 'DEBUG', 'INFO', 'WARN', 'ERROR', 'CRITICAL']\n",
      "    Default: 30\n",
      "--MyTool.provenance_log=<Path>\n",
      "    Default: None\n",
      "--MyTool.quiet=<Bool>\n",
      "    Default: False\n",
      "--MyTool.show_config=<Bool>\n",
      "    Instead of starting the Application, dump configuration to stdout\n",
      "    Default: False\n",
      "--MyTool.show_config_json=<Bool>\n",
      "    Instead of starting the Application, dump configuration to stdout (as JSON)\n",
      "    Default: False\n",
      "\n",
      "MyComponent(Component) options\n",
      "------------------------------\n",
      "--MyComponent.value=<Int>\n",
      "    Value to use\n",
      "    Default: -1\n",
      "\n",
      "AdvancedComponent(Component) options\n",
      "------------------------------------\n",
      "--AdvancedComponent.infile=<Path>\n",
      "    input file name\n",
      "    Default: None\n",
      "--AdvancedComponent.outfile=<Path>\n",
      "    output file name\n",
      "    Default: None\n",
      "--AdvancedComponent.value1=<Int>\n",
      "    Value to use\n",
      "    Default: -1\n",
      "\n",
      "SecondaryMyComponent(MyComponent) options\n",
      "-----------------------------------------\n",
      "--SecondaryMyComponent.value=<Int>\n",
      "    Value to use\n",
      "    Default: -1\n",
      "\n",
      "TelescopeWiseComponent(TelescopeComponent) options\n",
      "--------------------------------------------------\n",
      "--TelescopeWiseComponent.param=<floattelescopeparameter-item-1>...\n",
      "    Something configurable with telescope patterns\n",
      "    Default: [('type', '*', 5.0)]\n",
      "\n"
     ]
    }
   ],
   "source": [
    "tool.print_help(classes=True)"
   ]
  },
  {
   "cell_type": "markdown",
   "metadata": {},
   "source": [
    "## Run the tool\n",
    "\n",
    "here we pass in argv since it is a Notebook, but if argv is not specified it's read from `sys.argv`, so the following is the same as running:\n",
    "\n",
    "```sh\n",
    "mytool --log_level=INFO --infile gamma_test.simtel.gz --iterations=3\n",
    "```\n",
    "\n",
    "As Tools are intended to be exectutables, they are raising `SystemExit` on exit.\n",
    "Here, we use them to demonstrate how it would work, so we catch the `SystemExit`."
   ]
  },
  {
   "cell_type": "code",
   "execution_count": 12,
   "metadata": {
    "execution": {
     "iopub.execute_input": "2020-11-13T15:18:12.119223Z",
     "iopub.status.busy": "2020-11-13T15:18:12.118517Z",
     "iopub.status.idle": "2020-11-13T15:18:12.665837Z",
     "shell.execute_reply": "2020-11-13T15:18:12.665344Z"
    },
    "scrolled": false
   },
   "outputs": [
    {
     "name": "stderr",
     "output_type": "stream",
     "text": [
      "2020-11-13 15:18:12,656 \u001b[1;33mWARNING\u001b[0m [ctapipe.mytool] (<ipython-input-1-d7fc398e7046>.finish): Shutting down.\n"
     ]
    }
   ],
   "source": [
    "try:\n",
    "    tool.run(argv=['--infile',  GAMMA_FILE])\n",
    "except SystemExit as e:\n",
    "    assert e.code == 0, f'Tool returned with error status {e}'"
   ]
  },
  {
   "cell_type": "code",
   "execution_count": 13,
   "metadata": {
    "execution": {
     "iopub.execute_input": "2020-11-13T15:18:12.674254Z",
     "iopub.status.busy": "2020-11-13T15:18:12.669903Z",
     "iopub.status.idle": "2020-11-13T15:18:13.030322Z",
     "shell.execute_reply": "2020-11-13T15:18:13.029837Z"
    }
   },
   "outputs": [
    {
     "name": "stderr",
     "output_type": "stream",
     "text": [
      "/home/travis/miniconda/envs/travis/lib/python3.7/site-packages/traitlets/config/application.py:206: RuntimeWarning: No Handler found on <Logger ctapipe.mytool (WARNING)>, setting log_format will have no effect\n",
      "  RuntimeWarning,\n"
     ]
    },
    {
     "name": "stderr",
     "output_type": "stream",
     "text": [
      "2020-11-13 15:18:12,676 \u001b[1;32mINFO\u001b[0m [ctapipe.mytool] (tool.initialize): ctapipe version 0.9.2.dev40+g2e3a5744\n"
     ]
    },
    {
     "name": "stderr",
     "output_type": "stream",
     "text": [
      "2020-11-13 15:18:12,677 \u001b[1;32mINFO\u001b[0m [ctapipe.mytool] (tool.run): Starting: mytool\n"
     ]
    },
    {
     "name": "stderr",
     "output_type": "stream",
     "text": [
      "2020-11-13 15:18:12,713 \u001b[1;32mINFO\u001b[0m [ctapipe.mytool] (<ipython-input-1-d7fc398e7046>.start): Performing 3 iterations...\n"
     ]
    },
    {
     "name": "stderr",
     "output_type": "stream",
     "text": [
      "2020-11-13 15:18:12,714 \u001b[1;32mINFO\u001b[0m [ctapipe.mytool] (<ipython-input-1-d7fc398e7046>.start): ITERATION 0\n"
     ]
    },
    {
     "name": "stderr",
     "output_type": "stream",
     "text": [
      "2020-11-13 15:18:12,817 \u001b[1;32mINFO\u001b[0m [ctapipe.mytool] (<ipython-input-1-d7fc398e7046>.start): ITERATION 1\n"
     ]
    },
    {
     "name": "stderr",
     "output_type": "stream",
     "text": [
      "2020-11-13 15:18:12,918 \u001b[1;32mINFO\u001b[0m [ctapipe.mytool] (<ipython-input-1-d7fc398e7046>.start): ITERATION 2\n"
     ]
    },
    {
     "name": "stderr",
     "output_type": "stream",
     "text": [
      "2020-11-13 15:18:13,019 \u001b[1;33mWARNING\u001b[0m [ctapipe.mytool] (<ipython-input-1-d7fc398e7046>.finish): Shutting down.\n"
     ]
    },
    {
     "name": "stderr",
     "output_type": "stream",
     "text": [
      "2020-11-13 15:18:13,020 \u001b[1;32mINFO\u001b[0m [ctapipe.mytool] (tool.run): Finished: mytool\n"
     ]
    },
    {
     "name": "stderr",
     "output_type": "stream",
     "text": [
      "2020-11-13 15:18:13,023 \u001b[1;32mINFO\u001b[0m [ctapipe.mytool] (tool.write_provenance): Output: \n"
     ]
    },
    {
     "name": "stderr",
     "output_type": "stream",
     "text": [
      "2020-11-13 15:18:13,023 \u001b[1;32mINFO\u001b[0m [ctapipe.mytool] (tool.write_provenance): Output: \n"
     ]
    }
   ],
   "source": [
    "tool.log_format = \"%(asctime)s : %(levelname)s [%(name)s %(funcName)s] %(message)s\" \n",
    "\n",
    "\n",
    "try:\n",
    "    tool.run(argv=['--log-level','INFO','--infile', GAMMA_FILE, '--iterations','3'])\n",
    "except SystemExit as e:\n",
    "    assert e.code == 0, f'Tool returned with error status {e}'"
   ]
  },
  {
   "cell_type": "markdown",
   "metadata": {},
   "source": [
    "here we change the log-level to DEBUG:"
   ]
  },
  {
   "cell_type": "code",
   "execution_count": 14,
   "metadata": {
    "execution": {
     "iopub.execute_input": "2020-11-13T15:18:13.037965Z",
     "iopub.status.busy": "2020-11-13T15:18:13.035064Z",
     "iopub.status.idle": "2020-11-13T15:18:13.409976Z",
     "shell.execute_reply": "2020-11-13T15:18:13.409481Z"
    },
    "scrolled": false
   },
   "outputs": [
    {
     "name": "stderr",
     "output_type": "stream",
     "text": [
      "2020-11-13 15:18:13,038 \u001b[1;34mDEBUG\u001b[0m [ctapipe.mytool] (application._config_changed): Config changed: {'AdvancedComponent': {'infile': '/home/travis/.cache/Python-Eggs/ctapipe_extra-0.3.1-py3.9.egg-tmp/ctapipe_resources/gamma_test.simtel.gz'}, 'attach_subarray': <LazyConfigValue {}>, 'MyTool': {'log_level': 'DEBUG', 'iterations': 3}}\n"
     ]
    },
    {
     "name": "stderr",
     "output_type": "stream",
     "text": [
      "2020-11-13 15:18:13,041 \u001b[1;32mINFO\u001b[0m [ctapipe.mytool] (tool.initialize): ctapipe version 0.9.2.dev40+g2e3a5744\n"
     ]
    },
    {
     "name": "stderr",
     "output_type": "stream",
     "text": [
      "2020-11-13 15:18:13,041 \u001b[1;32mINFO\u001b[0m [ctapipe.mytool] (tool.run): Starting: mytool\n"
     ]
    },
    {
     "name": "stderr",
     "output_type": "stream",
     "text": [
      "2020-11-13 15:18:13,073 \u001b[1;34mDEBUG\u001b[0m [ctapipe.core.provenance] (provenance.start_activity): started activity: mytool\n"
     ]
    },
    {
     "name": "stderr",
     "output_type": "stream",
     "text": [
      "2020-11-13 15:18:13,076 \u001b[1;34mDEBUG\u001b[0m [ctapipe.core.traits] (traits.attach_subarray): argument '*' matched: ['LST_LST_LSTCam', 'MST_MST_NectarCam']\n"
     ]
    },
    {
     "name": "stderr",
     "output_type": "stream",
     "text": [
      "2020-11-13 15:18:13,079 \u001b[1;34mDEBUG\u001b[0m [ctapipe.mytool] (tool.run): CONFIG: {'MyTool': {'config_file': None, 'iterations': 3, 'log_config': {'version': 1, 'disable_existing_loggers': False, 'formatters': {'file': {'()': <class 'ctapipe.core.logging.PlainFormatter'>, 'fmt': '%(asctime)s %(levelname)s [%(name)s] (%(module)s.%(funcName)s): %(message)s'}, 'console': {'()': <class 'ctapipe.core.logging.ColoredFormatter'>, 'fmt': '%(asctime)s %(levelname)s [%(name)s] (%(module)s.%(funcName)s): %(message)s'}}, 'handlers': {'ctapipe-console': {'class': 'logging.StreamHandler', 'formatter': 'console', 'stream': 'ext://sys.stderr', 'level': 10}, 'console': {'class': 'logging.StreamHandler', 'formatter': 'console', 'stream': 'ext://sys.stderr', 'level': 'NOTSET'}}, 'loggers': {'ctapipe': {'level': 10, 'handlers': ['ctapipe-console'], 'propagate': False}}}, 'log_datefmt': '%Y-%m-%d %H:%M:%S', 'log_file': None, 'log_file_level': 'INFO', 'log_format': '%(asctime)s : %(levelname)s [%(name)s %(funcName)s] %(message)s', 'log_level': 10, 'provenance_log': PosixPath('/home/travis/build/cta-observatory/ctapipe/docs/examples/mytool.provenance.log'), 'quiet': False, 'show_config': False, 'show_config_json': False, 'MyComponent': {'value': -1}, 'SecondaryMyComponent': {'value': -1}, 'TelescopeWiseComponent': {'param': [('type', '*', 5.0)]}, 'AdvancedComponent': {'infile': PosixPath('/home/travis/.cache/Python-Eggs/ctapipe_extra-0.3.1-py3.9.egg-tmp/ctapipe_resources/gamma_test.simtel.gz'), 'outfile': None, 'value1': -1, 'MyComponent': {'value': -1}}}}\n"
     ]
    },
    {
     "name": "stderr",
     "output_type": "stream",
     "text": [
      "2020-11-13 15:18:13,080 \u001b[1;32mINFO\u001b[0m [ctapipe.mytool] (<ipython-input-1-d7fc398e7046>.start): Performing 3 iterations...\n"
     ]
    },
    {
     "name": "stderr",
     "output_type": "stream",
     "text": [
      "2020-11-13 15:18:13,081 \u001b[1;32mINFO\u001b[0m [ctapipe.mytool] (<ipython-input-1-d7fc398e7046>.start): ITERATION 0\n"
     ]
    },
    {
     "name": "stderr",
     "output_type": "stream",
     "text": [
      "2020-11-13 15:18:13,082 \u001b[1;34mDEBUG\u001b[0m [ctapipe.mytool.MyComponent] (<ipython-input-1-a087b1827cdf>.do_thing): Did thing\n"
     ]
    },
    {
     "name": "stderr",
     "output_type": "stream",
     "text": [
      "2020-11-13 15:18:13,083 \u001b[1;34mDEBUG\u001b[0m [ctapipe.mytool.SecondaryMyComponent] (<ipython-input-1-a087b1827cdf>.do_thing): Did thing\n"
     ]
    },
    {
     "name": "stderr",
     "output_type": "stream",
     "text": [
      "2020-11-13 15:18:13,185 \u001b[1;32mINFO\u001b[0m [ctapipe.mytool] (<ipython-input-1-d7fc398e7046>.start): ITERATION 1\n"
     ]
    },
    {
     "name": "stderr",
     "output_type": "stream",
     "text": [
      "2020-11-13 15:18:13,186 \u001b[1;34mDEBUG\u001b[0m [ctapipe.mytool.MyComponent] (<ipython-input-1-a087b1827cdf>.do_thing): Did thing\n"
     ]
    },
    {
     "name": "stderr",
     "output_type": "stream",
     "text": [
      "2020-11-13 15:18:13,187 \u001b[1;34mDEBUG\u001b[0m [ctapipe.mytool.SecondaryMyComponent] (<ipython-input-1-a087b1827cdf>.do_thing): Did thing\n"
     ]
    },
    {
     "name": "stderr",
     "output_type": "stream",
     "text": [
      "2020-11-13 15:18:13,289 \u001b[1;32mINFO\u001b[0m [ctapipe.mytool] (<ipython-input-1-d7fc398e7046>.start): ITERATION 2\n"
     ]
    },
    {
     "name": "stderr",
     "output_type": "stream",
     "text": [
      "2020-11-13 15:18:13,290 \u001b[1;34mDEBUG\u001b[0m [ctapipe.mytool.MyComponent] (<ipython-input-1-a087b1827cdf>.do_thing): Did thing\n"
     ]
    },
    {
     "name": "stderr",
     "output_type": "stream",
     "text": [
      "2020-11-13 15:18:13,290 \u001b[1;34mDEBUG\u001b[0m [ctapipe.mytool.SecondaryMyComponent] (<ipython-input-1-a087b1827cdf>.do_thing): Did thing\n"
     ]
    },
    {
     "name": "stderr",
     "output_type": "stream",
     "text": [
      "2020-11-13 15:18:13,392 \u001b[1;33mWARNING\u001b[0m [ctapipe.mytool] (<ipython-input-1-d7fc398e7046>.finish): Shutting down.\n"
     ]
    },
    {
     "name": "stderr",
     "output_type": "stream",
     "text": [
      "2020-11-13 15:18:13,393 \u001b[1;32mINFO\u001b[0m [ctapipe.mytool] (tool.run): Finished: mytool\n"
     ]
    },
    {
     "name": "stderr",
     "output_type": "stream",
     "text": [
      "2020-11-13 15:18:13,396 \u001b[1;34mDEBUG\u001b[0m [ctapipe.core.provenance] (provenance.finish_activity): finished activity: mytool\n"
     ]
    },
    {
     "name": "stderr",
     "output_type": "stream",
     "text": [
      "2020-11-13 15:18:13,397 \u001b[1;32mINFO\u001b[0m [ctapipe.mytool] (tool.write_provenance): Output: \n"
     ]
    },
    {
     "name": "stderr",
     "output_type": "stream",
     "text": [
      "2020-11-13 15:18:13,398 \u001b[1;32mINFO\u001b[0m [ctapipe.mytool] (tool.write_provenance): Output: \n"
     ]
    },
    {
     "name": "stderr",
     "output_type": "stream",
     "text": [
      "2020-11-13 15:18:13,399 \u001b[1;32mINFO\u001b[0m [ctapipe.mytool] (tool.write_provenance): Output: \n"
     ]
    },
    {
     "name": "stderr",
     "output_type": "stream",
     "text": [
      "2020-11-13 15:18:13,401 \u001b[1;34mDEBUG\u001b[0m [ctapipe.mytool] (tool.write_provenance): PROVENANCE: '[\n",
      "   {\n",
      "      \"activity_name\": \"mytool\",\n",
      "      \"activity_uuid\": \"b7156c3e-2eb4-4628-a891-c5c01c9c35e0\",\n",
      "      \"start\": {\n",
      "         \"time_utc\": \"2020-11-13T15:18:12.122\"\n",
      "      },\n",
      "      \"stop\": {\n",
      "         \"time_utc\": \"2020-11-13T15:18:12.658\"\n",
      "      },\n",
      "      \"system\": {\n",
      "         \"ctapipe_version\": \"0.9.2.dev40+g2e3a5744\",\n",
      "         \"ctapipe_resources_version\": \"0.3.1\",\n",
      "         \"eventio_version\": \"1.4.2\",\n",
      "         \"ctapipe_svc_path\": null,\n",
      "         \"executable\": \"/home/travis/miniconda/envs/travis/bin/python\",\n",
      "         \"platform\": {\n",
      "            \"architecture_bits\": \"64bit\",\n",
      "            \"architecture_linkage\": \"\",\n",
      "            \"machine\": \"x86_64\",\n",
      "            \"processor\": \"x86_64\",\n",
      "            \"node\": \"travis-job-7012dc37-8b65-4b3d-8ad9-5079e9741538\",\n",
      "            \"version\": \"#31~18.04.1-Ubuntu SMP Mon Jun 22 15:24:52 UTC 2020\",\n",
      "            \"system\": \"Linux\",\n",
      "            \"release\": \"5.3.0-1029-gcp\",\n",
      "            \"libcver\": [\n",
      "               \"glibc\",\n",
      "               \"2.10\"\n",
      "            ],\n",
      "            \"num_cpus\": 2,\n",
      "            \"boot_time\": \"2020-11-13T15:07:45.000\"\n",
      "         },\n",
      "         \"python\": {\n",
      "            \"version_string\": \"3.7.7 (default, Mar 26 2020, 15:48:22) \\n[GCC 7.3.0]\",\n",
      "            \"version\": [\n",
      "               \"3\",\n",
      "               \"7\",\n",
      "               \"7\"\n",
      "            ],\n",
      "            \"compiler\": \"GCC 7.3.0\",\n",
      "            \"implementation\": \"CPython\"\n",
      "         },\n",
      "         \"environment\": {\n",
      "            \"CONDA_DEFAULT_ENV\": \"travis\",\n",
      "            \"CONDA_PREFIX\": \"/home/travis/miniconda/envs/travis\",\n",
      "            \"CONDA_PYTHON_EXE\": \"/home/travis/miniconda/bin/python\",\n",
      "            \"CONDA_EXE\": \"/home/travis/miniconda/bin/conda\",\n",
      "            \"CONDA_PROMPT_MODIFIER\": \"\",\n",
      "            \"CONDA_SHLVL\": \"1\",\n",
      "            \"PATH\": \"/home/travis/miniconda/envs/travis/bin:/home/travis/miniconda/condabin:/home/travis/bin:/home/travis/.local/bin:/usr/local/lib/jvm/openjdk11/bin:/opt/pyenv/shims:/home/travis/.phpenv/shims:/home/travis/perl5/perlbrew/bin:/home/travis/.nvm/versions/node/v10.16.0/bin:/home/travis/.kiex/elixirs/elixir-1.7.4/bin:/home/travis/.kiex/bin:/home/travis/.rvm/gems/ruby-2.6.5/bin:/home/travis/.rvm/gems/ruby-2.6.5@global/bin:/home/travis/.rvm/rubies/ruby-2.6.5/bin:/home/travis/gopath/bin:/home/travis/.gimme/versions/go1.11.1.linux.amd64/bin:/usr/local/maven-3.6.3/bin:/usr/local/cmake-3.12.4/bin:/usr/local/clang-7.0.0/bin:/usr/local/sbin:/usr/local/bin:/usr/sbin:/usr/bin:/sbin:/bin:/snap/bin:/home/travis/.rvm/bin:/home/travis/.phpenv/bin:/opt/pyenv/bin:/home/travis/.yarn/bin\",\n",
      "            \"LD_LIBRARY_PATH\": null,\n",
      "            \"DYLD_LIBRARY_PATH\": null,\n",
      "            \"USER\": \"travis\",\n",
      "            \"HOME\": \"/home/travis\",\n",
      "            \"SHELL\": \"/bin/bash\"\n",
      "         },\n",
      "         \"arguments\": [\n",
      "            \"/home/travis/miniconda/envs/travis/lib/python3.7/site-packages/ipykernel_launcher.py\",\n",
      "            \"-f\",\n",
      "            \"/tmp/tmp7gfsw8_a.json\",\n",
      "            \"--HistoryManager.hist_file=:memory:\"\n",
      "         ],\n",
      "         \"start_time_utc\": \"2020-11-13T15:18:12.151\"\n",
      "      },\n",
      "      \"input\": [],\n",
      "      \"output\": [],\n",
      "      \"config\": {\n",
      "         \"MyTool\": {\n",
      "            \"config_file\": null,\n",
      "            \"iterations\": 5,\n",
      "            \"log_config\": {\n",
      "               \"version\": 1,\n",
      "               \"disable_existing_loggers\": false,\n",
      "               \"formatters\": {\n",
      "                  \"file\": {\n",
      "                     \"()\": null,\n",
      "                     \"fmt\": \"%(asctime)s %(levelname)s [%(name)s] (%(module)s.%(funcName)s): %(message)s\"\n",
      "                  },\n",
      "                  \"console\": {\n",
      "                     \"()\": null,\n",
      "                     \"fmt\": \"%(asctime)s %(levelname)s [%(name)s] (%(module)s.%(funcName)s): %(message)s\"\n",
      "                  }\n",
      "               },\n",
      "               \"handlers\": {\n",
      "                  \"ctapipe-console\": {\n",
      "                     \"class\": \"logging.StreamHandler\",\n",
      "                     \"formatter\": \"console\",\n",
      "                     \"stream\": \"ext://sys.stderr\",\n",
      "                     \"level\": 10\n",
      "                  },\n",
      "                  \"console\": {\n",
      "                     \"class\": \"logging.StreamHandler\",\n",
      "                     \"formatter\": \"console\",\n",
      "                     \"stream\": \"ext://sys.stderr\",\n",
      "                     \"level\": \"NOTSET\"\n",
      "                  }\n",
      "               },\n",
      "               \"loggers\": {\n",
      "                  \"ctapipe\": {\n",
      "                     \"level\": 10,\n",
      "                     \"handlers\": [\n",
      "                        \"ctapipe-console\"\n",
      "                     ],\n",
      "                     \"propagate\": false\n",
      "                  }\n",
      "               }\n",
      "            },\n",
      "            \"log_datefmt\": \"%Y-%m-%d %H:%M:%S\",\n",
      "            \"log_file\": null,\n",
      "            \"log_file_level\": \"INFO\",\n",
      "            \"log_format\": \"[%(name)s]%(highlevel)s %(message)s\",\n",
      "            \"log_level\": 30,\n",
      "            \"provenance_log\": \"/home/travis/build/cta-observatory/ctapipe/docs/examples/mytool.provenance.log\",\n",
      "            \"quiet\": false,\n",
      "            \"show_config\": false,\n",
      "            \"show_config_json\": false,\n",
      "            \"MyComponent\": {\n",
      "               \"value\": -1\n",
      "            },\n",
      "            \"SecondaryMyComponent\": {\n",
      "               \"value\": -1\n",
      "            },\n",
      "            \"TelescopeWiseComponent\": {\n",
      "               \"param\": [\n",
      "                  [\n",
      "                     \"type\",\n",
      "                     \"*\",\n",
      "                     5.0\n",
      "                  ]\n",
      "               ]\n",
      "            },\n",
      "            \"AdvancedComponent\": {\n",
      "               \"infile\": \"/home/travis/.cache/Python-Eggs/ctapipe_extra-0.3.1-py3.9.egg-tmp/ctapipe_resources/gamma_test.simtel.gz\",\n",
      "               \"outfile\": null,\n",
      "               \"value1\": -1,\n",
      "               \"MyComponent\": {\n",
      "                  \"value\": -1\n",
      "               }\n",
      "            }\n",
      "         }\n",
      "      },\n",
      "      \"status\": \"completed\",\n",
      "      \"duration_min\": 0.008933333333391857\n",
      "   },\n",
      "   {\n",
      "      \"activity_name\": \"mytool\",\n",
      "      \"activity_uuid\": \"0e6b7565-867b-47e2-9af3-88a15d79348b\",\n",
      "      \"start\": {\n",
      "         \"time_utc\": \"2020-11-13T15:18:12.679\"\n",
      "      },\n",
      "      \"stop\": {\n",
      "         \"time_utc\": \"2020-11-13T15:18:13.021\"\n",
      "      },\n",
      "      \"system\": {\n",
      "         \"ctapipe_version\": \"0.9.2.dev40+g2e3a5744\",\n",
      "         \"ctapipe_resources_version\": \"0.3.1\",\n",
      "         \"eventio_version\": \"1.4.2\",\n",
      "         \"ctapipe_svc_path\": null,\n",
      "         \"executable\": \"/home/travis/miniconda/envs/travis/bin/python\",\n",
      "         \"platform\": {\n",
      "            \"architecture_bits\": \"64bit\",\n",
      "            \"architecture_linkage\": \"\",\n",
      "            \"machine\": \"x86_64\",\n",
      "            \"processor\": \"x86_64\",\n",
      "            \"node\": \"travis-job-7012dc37-8b65-4b3d-8ad9-5079e9741538\",\n",
      "            \"version\": \"#31~18.04.1-Ubuntu SMP Mon Jun 22 15:24:52 UTC 2020\",\n",
      "            \"system\": \"Linux\",\n",
      "            \"release\": \"5.3.0-1029-gcp\",\n",
      "            \"libcver\": [\n",
      "               \"glibc\",\n",
      "               \"2.10\"\n",
      "            ],\n",
      "            \"num_cpus\": 2,\n",
      "            \"boot_time\": \"2020-11-13T15:07:45.000\"\n",
      "         },\n",
      "         \"python\": {\n",
      "            \"version_string\": \"3.7.7 (default, Mar 26 2020, 15:48:22) \\n[GCC 7.3.0]\",\n",
      "            \"version\": [\n",
      "               \"3\",\n",
      "               \"7\",\n",
      "               \"7\"\n",
      "            ],\n",
      "            \"compiler\": \"GCC 7.3.0\",\n",
      "            \"implementation\": \"CPython\"\n",
      "         },\n",
      "         \"environment\": {\n",
      "            \"CONDA_DEFAULT_ENV\": \"travis\",\n",
      "            \"CONDA_PREFIX\": \"/home/travis/miniconda/envs/travis\",\n",
      "            \"CONDA_PYTHON_EXE\": \"/home/travis/miniconda/bin/python\",\n",
      "            \"CONDA_EXE\": \"/home/travis/miniconda/bin/conda\",\n",
      "            \"CONDA_PROMPT_MODIFIER\": \"\",\n",
      "            \"CONDA_SHLVL\": \"1\",\n",
      "            \"PATH\": \"/home/travis/miniconda/envs/travis/bin:/home/travis/miniconda/condabin:/home/travis/bin:/home/travis/.local/bin:/usr/local/lib/jvm/openjdk11/bin:/opt/pyenv/shims:/home/travis/.phpenv/shims:/home/travis/perl5/perlbrew/bin:/home/travis/.nvm/versions/node/v10.16.0/bin:/home/travis/.kiex/elixirs/elixir-1.7.4/bin:/home/travis/.kiex/bin:/home/travis/.rvm/gems/ruby-2.6.5/bin:/home/travis/.rvm/gems/ruby-2.6.5@global/bin:/home/travis/.rvm/rubies/ruby-2.6.5/bin:/home/travis/gopath/bin:/home/travis/.gimme/versions/go1.11.1.linux.amd64/bin:/usr/local/maven-3.6.3/bin:/usr/local/cmake-3.12.4/bin:/usr/local/clang-7.0.0/bin:/usr/local/sbin:/usr/local/bin:/usr/sbin:/usr/bin:/sbin:/bin:/snap/bin:/home/travis/.rvm/bin:/home/travis/.phpenv/bin:/opt/pyenv/bin:/home/travis/.yarn/bin\",\n",
      "            \"LD_LIBRARY_PATH\": null,\n",
      "            \"DYLD_LIBRARY_PATH\": null,\n",
      "            \"USER\": \"travis\",\n",
      "            \"HOME\": \"/home/travis\",\n",
      "            \"SHELL\": \"/bin/bash\"\n",
      "         },\n",
      "         \"arguments\": [\n",
      "            \"/home/travis/miniconda/envs/travis/lib/python3.7/site-packages/ipykernel_launcher.py\",\n",
      "            \"-f\",\n",
      "            \"/tmp/tmp7gfsw8_a.json\",\n",
      "            \"--HistoryManager.hist_file=:memory:\"\n",
      "         ],\n",
      "         \"start_time_utc\": \"2020-11-13T15:18:12.709\"\n",
      "      },\n",
      "      \"input\": [],\n",
      "      \"output\": [],\n",
      "      \"config\": {\n",
      "         \"MyTool\": {\n",
      "            \"config_file\": null,\n",
      "            \"iterations\": 3,\n",
      "            \"log_config\": {\n",
      "               \"version\": 1,\n",
      "               \"disable_existing_loggers\": false,\n",
      "               \"formatters\": {\n",
      "                  \"file\": {\n",
      "                     \"()\": null,\n",
      "                     \"fmt\": \"%(asctime)s %(levelname)s [%(name)s] (%(module)s.%(funcName)s): %(message)s\"\n",
      "                  },\n",
      "                  \"console\": {\n",
      "                     \"()\": null,\n",
      "                     \"fmt\": \"%(asctime)s %(levelname)s [%(name)s] (%(module)s.%(funcName)s): %(message)s\"\n",
      "                  }\n",
      "               },\n",
      "               \"handlers\": {\n",
      "                  \"ctapipe-console\": {\n",
      "                     \"class\": \"logging.StreamHandler\",\n",
      "                     \"formatter\": \"console\",\n",
      "                     \"stream\": \"ext://sys.stderr\",\n",
      "                     \"level\": 10\n",
      "                  },\n",
      "                  \"console\": {\n",
      "                     \"class\": \"logging.StreamHandler\",\n",
      "                     \"formatter\": \"console\",\n",
      "                     \"stream\": \"ext://sys.stderr\",\n",
      "                     \"level\": \"NOTSET\"\n",
      "                  }\n",
      "               },\n",
      "               \"loggers\": {\n",
      "                  \"ctapipe\": {\n",
      "                     \"level\": 10,\n",
      "                     \"handlers\": [\n",
      "                        \"ctapipe-console\"\n",
      "                     ],\n",
      "                     \"propagate\": false\n",
      "                  }\n",
      "               }\n",
      "            },\n",
      "            \"log_datefmt\": \"%Y-%m-%d %H:%M:%S\",\n",
      "            \"log_file\": null,\n",
      "            \"log_file_level\": \"INFO\",\n",
      "            \"log_format\": \"%(asctime)s : %(levelname)s [%(name)s %(funcName)s] %(message)s\",\n",
      "            \"log_level\": 20,\n",
      "            \"provenance_log\": \"/home/travis/build/cta-observatory/ctapipe/docs/examples/mytool.provenance.log\",\n",
      "            \"quiet\": false,\n",
      "            \"show_config\": false,\n",
      "            \"show_config_json\": false,\n",
      "            \"MyComponent\": {\n",
      "               \"value\": -1\n",
      "            },\n",
      "            \"SecondaryMyComponent\": {\n",
      "               \"value\": -1\n",
      "            },\n",
      "            \"TelescopeWiseComponent\": {\n",
      "               \"param\": [\n",
      "                  [\n",
      "                     \"type\",\n",
      "                     \"*\",\n",
      "                     5.0\n",
      "                  ]\n",
      "               ]\n",
      "            },\n",
      "            \"AdvancedComponent\": {\n",
      "               \"infile\": \"/home/travis/.cache/Python-Eggs/ctapipe_extra-0.3.1-py3.9.egg-tmp/ctapipe_resources/gamma_test.simtel.gz\",\n",
      "               \"outfile\": null,\n",
      "               \"value1\": -1,\n",
      "               \"MyComponent\": {\n",
      "                  \"value\": -1\n",
      "               }\n",
      "            }\n",
      "         }\n",
      "      },\n",
      "      \"status\": \"completed\",\n",
      "      \"duration_min\": 0.005699999999997374\n",
      "   },\n",
      "   {\n",
      "      \"activity_name\": \"mytool\",\n",
      "      \"activity_uuid\": \"9b2ce921-cb45-4ba6-88af-c7d0cecd70c2\",\n",
      "      \"start\": {\n",
      "         \"time_utc\": \"2020-11-13T15:18:13.043\"\n",
      "      },\n",
      "      \"stop\": {\n",
      "         \"time_utc\": \"2020-11-13T15:18:13.396\"\n",
      "      },\n",
      "      \"system\": {\n",
      "         \"ctapipe_version\": \"0.9.2.dev40+g2e3a5744\",\n",
      "         \"ctapipe_resources_version\": \"0.3.1\",\n",
      "         \"eventio_version\": \"1.4.2\",\n",
      "         \"ctapipe_svc_path\": null,\n",
      "         \"executable\": \"/home/travis/miniconda/envs/travis/bin/python\",\n",
      "         \"platform\": {\n",
      "            \"architecture_bits\": \"64bit\",\n",
      "            \"architecture_linkage\": \"\",\n",
      "            \"machine\": \"x86_64\",\n",
      "            \"processor\": \"x86_64\",\n",
      "            \"node\": \"travis-job-7012dc37-8b65-4b3d-8ad9-5079e9741538\",\n",
      "            \"version\": \"#31~18.04.1-Ubuntu SMP Mon Jun 22 15:24:52 UTC 2020\",\n",
      "            \"system\": \"Linux\",\n",
      "            \"release\": \"5.3.0-1029-gcp\",\n",
      "            \"libcver\": [\n",
      "               \"glibc\",\n",
      "               \"2.10\"\n",
      "            ],\n",
      "            \"num_cpus\": 2,\n",
      "            \"boot_time\": \"2020-11-13T15:07:45.000\"\n",
      "         },\n",
      "         \"python\": {\n",
      "            \"version_string\": \"3.7.7 (default, Mar 26 2020, 15:48:22) \\n[GCC 7.3.0]\",\n",
      "            \"version\": [\n",
      "               \"3\",\n",
      "               \"7\",\n",
      "               \"7\"\n",
      "            ],\n",
      "            \"compiler\": \"GCC 7.3.0\",\n",
      "            \"implementation\": \"CPython\"\n",
      "         },\n",
      "         \"environment\": {\n",
      "            \"CONDA_DEFAULT_ENV\": \"travis\",\n",
      "            \"CONDA_PREFIX\": \"/home/travis/miniconda/envs/travis\",\n",
      "            \"CONDA_PYTHON_EXE\": \"/home/travis/miniconda/bin/python\",\n",
      "            \"CONDA_EXE\": \"/home/travis/miniconda/bin/conda\",\n",
      "            \"CONDA_PROMPT_MODIFIER\": \"\",\n",
      "            \"CONDA_SHLVL\": \"1\",\n",
      "            \"PATH\": \"/home/travis/miniconda/envs/travis/bin:/home/travis/miniconda/condabin:/home/travis/bin:/home/travis/.local/bin:/usr/local/lib/jvm/openjdk11/bin:/opt/pyenv/shims:/home/travis/.phpenv/shims:/home/travis/perl5/perlbrew/bin:/home/travis/.nvm/versions/node/v10.16.0/bin:/home/travis/.kiex/elixirs/elixir-1.7.4/bin:/home/travis/.kiex/bin:/home/travis/.rvm/gems/ruby-2.6.5/bin:/home/travis/.rvm/gems/ruby-2.6.5@global/bin:/home/travis/.rvm/rubies/ruby-2.6.5/bin:/home/travis/gopath/bin:/home/travis/.gimme/versions/go1.11.1.linux.amd64/bin:/usr/local/maven-3.6.3/bin:/usr/local/cmake-3.12.4/bin:/usr/local/clang-7.0.0/bin:/usr/local/sbin:/usr/local/bin:/usr/sbin:/usr/bin:/sbin:/bin:/snap/bin:/home/travis/.rvm/bin:/home/travis/.phpenv/bin:/opt/pyenv/bin:/home/travis/.yarn/bin\",\n",
      "            \"LD_LIBRARY_PATH\": null,\n",
      "            \"DYLD_LIBRARY_PATH\": null,\n",
      "            \"USER\": \"travis\",\n",
      "            \"HOME\": \"/home/travis\",\n",
      "            \"SHELL\": \"/bin/bash\"\n",
      "         },\n",
      "         \"arguments\": [\n",
      "            \"/home/travis/miniconda/envs/travis/lib/python3.7/site-packages/ipykernel_launcher.py\",\n",
      "            \"-f\",\n",
      "            \"/tmp/tmp7gfsw8_a.json\",\n",
      "            \"--HistoryManager.hist_file=:memory:\"\n",
      "         ],\n",
      "         \"start_time_utc\": \"2020-11-13T15:18:13.074\"\n",
      "      },\n",
      "      \"input\": [],\n",
      "      \"output\": [],\n",
      "      \"config\": {\n",
      "         \"MyTool\": {\n",
      "            \"config_file\": null,\n",
      "            \"iterations\": 3,\n",
      "            \"log_config\": {\n",
      "               \"version\": 1,\n",
      "               \"disable_existing_loggers\": false,\n",
      "               \"formatters\": {\n",
      "                  \"file\": {\n",
      "                     \"()\": null,\n",
      "                     \"fmt\": \"%(asctime)s %(levelname)s [%(name)s] (%(module)s.%(funcName)s): %(message)s\"\n",
      "                  },\n",
      "                  \"console\": {\n",
      "                     \"()\": null,\n",
      "                     \"fmt\": \"%(asctime)s %(levelname)s [%(name)s] (%(module)s.%(funcName)s): %(message)s\"\n",
      "                  }\n",
      "               },\n",
      "               \"handlers\": {\n",
      "                  \"ctapipe-console\": {\n",
      "                     \"class\": \"logging.StreamHandler\",\n",
      "                     \"formatter\": \"console\",\n",
      "                     \"stream\": \"ext://sys.stderr\",\n",
      "                     \"level\": 10\n",
      "                  },\n",
      "                  \"console\": {\n",
      "                     \"class\": \"logging.StreamHandler\",\n",
      "                     \"formatter\": \"console\",\n",
      "                     \"stream\": \"ext://sys.stderr\",\n",
      "                     \"level\": \"NOTSET\"\n",
      "                  }\n",
      "               },\n",
      "               \"loggers\": {\n",
      "                  \"ctapipe\": {\n",
      "                     \"level\": 10,\n",
      "                     \"handlers\": [\n",
      "                        \"ctapipe-console\"\n",
      "                     ],\n",
      "                     \"propagate\": false\n",
      "                  }\n",
      "               }\n",
      "            },\n",
      "            \"log_datefmt\": \"%Y-%m-%d %H:%M:%S\",\n",
      "            \"log_file\": null,\n",
      "            \"log_file_level\": \"INFO\",\n",
      "            \"log_format\": \"%(asctime)s : %(levelname)s [%(name)s %(funcName)s] %(message)s\",\n",
      "            \"log_level\": 10,\n",
      "            \"provenance_log\": \"/home/travis/build/cta-observatory/ctapipe/docs/examples/mytool.provenance.log\",\n",
      "            \"quiet\": false,\n",
      "            \"show_config\": false,\n",
      "            \"show_config_json\": false,\n",
      "            \"MyComponent\": {\n",
      "               \"value\": -1\n",
      "            },\n",
      "            \"SecondaryMyComponent\": {\n",
      "               \"value\": -1\n",
      "            },\n",
      "            \"TelescopeWiseComponent\": {\n",
      "               \"param\": [\n",
      "                  [\n",
      "                     \"type\",\n",
      "                     \"*\",\n",
      "                     5.0\n",
      "                  ]\n",
      "               ]\n",
      "            },\n",
      "            \"AdvancedComponent\": {\n",
      "               \"infile\": \"/home/travis/.cache/Python-Eggs/ctapipe_extra-0.3.1-py3.9.egg-tmp/ctapipe_resources/gamma_test.simtel.gz\",\n",
      "               \"outfile\": null,\n",
      "               \"value1\": -1,\n",
      "               \"MyComponent\": {\n",
      "                  \"value\": -1\n",
      "               }\n",
      "            }\n",
      "         }\n",
      "      },\n",
      "      \"status\": \"completed\",\n",
      "      \"duration_min\": 0.005883333333471796\n",
      "   }\n",
      "]'\n"
     ]
    },
    {
     "name": "stderr",
     "output_type": "stream",
     "text": [
      "2020-11-13 15:18:13,404 \u001b[1;34mDEBUG\u001b[0m [ctapipe.mytool] (application.exit): Exiting application: mytool\n"
     ]
    }
   ],
   "source": [
    "try:\n",
    "    tool.run(argv=['--log-level','DEBUG','--infile', GAMMA_FILE])\n",
    "except SystemExit as e:\n",
    "    assert e.code == 0, f'Tool returned with error status {e}'"
   ]
  },
  {
   "cell_type": "markdown",
   "metadata": {},
   "source": [
    "you can also set parameters directly in the class, rather than using the argument/configfile parser. This is useful if you are calling the Tool from a script rather than the command-line"
   ]
  },
  {
   "cell_type": "code",
   "execution_count": 15,
   "metadata": {
    "execution": {
     "iopub.execute_input": "2020-11-13T15:18:13.418611Z",
     "iopub.status.busy": "2020-11-13T15:18:13.417901Z",
     "iopub.status.idle": "2020-11-13T15:18:13.790633Z",
     "shell.execute_reply": "2020-11-13T15:18:13.790164Z"
    },
    "scrolled": false
   },
   "outputs": [
    {
     "name": "stderr",
     "output_type": "stream",
     "text": [
      "2020-11-13 15:18:13,416 \u001b[1;34mDEBUG\u001b[0m [ctapipe.mytool] (application._config_changed): Config changed: {'AdvancedComponent': {'infile': '/home/travis/.cache/Python-Eggs/ctapipe_extra-0.3.1-py3.9.egg-tmp/ctapipe_resources/gamma_test.simtel.gz'}, 'attach_subarray': <LazyConfigValue {}>, 'MyTool': {'log_level': 'DEBUG', 'iterations': 3}}\n"
     ]
    },
    {
     "name": "stderr",
     "output_type": "stream",
     "text": [
      "2020-11-13 15:18:13,419 \u001b[1;34mDEBUG\u001b[0m [ctapipe.mytool] (application._config_changed): Config changed: {'AdvancedComponent': {'infile': '/home/travis/.cache/Python-Eggs/ctapipe_extra-0.3.1-py3.9.egg-tmp/ctapipe_resources/gamma_test.simtel.gz'}, 'attach_subarray': <LazyConfigValue {}>, 'MyTool': {'log_level': 'DEBUG', 'iterations': 3}}\n"
     ]
    },
    {
     "name": "stderr",
     "output_type": "stream",
     "text": [
      "2020-11-13 15:18:13,420 \u001b[1;32mINFO\u001b[0m [ctapipe.mytool] (tool.initialize): ctapipe version 0.9.2.dev40+g2e3a5744\n"
     ]
    },
    {
     "name": "stderr",
     "output_type": "stream",
     "text": [
      "2020-11-13 15:18:13,421 \u001b[1;32mINFO\u001b[0m [ctapipe.mytool] (tool.run): Starting: mytool\n"
     ]
    },
    {
     "name": "stderr",
     "output_type": "stream",
     "text": [
      "2020-11-13 15:18:13,452 \u001b[1;34mDEBUG\u001b[0m [ctapipe.core.provenance] (provenance.start_activity): started activity: mytool\n"
     ]
    },
    {
     "name": "stderr",
     "output_type": "stream",
     "text": [
      "2020-11-13 15:18:13,455 \u001b[1;34mDEBUG\u001b[0m [ctapipe.core.traits] (traits.attach_subarray): argument '*' matched: ['LST_LST_LSTCam', 'MST_MST_NectarCam']\n"
     ]
    },
    {
     "name": "stderr",
     "output_type": "stream",
     "text": [
      "2020-11-13 15:18:13,458 \u001b[1;34mDEBUG\u001b[0m [ctapipe.mytool] (tool.run): CONFIG: {'MyTool': {'config_file': None, 'iterations': 3, 'log_config': {'version': 1, 'disable_existing_loggers': False, 'formatters': {'file': {'()': <class 'ctapipe.core.logging.PlainFormatter'>, 'fmt': '%(asctime)s %(levelname)s [%(name)s] (%(module)s.%(funcName)s): %(message)s'}, 'console': {'()': <class 'ctapipe.core.logging.ColoredFormatter'>, 'fmt': '%(asctime)s %(levelname)s [%(name)s] (%(module)s.%(funcName)s): %(message)s'}}, 'handlers': {'ctapipe-console': {'class': 'logging.StreamHandler', 'formatter': 'console', 'stream': 'ext://sys.stderr', 'level': 10}, 'console': {'class': 'logging.StreamHandler', 'formatter': 'console', 'stream': 'ext://sys.stderr', 'level': 'NOTSET'}}, 'loggers': {'ctapipe': {'level': 10, 'handlers': ['ctapipe-console'], 'propagate': False}}}, 'log_datefmt': '%Y-%m-%d %H:%M:%S', 'log_file': None, 'log_file_level': 'INFO', 'log_format': '%(asctime)s : %(levelname)s [%(name)s %(funcName)s] %(message)s', 'log_level': 10, 'provenance_log': PosixPath('/home/travis/build/cta-observatory/ctapipe/docs/examples/mytool.provenance.log'), 'quiet': False, 'show_config': False, 'show_config_json': False, 'MyComponent': {'value': -1}, 'SecondaryMyComponent': {'value': -1}, 'TelescopeWiseComponent': {'param': [('type', '*', 5.0)]}, 'AdvancedComponent': {'infile': PosixPath('/home/travis/.cache/Python-Eggs/ctapipe_extra-0.3.1-py3.9.egg-tmp/ctapipe_resources/gamma_test.simtel.gz'), 'outfile': None, 'value1': -1, 'MyComponent': {'value': -1}}}}\n"
     ]
    },
    {
     "name": "stderr",
     "output_type": "stream",
     "text": [
      "2020-11-13 15:18:13,459 \u001b[1;32mINFO\u001b[0m [ctapipe.mytool] (<ipython-input-1-d7fc398e7046>.start): Performing 3 iterations...\n"
     ]
    },
    {
     "name": "stderr",
     "output_type": "stream",
     "text": [
      "2020-11-13 15:18:13,460 \u001b[1;32mINFO\u001b[0m [ctapipe.mytool] (<ipython-input-1-d7fc398e7046>.start): ITERATION 0\n"
     ]
    },
    {
     "name": "stderr",
     "output_type": "stream",
     "text": [
      "2020-11-13 15:18:13,462 \u001b[1;34mDEBUG\u001b[0m [ctapipe.mytool.MyComponent] (<ipython-input-1-a087b1827cdf>.do_thing): Did thing\n"
     ]
    },
    {
     "name": "stderr",
     "output_type": "stream",
     "text": [
      "2020-11-13 15:18:13,463 \u001b[1;34mDEBUG\u001b[0m [ctapipe.mytool.SecondaryMyComponent] (<ipython-input-1-a087b1827cdf>.do_thing): Did thing\n"
     ]
    },
    {
     "name": "stderr",
     "output_type": "stream",
     "text": [
      "2020-11-13 15:18:13,565 \u001b[1;32mINFO\u001b[0m [ctapipe.mytool] (<ipython-input-1-d7fc398e7046>.start): ITERATION 1\n"
     ]
    },
    {
     "name": "stderr",
     "output_type": "stream",
     "text": [
      "2020-11-13 15:18:13,566 \u001b[1;34mDEBUG\u001b[0m [ctapipe.mytool.MyComponent] (<ipython-input-1-a087b1827cdf>.do_thing): Did thing\n"
     ]
    },
    {
     "name": "stderr",
     "output_type": "stream",
     "text": [
      "2020-11-13 15:18:13,568 \u001b[1;34mDEBUG\u001b[0m [ctapipe.mytool.SecondaryMyComponent] (<ipython-input-1-a087b1827cdf>.do_thing): Did thing\n"
     ]
    },
    {
     "name": "stderr",
     "output_type": "stream",
     "text": [
      "2020-11-13 15:18:13,668 \u001b[1;32mINFO\u001b[0m [ctapipe.mytool] (<ipython-input-1-d7fc398e7046>.start): ITERATION 2\n"
     ]
    },
    {
     "name": "stderr",
     "output_type": "stream",
     "text": [
      "2020-11-13 15:18:13,669 \u001b[1;34mDEBUG\u001b[0m [ctapipe.mytool.MyComponent] (<ipython-input-1-a087b1827cdf>.do_thing): Did thing\n"
     ]
    },
    {
     "name": "stderr",
     "output_type": "stream",
     "text": [
      "2020-11-13 15:18:13,671 \u001b[1;34mDEBUG\u001b[0m [ctapipe.mytool.SecondaryMyComponent] (<ipython-input-1-a087b1827cdf>.do_thing): Did thing\n"
     ]
    },
    {
     "name": "stderr",
     "output_type": "stream",
     "text": [
      "2020-11-13 15:18:13,772 \u001b[1;33mWARNING\u001b[0m [ctapipe.mytool] (<ipython-input-1-d7fc398e7046>.finish): Shutting down.\n"
     ]
    },
    {
     "name": "stderr",
     "output_type": "stream",
     "text": [
      "2020-11-13 15:18:13,773 \u001b[1;32mINFO\u001b[0m [ctapipe.mytool] (tool.run): Finished: mytool\n"
     ]
    },
    {
     "name": "stderr",
     "output_type": "stream",
     "text": [
      "2020-11-13 15:18:13,775 \u001b[1;34mDEBUG\u001b[0m [ctapipe.core.provenance] (provenance.finish_activity): finished activity: mytool\n"
     ]
    },
    {
     "name": "stderr",
     "output_type": "stream",
     "text": [
      "2020-11-13 15:18:13,777 \u001b[1;32mINFO\u001b[0m [ctapipe.mytool] (tool.write_provenance): Output: \n"
     ]
    },
    {
     "name": "stderr",
     "output_type": "stream",
     "text": [
      "2020-11-13 15:18:13,778 \u001b[1;32mINFO\u001b[0m [ctapipe.mytool] (tool.write_provenance): Output: \n"
     ]
    },
    {
     "name": "stderr",
     "output_type": "stream",
     "text": [
      "2020-11-13 15:18:13,779 \u001b[1;32mINFO\u001b[0m [ctapipe.mytool] (tool.write_provenance): Output: \n"
     ]
    },
    {
     "name": "stderr",
     "output_type": "stream",
     "text": [
      "2020-11-13 15:18:13,779 \u001b[1;32mINFO\u001b[0m [ctapipe.mytool] (tool.write_provenance): Output: \n"
     ]
    },
    {
     "name": "stderr",
     "output_type": "stream",
     "text": [
      "2020-11-13 15:18:13,781 \u001b[1;34mDEBUG\u001b[0m [ctapipe.mytool] (tool.write_provenance): PROVENANCE: '[\n",
      "   {\n",
      "      \"activity_name\": \"mytool\",\n",
      "      \"activity_uuid\": \"b7156c3e-2eb4-4628-a891-c5c01c9c35e0\",\n",
      "      \"start\": {\n",
      "         \"time_utc\": \"2020-11-13T15:18:12.122\"\n",
      "      },\n",
      "      \"stop\": {\n",
      "         \"time_utc\": \"2020-11-13T15:18:12.658\"\n",
      "      },\n",
      "      \"system\": {\n",
      "         \"ctapipe_version\": \"0.9.2.dev40+g2e3a5744\",\n",
      "         \"ctapipe_resources_version\": \"0.3.1\",\n",
      "         \"eventio_version\": \"1.4.2\",\n",
      "         \"ctapipe_svc_path\": null,\n",
      "         \"executable\": \"/home/travis/miniconda/envs/travis/bin/python\",\n",
      "         \"platform\": {\n",
      "            \"architecture_bits\": \"64bit\",\n",
      "            \"architecture_linkage\": \"\",\n",
      "            \"machine\": \"x86_64\",\n",
      "            \"processor\": \"x86_64\",\n",
      "            \"node\": \"travis-job-7012dc37-8b65-4b3d-8ad9-5079e9741538\",\n",
      "            \"version\": \"#31~18.04.1-Ubuntu SMP Mon Jun 22 15:24:52 UTC 2020\",\n",
      "            \"system\": \"Linux\",\n",
      "            \"release\": \"5.3.0-1029-gcp\",\n",
      "            \"libcver\": [\n",
      "               \"glibc\",\n",
      "               \"2.10\"\n",
      "            ],\n",
      "            \"num_cpus\": 2,\n",
      "            \"boot_time\": \"2020-11-13T15:07:45.000\"\n",
      "         },\n",
      "         \"python\": {\n",
      "            \"version_string\": \"3.7.7 (default, Mar 26 2020, 15:48:22) \\n[GCC 7.3.0]\",\n",
      "            \"version\": [\n",
      "               \"3\",\n",
      "               \"7\",\n",
      "               \"7\"\n",
      "            ],\n",
      "            \"compiler\": \"GCC 7.3.0\",\n",
      "            \"implementation\": \"CPython\"\n",
      "         },\n",
      "         \"environment\": {\n",
      "            \"CONDA_DEFAULT_ENV\": \"travis\",\n",
      "            \"CONDA_PREFIX\": \"/home/travis/miniconda/envs/travis\",\n",
      "            \"CONDA_PYTHON_EXE\": \"/home/travis/miniconda/bin/python\",\n",
      "            \"CONDA_EXE\": \"/home/travis/miniconda/bin/conda\",\n",
      "            \"CONDA_PROMPT_MODIFIER\": \"\",\n",
      "            \"CONDA_SHLVL\": \"1\",\n",
      "            \"PATH\": \"/home/travis/miniconda/envs/travis/bin:/home/travis/miniconda/condabin:/home/travis/bin:/home/travis/.local/bin:/usr/local/lib/jvm/openjdk11/bin:/opt/pyenv/shims:/home/travis/.phpenv/shims:/home/travis/perl5/perlbrew/bin:/home/travis/.nvm/versions/node/v10.16.0/bin:/home/travis/.kiex/elixirs/elixir-1.7.4/bin:/home/travis/.kiex/bin:/home/travis/.rvm/gems/ruby-2.6.5/bin:/home/travis/.rvm/gems/ruby-2.6.5@global/bin:/home/travis/.rvm/rubies/ruby-2.6.5/bin:/home/travis/gopath/bin:/home/travis/.gimme/versions/go1.11.1.linux.amd64/bin:/usr/local/maven-3.6.3/bin:/usr/local/cmake-3.12.4/bin:/usr/local/clang-7.0.0/bin:/usr/local/sbin:/usr/local/bin:/usr/sbin:/usr/bin:/sbin:/bin:/snap/bin:/home/travis/.rvm/bin:/home/travis/.phpenv/bin:/opt/pyenv/bin:/home/travis/.yarn/bin\",\n",
      "            \"LD_LIBRARY_PATH\": null,\n",
      "            \"DYLD_LIBRARY_PATH\": null,\n",
      "            \"USER\": \"travis\",\n",
      "            \"HOME\": \"/home/travis\",\n",
      "            \"SHELL\": \"/bin/bash\"\n",
      "         },\n",
      "         \"arguments\": [\n",
      "            \"/home/travis/miniconda/envs/travis/lib/python3.7/site-packages/ipykernel_launcher.py\",\n",
      "            \"-f\",\n",
      "            \"/tmp/tmp7gfsw8_a.json\",\n",
      "            \"--HistoryManager.hist_file=:memory:\"\n",
      "         ],\n",
      "         \"start_time_utc\": \"2020-11-13T15:18:12.151\"\n",
      "      },\n",
      "      \"input\": [],\n",
      "      \"output\": [],\n",
      "      \"config\": {\n",
      "         \"MyTool\": {\n",
      "            \"config_file\": null,\n",
      "            \"iterations\": 5,\n",
      "            \"log_config\": {\n",
      "               \"version\": 1,\n",
      "               \"disable_existing_loggers\": false,\n",
      "               \"formatters\": {\n",
      "                  \"file\": {\n",
      "                     \"()\": null,\n",
      "                     \"fmt\": \"%(asctime)s %(levelname)s [%(name)s] (%(module)s.%(funcName)s): %(message)s\"\n",
      "                  },\n",
      "                  \"console\": {\n",
      "                     \"()\": null,\n",
      "                     \"fmt\": \"%(asctime)s %(levelname)s [%(name)s] (%(module)s.%(funcName)s): %(message)s\"\n",
      "                  }\n",
      "               },\n",
      "               \"handlers\": {\n",
      "                  \"ctapipe-console\": {\n",
      "                     \"class\": \"logging.StreamHandler\",\n",
      "                     \"formatter\": \"console\",\n",
      "                     \"stream\": \"ext://sys.stderr\",\n",
      "                     \"level\": 10\n",
      "                  },\n",
      "                  \"console\": {\n",
      "                     \"class\": \"logging.StreamHandler\",\n",
      "                     \"formatter\": \"console\",\n",
      "                     \"stream\": \"ext://sys.stderr\",\n",
      "                     \"level\": \"NOTSET\"\n",
      "                  }\n",
      "               },\n",
      "               \"loggers\": {\n",
      "                  \"ctapipe\": {\n",
      "                     \"level\": 10,\n",
      "                     \"handlers\": [\n",
      "                        \"ctapipe-console\"\n",
      "                     ],\n",
      "                     \"propagate\": false\n",
      "                  }\n",
      "               }\n",
      "            },\n",
      "            \"log_datefmt\": \"%Y-%m-%d %H:%M:%S\",\n",
      "            \"log_file\": null,\n",
      "            \"log_file_level\": \"INFO\",\n",
      "            \"log_format\": \"[%(name)s]%(highlevel)s %(message)s\",\n",
      "            \"log_level\": 30,\n",
      "            \"provenance_log\": \"/home/travis/build/cta-observatory/ctapipe/docs/examples/mytool.provenance.log\",\n",
      "            \"quiet\": false,\n",
      "            \"show_config\": false,\n",
      "            \"show_config_json\": false,\n",
      "            \"MyComponent\": {\n",
      "               \"value\": -1\n",
      "            },\n",
      "            \"SecondaryMyComponent\": {\n",
      "               \"value\": -1\n",
      "            },\n",
      "            \"TelescopeWiseComponent\": {\n",
      "               \"param\": [\n",
      "                  [\n",
      "                     \"type\",\n",
      "                     \"*\",\n",
      "                     5.0\n",
      "                  ]\n",
      "               ]\n",
      "            },\n",
      "            \"AdvancedComponent\": {\n",
      "               \"infile\": \"/home/travis/.cache/Python-Eggs/ctapipe_extra-0.3.1-py3.9.egg-tmp/ctapipe_resources/gamma_test.simtel.gz\",\n",
      "               \"outfile\": null,\n",
      "               \"value1\": -1,\n",
      "               \"MyComponent\": {\n",
      "                  \"value\": -1\n",
      "               }\n",
      "            }\n",
      "         }\n",
      "      },\n",
      "      \"status\": \"completed\",\n",
      "      \"duration_min\": 0.008933333333391857\n",
      "   },\n",
      "   {\n",
      "      \"activity_name\": \"mytool\",\n",
      "      \"activity_uuid\": \"0e6b7565-867b-47e2-9af3-88a15d79348b\",\n",
      "      \"start\": {\n",
      "         \"time_utc\": \"2020-11-13T15:18:12.679\"\n",
      "      },\n",
      "      \"stop\": {\n",
      "         \"time_utc\": \"2020-11-13T15:18:13.021\"\n",
      "      },\n",
      "      \"system\": {\n",
      "         \"ctapipe_version\": \"0.9.2.dev40+g2e3a5744\",\n",
      "         \"ctapipe_resources_version\": \"0.3.1\",\n",
      "         \"eventio_version\": \"1.4.2\",\n",
      "         \"ctapipe_svc_path\": null,\n",
      "         \"executable\": \"/home/travis/miniconda/envs/travis/bin/python\",\n",
      "         \"platform\": {\n",
      "            \"architecture_bits\": \"64bit\",\n",
      "            \"architecture_linkage\": \"\",\n",
      "            \"machine\": \"x86_64\",\n",
      "            \"processor\": \"x86_64\",\n",
      "            \"node\": \"travis-job-7012dc37-8b65-4b3d-8ad9-5079e9741538\",\n",
      "            \"version\": \"#31~18.04.1-Ubuntu SMP Mon Jun 22 15:24:52 UTC 2020\",\n",
      "            \"system\": \"Linux\",\n",
      "            \"release\": \"5.3.0-1029-gcp\",\n",
      "            \"libcver\": [\n",
      "               \"glibc\",\n",
      "               \"2.10\"\n",
      "            ],\n",
      "            \"num_cpus\": 2,\n",
      "            \"boot_time\": \"2020-11-13T15:07:45.000\"\n",
      "         },\n",
      "         \"python\": {\n",
      "            \"version_string\": \"3.7.7 (default, Mar 26 2020, 15:48:22) \\n[GCC 7.3.0]\",\n",
      "            \"version\": [\n",
      "               \"3\",\n",
      "               \"7\",\n",
      "               \"7\"\n",
      "            ],\n",
      "            \"compiler\": \"GCC 7.3.0\",\n",
      "            \"implementation\": \"CPython\"\n",
      "         },\n",
      "         \"environment\": {\n",
      "            \"CONDA_DEFAULT_ENV\": \"travis\",\n",
      "            \"CONDA_PREFIX\": \"/home/travis/miniconda/envs/travis\",\n",
      "            \"CONDA_PYTHON_EXE\": \"/home/travis/miniconda/bin/python\",\n",
      "            \"CONDA_EXE\": \"/home/travis/miniconda/bin/conda\",\n",
      "            \"CONDA_PROMPT_MODIFIER\": \"\",\n",
      "            \"CONDA_SHLVL\": \"1\",\n",
      "            \"PATH\": \"/home/travis/miniconda/envs/travis/bin:/home/travis/miniconda/condabin:/home/travis/bin:/home/travis/.local/bin:/usr/local/lib/jvm/openjdk11/bin:/opt/pyenv/shims:/home/travis/.phpenv/shims:/home/travis/perl5/perlbrew/bin:/home/travis/.nvm/versions/node/v10.16.0/bin:/home/travis/.kiex/elixirs/elixir-1.7.4/bin:/home/travis/.kiex/bin:/home/travis/.rvm/gems/ruby-2.6.5/bin:/home/travis/.rvm/gems/ruby-2.6.5@global/bin:/home/travis/.rvm/rubies/ruby-2.6.5/bin:/home/travis/gopath/bin:/home/travis/.gimme/versions/go1.11.1.linux.amd64/bin:/usr/local/maven-3.6.3/bin:/usr/local/cmake-3.12.4/bin:/usr/local/clang-7.0.0/bin:/usr/local/sbin:/usr/local/bin:/usr/sbin:/usr/bin:/sbin:/bin:/snap/bin:/home/travis/.rvm/bin:/home/travis/.phpenv/bin:/opt/pyenv/bin:/home/travis/.yarn/bin\",\n",
      "            \"LD_LIBRARY_PATH\": null,\n",
      "            \"DYLD_LIBRARY_PATH\": null,\n",
      "            \"USER\": \"travis\",\n",
      "            \"HOME\": \"/home/travis\",\n",
      "            \"SHELL\": \"/bin/bash\"\n",
      "         },\n",
      "         \"arguments\": [\n",
      "            \"/home/travis/miniconda/envs/travis/lib/python3.7/site-packages/ipykernel_launcher.py\",\n",
      "            \"-f\",\n",
      "            \"/tmp/tmp7gfsw8_a.json\",\n",
      "            \"--HistoryManager.hist_file=:memory:\"\n",
      "         ],\n",
      "         \"start_time_utc\": \"2020-11-13T15:18:12.709\"\n",
      "      },\n",
      "      \"input\": [],\n",
      "      \"output\": [],\n",
      "      \"config\": {\n",
      "         \"MyTool\": {\n",
      "            \"config_file\": null,\n",
      "            \"iterations\": 3,\n",
      "            \"log_config\": {\n",
      "               \"version\": 1,\n",
      "               \"disable_existing_loggers\": false,\n",
      "               \"formatters\": {\n",
      "                  \"file\": {\n",
      "                     \"()\": null,\n",
      "                     \"fmt\": \"%(asctime)s %(levelname)s [%(name)s] (%(module)s.%(funcName)s): %(message)s\"\n",
      "                  },\n",
      "                  \"console\": {\n",
      "                     \"()\": null,\n",
      "                     \"fmt\": \"%(asctime)s %(levelname)s [%(name)s] (%(module)s.%(funcName)s): %(message)s\"\n",
      "                  }\n",
      "               },\n",
      "               \"handlers\": {\n",
      "                  \"ctapipe-console\": {\n",
      "                     \"class\": \"logging.StreamHandler\",\n",
      "                     \"formatter\": \"console\",\n",
      "                     \"stream\": \"ext://sys.stderr\",\n",
      "                     \"level\": 10\n",
      "                  },\n",
      "                  \"console\": {\n",
      "                     \"class\": \"logging.StreamHandler\",\n",
      "                     \"formatter\": \"console\",\n",
      "                     \"stream\": \"ext://sys.stderr\",\n",
      "                     \"level\": \"NOTSET\"\n",
      "                  }\n",
      "               },\n",
      "               \"loggers\": {\n",
      "                  \"ctapipe\": {\n",
      "                     \"level\": 10,\n",
      "                     \"handlers\": [\n",
      "                        \"ctapipe-console\"\n",
      "                     ],\n",
      "                     \"propagate\": false\n",
      "                  }\n",
      "               }\n",
      "            },\n",
      "            \"log_datefmt\": \"%Y-%m-%d %H:%M:%S\",\n",
      "            \"log_file\": null,\n",
      "            \"log_file_level\": \"INFO\",\n",
      "            \"log_format\": \"%(asctime)s : %(levelname)s [%(name)s %(funcName)s] %(message)s\",\n",
      "            \"log_level\": 20,\n",
      "            \"provenance_log\": \"/home/travis/build/cta-observatory/ctapipe/docs/examples/mytool.provenance.log\",\n",
      "            \"quiet\": false,\n",
      "            \"show_config\": false,\n",
      "            \"show_config_json\": false,\n",
      "            \"MyComponent\": {\n",
      "               \"value\": -1\n",
      "            },\n",
      "            \"SecondaryMyComponent\": {\n",
      "               \"value\": -1\n",
      "            },\n",
      "            \"TelescopeWiseComponent\": {\n",
      "               \"param\": [\n",
      "                  [\n",
      "                     \"type\",\n",
      "                     \"*\",\n",
      "                     5.0\n",
      "                  ]\n",
      "               ]\n",
      "            },\n",
      "            \"AdvancedComponent\": {\n",
      "               \"infile\": \"/home/travis/.cache/Python-Eggs/ctapipe_extra-0.3.1-py3.9.egg-tmp/ctapipe_resources/gamma_test.simtel.gz\",\n",
      "               \"outfile\": null,\n",
      "               \"value1\": -1,\n",
      "               \"MyComponent\": {\n",
      "                  \"value\": -1\n",
      "               }\n",
      "            }\n",
      "         }\n",
      "      },\n",
      "      \"status\": \"completed\",\n",
      "      \"duration_min\": 0.005699999999997374\n",
      "   },\n",
      "   {\n",
      "      \"activity_name\": \"mytool\",\n",
      "      \"activity_uuid\": \"9b2ce921-cb45-4ba6-88af-c7d0cecd70c2\",\n",
      "      \"start\": {\n",
      "         \"time_utc\": \"2020-11-13T15:18:13.043\"\n",
      "      },\n",
      "      \"stop\": {\n",
      "         \"time_utc\": \"2020-11-13T15:18:13.396\"\n",
      "      },\n",
      "      \"system\": {\n",
      "         \"ctapipe_version\": \"0.9.2.dev40+g2e3a5744\",\n",
      "         \"ctapipe_resources_version\": \"0.3.1\",\n",
      "         \"eventio_version\": \"1.4.2\",\n",
      "         \"ctapipe_svc_path\": null,\n",
      "         \"executable\": \"/home/travis/miniconda/envs/travis/bin/python\",\n",
      "         \"platform\": {\n",
      "            \"architecture_bits\": \"64bit\",\n",
      "            \"architecture_linkage\": \"\",\n",
      "            \"machine\": \"x86_64\",\n",
      "            \"processor\": \"x86_64\",\n",
      "            \"node\": \"travis-job-7012dc37-8b65-4b3d-8ad9-5079e9741538\",\n",
      "            \"version\": \"#31~18.04.1-Ubuntu SMP Mon Jun 22 15:24:52 UTC 2020\",\n",
      "            \"system\": \"Linux\",\n",
      "            \"release\": \"5.3.0-1029-gcp\",\n",
      "            \"libcver\": [\n",
      "               \"glibc\",\n",
      "               \"2.10\"\n",
      "            ],\n",
      "            \"num_cpus\": 2,\n",
      "            \"boot_time\": \"2020-11-13T15:07:45.000\"\n",
      "         },\n",
      "         \"python\": {\n",
      "            \"version_string\": \"3.7.7 (default, Mar 26 2020, 15:48:22) \\n[GCC 7.3.0]\",\n",
      "            \"version\": [\n",
      "               \"3\",\n",
      "               \"7\",\n",
      "               \"7\"\n",
      "            ],\n",
      "            \"compiler\": \"GCC 7.3.0\",\n",
      "            \"implementation\": \"CPython\"\n",
      "         },\n",
      "         \"environment\": {\n",
      "            \"CONDA_DEFAULT_ENV\": \"travis\",\n",
      "            \"CONDA_PREFIX\": \"/home/travis/miniconda/envs/travis\",\n",
      "            \"CONDA_PYTHON_EXE\": \"/home/travis/miniconda/bin/python\",\n",
      "            \"CONDA_EXE\": \"/home/travis/miniconda/bin/conda\",\n",
      "            \"CONDA_PROMPT_MODIFIER\": \"\",\n",
      "            \"CONDA_SHLVL\": \"1\",\n",
      "            \"PATH\": \"/home/travis/miniconda/envs/travis/bin:/home/travis/miniconda/condabin:/home/travis/bin:/home/travis/.local/bin:/usr/local/lib/jvm/openjdk11/bin:/opt/pyenv/shims:/home/travis/.phpenv/shims:/home/travis/perl5/perlbrew/bin:/home/travis/.nvm/versions/node/v10.16.0/bin:/home/travis/.kiex/elixirs/elixir-1.7.4/bin:/home/travis/.kiex/bin:/home/travis/.rvm/gems/ruby-2.6.5/bin:/home/travis/.rvm/gems/ruby-2.6.5@global/bin:/home/travis/.rvm/rubies/ruby-2.6.5/bin:/home/travis/gopath/bin:/home/travis/.gimme/versions/go1.11.1.linux.amd64/bin:/usr/local/maven-3.6.3/bin:/usr/local/cmake-3.12.4/bin:/usr/local/clang-7.0.0/bin:/usr/local/sbin:/usr/local/bin:/usr/sbin:/usr/bin:/sbin:/bin:/snap/bin:/home/travis/.rvm/bin:/home/travis/.phpenv/bin:/opt/pyenv/bin:/home/travis/.yarn/bin\",\n",
      "            \"LD_LIBRARY_PATH\": null,\n",
      "            \"DYLD_LIBRARY_PATH\": null,\n",
      "            \"USER\": \"travis\",\n",
      "            \"HOME\": \"/home/travis\",\n",
      "            \"SHELL\": \"/bin/bash\"\n",
      "         },\n",
      "         \"arguments\": [\n",
      "            \"/home/travis/miniconda/envs/travis/lib/python3.7/site-packages/ipykernel_launcher.py\",\n",
      "            \"-f\",\n",
      "            \"/tmp/tmp7gfsw8_a.json\",\n",
      "            \"--HistoryManager.hist_file=:memory:\"\n",
      "         ],\n",
      "         \"start_time_utc\": \"2020-11-13T15:18:13.074\"\n",
      "      },\n",
      "      \"input\": [],\n",
      "      \"output\": [],\n",
      "      \"config\": {\n",
      "         \"MyTool\": {\n",
      "            \"config_file\": null,\n",
      "            \"iterations\": 3,\n",
      "            \"log_config\": {\n",
      "               \"version\": 1,\n",
      "               \"disable_existing_loggers\": false,\n",
      "               \"formatters\": {\n",
      "                  \"file\": {\n",
      "                     \"()\": null,\n",
      "                     \"fmt\": \"%(asctime)s %(levelname)s [%(name)s] (%(module)s.%(funcName)s): %(message)s\"\n",
      "                  },\n",
      "                  \"console\": {\n",
      "                     \"()\": null,\n",
      "                     \"fmt\": \"%(asctime)s %(levelname)s [%(name)s] (%(module)s.%(funcName)s): %(message)s\"\n",
      "                  }\n",
      "               },\n",
      "               \"handlers\": {\n",
      "                  \"ctapipe-console\": {\n",
      "                     \"class\": \"logging.StreamHandler\",\n",
      "                     \"formatter\": \"console\",\n",
      "                     \"stream\": \"ext://sys.stderr\",\n",
      "                     \"level\": 10\n",
      "                  },\n",
      "                  \"console\": {\n",
      "                     \"class\": \"logging.StreamHandler\",\n",
      "                     \"formatter\": \"console\",\n",
      "                     \"stream\": \"ext://sys.stderr\",\n",
      "                     \"level\": \"NOTSET\"\n",
      "                  }\n",
      "               },\n",
      "               \"loggers\": {\n",
      "                  \"ctapipe\": {\n",
      "                     \"level\": 10,\n",
      "                     \"handlers\": [\n",
      "                        \"ctapipe-console\"\n",
      "                     ],\n",
      "                     \"propagate\": false\n",
      "                  }\n",
      "               }\n",
      "            },\n",
      "            \"log_datefmt\": \"%Y-%m-%d %H:%M:%S\",\n",
      "            \"log_file\": null,\n",
      "            \"log_file_level\": \"INFO\",\n",
      "            \"log_format\": \"%(asctime)s : %(levelname)s [%(name)s %(funcName)s] %(message)s\",\n",
      "            \"log_level\": 10,\n",
      "            \"provenance_log\": \"/home/travis/build/cta-observatory/ctapipe/docs/examples/mytool.provenance.log\",\n",
      "            \"quiet\": false,\n",
      "            \"show_config\": false,\n",
      "            \"show_config_json\": false,\n",
      "            \"MyComponent\": {\n",
      "               \"value\": -1\n",
      "            },\n",
      "            \"SecondaryMyComponent\": {\n",
      "               \"value\": -1\n",
      "            },\n",
      "            \"TelescopeWiseComponent\": {\n",
      "               \"param\": [\n",
      "                  [\n",
      "                     \"type\",\n",
      "                     \"*\",\n",
      "                     5.0\n",
      "                  ]\n",
      "               ]\n",
      "            },\n",
      "            \"AdvancedComponent\": {\n",
      "               \"infile\": \"/home/travis/.cache/Python-Eggs/ctapipe_extra-0.3.1-py3.9.egg-tmp/ctapipe_resources/gamma_test.simtel.gz\",\n",
      "               \"outfile\": null,\n",
      "               \"value1\": -1,\n",
      "               \"MyComponent\": {\n",
      "                  \"value\": -1\n",
      "               }\n",
      "            }\n",
      "         }\n",
      "      },\n",
      "      \"status\": \"completed\",\n",
      "      \"duration_min\": 0.005883333333471796\n",
      "   },\n",
      "   {\n",
      "      \"activity_name\": \"mytool\",\n",
      "      \"activity_uuid\": \"c0f6f42b-d79b-46d3-a915-4f0019d7cb3b\",\n",
      "      \"start\": {\n",
      "         \"time_utc\": \"2020-11-13T15:18:13.422\"\n",
      "      },\n",
      "      \"stop\": {\n",
      "         \"time_utc\": \"2020-11-13T15:18:13.774\"\n",
      "      },\n",
      "      \"system\": {\n",
      "         \"ctapipe_version\": \"0.9.2.dev40+g2e3a5744\",\n",
      "         \"ctapipe_resources_version\": \"0.3.1\",\n",
      "         \"eventio_version\": \"1.4.2\",\n",
      "         \"ctapipe_svc_path\": null,\n",
      "         \"executable\": \"/home/travis/miniconda/envs/travis/bin/python\",\n",
      "         \"platform\": {\n",
      "            \"architecture_bits\": \"64bit\",\n",
      "            \"architecture_linkage\": \"\",\n",
      "            \"machine\": \"x86_64\",\n",
      "            \"processor\": \"x86_64\",\n",
      "            \"node\": \"travis-job-7012dc37-8b65-4b3d-8ad9-5079e9741538\",\n",
      "            \"version\": \"#31~18.04.1-Ubuntu SMP Mon Jun 22 15:24:52 UTC 2020\",\n",
      "            \"system\": \"Linux\",\n",
      "            \"release\": \"5.3.0-1029-gcp\",\n",
      "            \"libcver\": [\n",
      "               \"glibc\",\n",
      "               \"2.10\"\n",
      "            ],\n",
      "            \"num_cpus\": 2,\n",
      "            \"boot_time\": \"2020-11-13T15:07:45.000\"\n",
      "         },\n",
      "         \"python\": {\n",
      "            \"version_string\": \"3.7.7 (default, Mar 26 2020, 15:48:22) \\n[GCC 7.3.0]\",\n",
      "            \"version\": [\n",
      "               \"3\",\n",
      "               \"7\",\n",
      "               \"7\"\n",
      "            ],\n",
      "            \"compiler\": \"GCC 7.3.0\",\n",
      "            \"implementation\": \"CPython\"\n",
      "         },\n",
      "         \"environment\": {\n",
      "            \"CONDA_DEFAULT_ENV\": \"travis\",\n",
      "            \"CONDA_PREFIX\": \"/home/travis/miniconda/envs/travis\",\n",
      "            \"CONDA_PYTHON_EXE\": \"/home/travis/miniconda/bin/python\",\n",
      "            \"CONDA_EXE\": \"/home/travis/miniconda/bin/conda\",\n",
      "            \"CONDA_PROMPT_MODIFIER\": \"\",\n",
      "            \"CONDA_SHLVL\": \"1\",\n",
      "            \"PATH\": \"/home/travis/miniconda/envs/travis/bin:/home/travis/miniconda/condabin:/home/travis/bin:/home/travis/.local/bin:/usr/local/lib/jvm/openjdk11/bin:/opt/pyenv/shims:/home/travis/.phpenv/shims:/home/travis/perl5/perlbrew/bin:/home/travis/.nvm/versions/node/v10.16.0/bin:/home/travis/.kiex/elixirs/elixir-1.7.4/bin:/home/travis/.kiex/bin:/home/travis/.rvm/gems/ruby-2.6.5/bin:/home/travis/.rvm/gems/ruby-2.6.5@global/bin:/home/travis/.rvm/rubies/ruby-2.6.5/bin:/home/travis/gopath/bin:/home/travis/.gimme/versions/go1.11.1.linux.amd64/bin:/usr/local/maven-3.6.3/bin:/usr/local/cmake-3.12.4/bin:/usr/local/clang-7.0.0/bin:/usr/local/sbin:/usr/local/bin:/usr/sbin:/usr/bin:/sbin:/bin:/snap/bin:/home/travis/.rvm/bin:/home/travis/.phpenv/bin:/opt/pyenv/bin:/home/travis/.yarn/bin\",\n",
      "            \"LD_LIBRARY_PATH\": null,\n",
      "            \"DYLD_LIBRARY_PATH\": null,\n",
      "            \"USER\": \"travis\",\n",
      "            \"HOME\": \"/home/travis\",\n",
      "            \"SHELL\": \"/bin/bash\"\n",
      "         },\n",
      "         \"arguments\": [\n",
      "            \"/home/travis/miniconda/envs/travis/lib/python3.7/site-packages/ipykernel_launcher.py\",\n",
      "            \"-f\",\n",
      "            \"/tmp/tmp7gfsw8_a.json\",\n",
      "            \"--HistoryManager.hist_file=:memory:\"\n",
      "         ],\n",
      "         \"start_time_utc\": \"2020-11-13T15:18:13.453\"\n",
      "      },\n",
      "      \"input\": [],\n",
      "      \"output\": [],\n",
      "      \"config\": {\n",
      "         \"MyTool\": {\n",
      "            \"config_file\": null,\n",
      "            \"iterations\": 3,\n",
      "            \"log_config\": {\n",
      "               \"version\": 1,\n",
      "               \"disable_existing_loggers\": false,\n",
      "               \"formatters\": {\n",
      "                  \"file\": {\n",
      "                     \"()\": null,\n",
      "                     \"fmt\": \"%(asctime)s %(levelname)s [%(name)s] (%(module)s.%(funcName)s): %(message)s\"\n",
      "                  },\n",
      "                  \"console\": {\n",
      "                     \"()\": null,\n",
      "                     \"fmt\": \"%(asctime)s %(levelname)s [%(name)s] (%(module)s.%(funcName)s): %(message)s\"\n",
      "                  }\n",
      "               },\n",
      "               \"handlers\": {\n",
      "                  \"ctapipe-console\": {\n",
      "                     \"class\": \"logging.StreamHandler\",\n",
      "                     \"formatter\": \"console\",\n",
      "                     \"stream\": \"ext://sys.stderr\",\n",
      "                     \"level\": 10\n",
      "                  },\n",
      "                  \"console\": {\n",
      "                     \"class\": \"logging.StreamHandler\",\n",
      "                     \"formatter\": \"console\",\n",
      "                     \"stream\": \"ext://sys.stderr\",\n",
      "                     \"level\": \"NOTSET\"\n",
      "                  }\n",
      "               },\n",
      "               \"loggers\": {\n",
      "                  \"ctapipe\": {\n",
      "                     \"level\": 10,\n",
      "                     \"handlers\": [\n",
      "                        \"ctapipe-console\"\n",
      "                     ],\n",
      "                     \"propagate\": false\n",
      "                  }\n",
      "               }\n",
      "            },\n",
      "            \"log_datefmt\": \"%Y-%m-%d %H:%M:%S\",\n",
      "            \"log_file\": null,\n",
      "            \"log_file_level\": \"INFO\",\n",
      "            \"log_format\": \"%(asctime)s : %(levelname)s [%(name)s %(funcName)s] %(message)s\",\n",
      "            \"log_level\": 10,\n",
      "            \"provenance_log\": \"/home/travis/build/cta-observatory/ctapipe/docs/examples/mytool.provenance.log\",\n",
      "            \"quiet\": false,\n",
      "            \"show_config\": false,\n",
      "            \"show_config_json\": false,\n",
      "            \"MyComponent\": {\n",
      "               \"value\": -1\n",
      "            },\n",
      "            \"SecondaryMyComponent\": {\n",
      "               \"value\": -1\n",
      "            },\n",
      "            \"TelescopeWiseComponent\": {\n",
      "               \"param\": [\n",
      "                  [\n",
      "                     \"type\",\n",
      "                     \"*\",\n",
      "                     5.0\n",
      "                  ]\n",
      "               ]\n",
      "            },\n",
      "            \"AdvancedComponent\": {\n",
      "               \"infile\": \"/home/travis/.cache/Python-Eggs/ctapipe_extra-0.3.1-py3.9.egg-tmp/ctapipe_resources/gamma_test.simtel.gz\",\n",
      "               \"outfile\": null,\n",
      "               \"value1\": -1,\n",
      "               \"MyComponent\": {\n",
      "                  \"value\": -1\n",
      "               }\n",
      "            }\n",
      "         }\n",
      "      },\n",
      "      \"status\": \"completed\",\n",
      "      \"duration_min\": 0.0058666666667051\n",
      "   }\n",
      "]'\n"
     ]
    },
    {
     "name": "stderr",
     "output_type": "stream",
     "text": [
      "2020-11-13 15:18:13,786 \u001b[1;34mDEBUG\u001b[0m [ctapipe.mytool] (application.exit): Exiting application: mytool\n"
     ]
    }
   ],
   "source": [
    "tool.iterations = 1\n",
    "tool.log_level = 0\n",
    "\n",
    "try:\n",
    "    tool.run(['--infile', GAMMA_FILE])\n",
    "except SystemExit as e:\n",
    "    assert e.code == 0, f'Tool returned with error status {e}'"
   ]
  },
  {
   "cell_type": "markdown",
   "metadata": {},
   "source": [
    "see what happens when a value is set that is not of the correct type:"
   ]
  },
  {
   "cell_type": "code",
   "execution_count": 16,
   "metadata": {
    "execution": {
     "iopub.execute_input": "2020-11-13T15:18:13.795287Z",
     "iopub.status.busy": "2020-11-13T15:18:13.794684Z",
     "iopub.status.idle": "2020-11-13T15:18:13.797413Z",
     "shell.execute_reply": "2020-11-13T15:18:13.796971Z"
    }
   },
   "outputs": [
    {
     "name": "stdout",
     "output_type": "stream",
     "text": [
      "bad value: The 'iterations' trait of a MyTool instance expected an int, not the str 'badval'.\n"
     ]
    }
   ],
   "source": [
    "try:\n",
    "    tool.iterations = \"badval\"\n",
    "except TraitError as E:\n",
    "    print(\"bad value:\",E)\n",
    "except SystemExit as e:\n",
    "    assert e.code == 0, f'Tool returned with error status {e}'"
   ]
  },
  {
   "cell_type": "markdown",
   "metadata": {},
   "source": [
    "Example of what happens when you change a parameter that is being \"observed\" in a class. It's handler is called:"
   ]
  },
  {
   "cell_type": "code",
   "execution_count": 17,
   "metadata": {
    "execution": {
     "iopub.execute_input": "2020-11-13T15:18:13.801197Z",
     "iopub.status.busy": "2020-11-13T15:18:13.800784Z",
     "iopub.status.idle": "2020-11-13T15:18:13.804733Z",
     "shell.execute_reply": "2020-11-13T15:18:13.804277Z"
    }
   },
   "outputs": [
    {
     "name": "stderr",
     "output_type": "stream",
     "text": [
      "2020-11-13 15:18:13,799 \u001b[1;33mWARNING\u001b[0m [ctapipe.mytool.AdvancedComponent] (<ipython-input-1-a087b1827cdf>.on_outfile_changed): Outfile was changed to '{'name': 'outfile', 'old': None, 'new': PosixPath('/home/travis/build/cta-observatory/ctapipe/docs/examples/Another.txt'), 'owner': <__main__.AdvancedComponent object at 0x7f66b7ee0910>, 'type': 'change'}'\n"
     ]
    }
   ],
   "source": [
    "tool.advanced.outfile = \"Another.txt\""
   ]
  },
  {
   "cell_type": "markdown",
   "metadata": {},
   "source": [
    "we see that the handler for `outfile` was called, and it receive a change dict that shows the old and new values."
   ]
  },
  {
   "cell_type": "markdown",
   "metadata": {},
   "source": [
    "create a tool using a config file:"
   ]
  },
  {
   "cell_type": "code",
   "execution_count": 18,
   "metadata": {
    "execution": {
     "iopub.execute_input": "2020-11-13T15:18:13.808541Z",
     "iopub.status.busy": "2020-11-13T15:18:13.808130Z",
     "iopub.status.idle": "2020-11-13T15:18:13.812220Z",
     "shell.execute_reply": "2020-11-13T15:18:13.811766Z"
    }
   },
   "outputs": [],
   "source": [
    "tool2 = MyTool()"
   ]
  },
  {
   "cell_type": "code",
   "execution_count": 19,
   "metadata": {
    "execution": {
     "iopub.execute_input": "2020-11-13T15:18:13.819533Z",
     "iopub.status.busy": "2020-11-13T15:18:13.818863Z",
     "iopub.status.idle": "2020-11-13T15:18:14.395916Z",
     "shell.execute_reply": "2020-11-13T15:18:14.396364Z"
    },
    "scrolled": false
   },
   "outputs": [
    {
     "name": "stderr",
     "output_type": "stream",
     "text": [
      "2020-11-13 15:18:13,820 \u001b[1;32mINFO\u001b[0m [ctapipe.mytool] (tool.initialize): ctapipe version 0.9.2.dev40+g2e3a5744\n"
     ]
    },
    {
     "name": "stderr",
     "output_type": "stream",
     "text": [
      "2020-11-13 15:18:13,821 \u001b[1;32mINFO\u001b[0m [ctapipe.mytool] (tool.run): Starting: mytool\n"
     ]
    },
    {
     "name": "stderr",
     "output_type": "stream",
     "text": [
      "2020-11-13 15:18:13,852 \u001b[1;34mDEBUG\u001b[0m [ctapipe.core.provenance] (provenance.start_activity): started activity: mytool\n"
     ]
    },
    {
     "name": "stderr",
     "output_type": "stream",
     "text": [
      "2020-11-13 15:18:13,855 \u001b[1;34mDEBUG\u001b[0m [ctapipe.core.traits] (traits.attach_subarray): argument '*' matched: ['LST_LST_LSTCam', 'MST_MST_NectarCam']\n"
     ]
    },
    {
     "name": "stderr",
     "output_type": "stream",
     "text": [
      "2020-11-13 15:18:13,858 \u001b[1;34mDEBUG\u001b[0m [ctapipe.mytool] (tool.run): CONFIG: {'MyTool': {'config_file': PosixPath('/home/travis/build/cta-observatory/ctapipe/docs/examples/Tools.json'), 'iterations': 5, 'log_config': {'version': 1, 'disable_existing_loggers': False, 'formatters': {'file': {'()': <class 'ctapipe.core.logging.PlainFormatter'>, 'fmt': '%(asctime)s %(levelname)s [%(name)s] (%(module)s.%(funcName)s): %(message)s'}, 'console': {'()': <class 'ctapipe.core.logging.ColoredFormatter'>, 'fmt': '%(asctime)s %(levelname)s [%(name)s] (%(module)s.%(funcName)s): %(message)s'}}, 'handlers': {'ctapipe-console': {'class': 'logging.StreamHandler', 'formatter': 'console', 'stream': 'ext://sys.stderr', 'level': 10}, 'console': {'class': 'logging.StreamHandler', 'formatter': 'console', 'stream': 'ext://sys.stderr', 'level': 'NOTSET'}}, 'loggers': {'ctapipe': {'level': 10, 'handlers': ['ctapipe-console'], 'propagate': False}}}, 'log_datefmt': '%Y-%m-%d %H:%M:%S', 'log_file': None, 'log_file_level': 'INFO', 'log_format': '[%(name)s]%(highlevel)s %(message)s', 'log_level': 10, 'provenance_log': PosixPath('/home/travis/build/cta-observatory/ctapipe/docs/examples/mytool.provenance.log'), 'quiet': False, 'show_config': False, 'show_config_json': False, 'MyComponent': {'value': -1}, 'SecondaryMyComponent': {'value': -1}, 'TelescopeWiseComponent': {'param': [('type', '*', 5.0)]}, 'AdvancedComponent': {'infile': PosixPath('/home/travis/build/cta-observatory/ctapipe/docs/examples/something.txt'), 'outfile': None, 'value1': -1, 'MyComponent': {'value': -1}}}}\n"
     ]
    },
    {
     "name": "stderr",
     "output_type": "stream",
     "text": [
      "2020-11-13 15:18:13,860 \u001b[1;32mINFO\u001b[0m [ctapipe.mytool] (<ipython-input-1-d7fc398e7046>.start): Performing 5 iterations...\n"
     ]
    },
    {
     "name": "stderr",
     "output_type": "stream",
     "text": [
      "2020-11-13 15:18:13,860 \u001b[1;32mINFO\u001b[0m [ctapipe.mytool] (<ipython-input-1-d7fc398e7046>.start): ITERATION 0\n"
     ]
    },
    {
     "name": "stderr",
     "output_type": "stream",
     "text": [
      "2020-11-13 15:18:13,862 \u001b[1;34mDEBUG\u001b[0m [ctapipe.mytool.MyComponent] (<ipython-input-1-a087b1827cdf>.do_thing): Did thing\n"
     ]
    },
    {
     "name": "stderr",
     "output_type": "stream",
     "text": [
      "2020-11-13 15:18:13,862 \u001b[1;34mDEBUG\u001b[0m [ctapipe.mytool.SecondaryMyComponent] (<ipython-input-1-a087b1827cdf>.do_thing): Did thing\n"
     ]
    },
    {
     "name": "stderr",
     "output_type": "stream",
     "text": [
      "2020-11-13 15:18:13,964 \u001b[1;32mINFO\u001b[0m [ctapipe.mytool] (<ipython-input-1-d7fc398e7046>.start): ITERATION 1\n"
     ]
    },
    {
     "name": "stderr",
     "output_type": "stream",
     "text": [
      "2020-11-13 15:18:13,965 \u001b[1;34mDEBUG\u001b[0m [ctapipe.mytool.MyComponent] (<ipython-input-1-a087b1827cdf>.do_thing): Did thing\n"
     ]
    },
    {
     "name": "stderr",
     "output_type": "stream",
     "text": [
      "2020-11-13 15:18:13,966 \u001b[1;34mDEBUG\u001b[0m [ctapipe.mytool.SecondaryMyComponent] (<ipython-input-1-a087b1827cdf>.do_thing): Did thing\n"
     ]
    },
    {
     "name": "stderr",
     "output_type": "stream",
     "text": [
      "2020-11-13 15:18:14,067 \u001b[1;32mINFO\u001b[0m [ctapipe.mytool] (<ipython-input-1-d7fc398e7046>.start): ITERATION 2\n"
     ]
    },
    {
     "name": "stderr",
     "output_type": "stream",
     "text": [
      "2020-11-13 15:18:14,068 \u001b[1;34mDEBUG\u001b[0m [ctapipe.mytool.MyComponent] (<ipython-input-1-a087b1827cdf>.do_thing): Did thing\n"
     ]
    },
    {
     "name": "stderr",
     "output_type": "stream",
     "text": [
      "2020-11-13 15:18:14,070 \u001b[1;34mDEBUG\u001b[0m [ctapipe.mytool.SecondaryMyComponent] (<ipython-input-1-a087b1827cdf>.do_thing): Did thing\n"
     ]
    },
    {
     "name": "stderr",
     "output_type": "stream",
     "text": [
      "2020-11-13 15:18:14,171 \u001b[1;32mINFO\u001b[0m [ctapipe.mytool] (<ipython-input-1-d7fc398e7046>.start): ITERATION 3\n"
     ]
    },
    {
     "name": "stderr",
     "output_type": "stream",
     "text": [
      "2020-11-13 15:18:14,172 \u001b[1;34mDEBUG\u001b[0m [ctapipe.mytool.MyComponent] (<ipython-input-1-a087b1827cdf>.do_thing): Did thing\n"
     ]
    },
    {
     "name": "stderr",
     "output_type": "stream",
     "text": [
      "2020-11-13 15:18:14,175 \u001b[1;34mDEBUG\u001b[0m [ctapipe.mytool.SecondaryMyComponent] (<ipython-input-1-a087b1827cdf>.do_thing): Did thing\n"
     ]
    },
    {
     "name": "stderr",
     "output_type": "stream",
     "text": [
      "2020-11-13 15:18:14,275 \u001b[1;32mINFO\u001b[0m [ctapipe.mytool] (<ipython-input-1-d7fc398e7046>.start): ITERATION 4\n"
     ]
    },
    {
     "name": "stderr",
     "output_type": "stream",
     "text": [
      "2020-11-13 15:18:14,276 \u001b[1;34mDEBUG\u001b[0m [ctapipe.mytool.MyComponent] (<ipython-input-1-a087b1827cdf>.do_thing): Did thing\n"
     ]
    },
    {
     "name": "stderr",
     "output_type": "stream",
     "text": [
      "2020-11-13 15:18:14,277 \u001b[1;34mDEBUG\u001b[0m [ctapipe.mytool.SecondaryMyComponent] (<ipython-input-1-a087b1827cdf>.do_thing): Did thing\n"
     ]
    },
    {
     "name": "stderr",
     "output_type": "stream",
     "text": [
      "2020-11-13 15:18:14,378 \u001b[1;33mWARNING\u001b[0m [ctapipe.mytool] (<ipython-input-1-d7fc398e7046>.finish): Shutting down.\n"
     ]
    },
    {
     "name": "stderr",
     "output_type": "stream",
     "text": [
      "2020-11-13 15:18:14,378 \u001b[1;32mINFO\u001b[0m [ctapipe.mytool] (tool.run): Finished: mytool\n"
     ]
    },
    {
     "name": "stderr",
     "output_type": "stream",
     "text": [
      "2020-11-13 15:18:14,380 \u001b[1;34mDEBUG\u001b[0m [ctapipe.core.provenance] (provenance.finish_activity): finished activity: mytool\n"
     ]
    },
    {
     "name": "stderr",
     "output_type": "stream",
     "text": [
      "2020-11-13 15:18:14,381 \u001b[1;32mINFO\u001b[0m [ctapipe.mytool] (tool.write_provenance): Output: \n"
     ]
    },
    {
     "name": "stderr",
     "output_type": "stream",
     "text": [
      "2020-11-13 15:18:14,382 \u001b[1;32mINFO\u001b[0m [ctapipe.mytool] (tool.write_provenance): Output: \n"
     ]
    },
    {
     "name": "stderr",
     "output_type": "stream",
     "text": [
      "2020-11-13 15:18:14,382 \u001b[1;32mINFO\u001b[0m [ctapipe.mytool] (tool.write_provenance): Output: \n"
     ]
    },
    {
     "name": "stderr",
     "output_type": "stream",
     "text": [
      "2020-11-13 15:18:14,383 \u001b[1;32mINFO\u001b[0m [ctapipe.mytool] (tool.write_provenance): Output: \n"
     ]
    },
    {
     "name": "stderr",
     "output_type": "stream",
     "text": [
      "2020-11-13 15:18:14,383 \u001b[1;32mINFO\u001b[0m [ctapipe.mytool] (tool.write_provenance): Output: \n"
     ]
    },
    {
     "name": "stderr",
     "output_type": "stream",
     "text": [
      "2020-11-13 15:18:14,385 \u001b[1;34mDEBUG\u001b[0m [ctapipe.mytool] (tool.write_provenance): PROVENANCE: '[\n",
      "   {\n",
      "      \"activity_name\": \"mytool\",\n",
      "      \"activity_uuid\": \"b7156c3e-2eb4-4628-a891-c5c01c9c35e0\",\n",
      "      \"start\": {\n",
      "         \"time_utc\": \"2020-11-13T15:18:12.122\"\n",
      "      },\n",
      "      \"stop\": {\n",
      "         \"time_utc\": \"2020-11-13T15:18:12.658\"\n",
      "      },\n",
      "      \"system\": {\n",
      "         \"ctapipe_version\": \"0.9.2.dev40+g2e3a5744\",\n",
      "         \"ctapipe_resources_version\": \"0.3.1\",\n",
      "         \"eventio_version\": \"1.4.2\",\n",
      "         \"ctapipe_svc_path\": null,\n",
      "         \"executable\": \"/home/travis/miniconda/envs/travis/bin/python\",\n",
      "         \"platform\": {\n",
      "            \"architecture_bits\": \"64bit\",\n",
      "            \"architecture_linkage\": \"\",\n",
      "            \"machine\": \"x86_64\",\n",
      "            \"processor\": \"x86_64\",\n",
      "            \"node\": \"travis-job-7012dc37-8b65-4b3d-8ad9-5079e9741538\",\n",
      "            \"version\": \"#31~18.04.1-Ubuntu SMP Mon Jun 22 15:24:52 UTC 2020\",\n",
      "            \"system\": \"Linux\",\n",
      "            \"release\": \"5.3.0-1029-gcp\",\n",
      "            \"libcver\": [\n",
      "               \"glibc\",\n",
      "               \"2.10\"\n",
      "            ],\n",
      "            \"num_cpus\": 2,\n",
      "            \"boot_time\": \"2020-11-13T15:07:45.000\"\n",
      "         },\n",
      "         \"python\": {\n",
      "            \"version_string\": \"3.7.7 (default, Mar 26 2020, 15:48:22) \\n[GCC 7.3.0]\",\n",
      "            \"version\": [\n",
      "               \"3\",\n",
      "               \"7\",\n",
      "               \"7\"\n",
      "            ],\n",
      "            \"compiler\": \"GCC 7.3.0\",\n",
      "            \"implementation\": \"CPython\"\n",
      "         },\n",
      "         \"environment\": {\n",
      "            \"CONDA_DEFAULT_ENV\": \"travis\",\n",
      "            \"CONDA_PREFIX\": \"/home/travis/miniconda/envs/travis\",\n",
      "            \"CONDA_PYTHON_EXE\": \"/home/travis/miniconda/bin/python\",\n",
      "            \"CONDA_EXE\": \"/home/travis/miniconda/bin/conda\",\n",
      "            \"CONDA_PROMPT_MODIFIER\": \"\",\n",
      "            \"CONDA_SHLVL\": \"1\",\n",
      "            \"PATH\": \"/home/travis/miniconda/envs/travis/bin:/home/travis/miniconda/condabin:/home/travis/bin:/home/travis/.local/bin:/usr/local/lib/jvm/openjdk11/bin:/opt/pyenv/shims:/home/travis/.phpenv/shims:/home/travis/perl5/perlbrew/bin:/home/travis/.nvm/versions/node/v10.16.0/bin:/home/travis/.kiex/elixirs/elixir-1.7.4/bin:/home/travis/.kiex/bin:/home/travis/.rvm/gems/ruby-2.6.5/bin:/home/travis/.rvm/gems/ruby-2.6.5@global/bin:/home/travis/.rvm/rubies/ruby-2.6.5/bin:/home/travis/gopath/bin:/home/travis/.gimme/versions/go1.11.1.linux.amd64/bin:/usr/local/maven-3.6.3/bin:/usr/local/cmake-3.12.4/bin:/usr/local/clang-7.0.0/bin:/usr/local/sbin:/usr/local/bin:/usr/sbin:/usr/bin:/sbin:/bin:/snap/bin:/home/travis/.rvm/bin:/home/travis/.phpenv/bin:/opt/pyenv/bin:/home/travis/.yarn/bin\",\n",
      "            \"LD_LIBRARY_PATH\": null,\n",
      "            \"DYLD_LIBRARY_PATH\": null,\n",
      "            \"USER\": \"travis\",\n",
      "            \"HOME\": \"/home/travis\",\n",
      "            \"SHELL\": \"/bin/bash\"\n",
      "         },\n",
      "         \"arguments\": [\n",
      "            \"/home/travis/miniconda/envs/travis/lib/python3.7/site-packages/ipykernel_launcher.py\",\n",
      "            \"-f\",\n",
      "            \"/tmp/tmp7gfsw8_a.json\",\n",
      "            \"--HistoryManager.hist_file=:memory:\"\n",
      "         ],\n",
      "         \"start_time_utc\": \"2020-11-13T15:18:12.151\"\n",
      "      },\n",
      "      \"input\": [],\n",
      "      \"output\": [],\n",
      "      \"config\": {\n",
      "         \"MyTool\": {\n",
      "            \"config_file\": null,\n",
      "            \"iterations\": 5,\n",
      "            \"log_config\": {\n",
      "               \"version\": 1,\n",
      "               \"disable_existing_loggers\": false,\n",
      "               \"formatters\": {\n",
      "                  \"file\": {\n",
      "                     \"()\": null,\n",
      "                     \"fmt\": \"%(asctime)s %(levelname)s [%(name)s] (%(module)s.%(funcName)s): %(message)s\"\n",
      "                  },\n",
      "                  \"console\": {\n",
      "                     \"()\": null,\n",
      "                     \"fmt\": \"%(asctime)s %(levelname)s [%(name)s] (%(module)s.%(funcName)s): %(message)s\"\n",
      "                  }\n",
      "               },\n",
      "               \"handlers\": {\n",
      "                  \"ctapipe-console\": {\n",
      "                     \"class\": \"logging.StreamHandler\",\n",
      "                     \"formatter\": \"console\",\n",
      "                     \"stream\": \"ext://sys.stderr\",\n",
      "                     \"level\": 10\n",
      "                  },\n",
      "                  \"console\": {\n",
      "                     \"class\": \"logging.StreamHandler\",\n",
      "                     \"formatter\": \"console\",\n",
      "                     \"stream\": \"ext://sys.stderr\",\n",
      "                     \"level\": \"NOTSET\"\n",
      "                  }\n",
      "               },\n",
      "               \"loggers\": {\n",
      "                  \"ctapipe\": {\n",
      "                     \"level\": 10,\n",
      "                     \"handlers\": [\n",
      "                        \"ctapipe-console\"\n",
      "                     ],\n",
      "                     \"propagate\": false\n",
      "                  }\n",
      "               }\n",
      "            },\n",
      "            \"log_datefmt\": \"%Y-%m-%d %H:%M:%S\",\n",
      "            \"log_file\": null,\n",
      "            \"log_file_level\": \"INFO\",\n",
      "            \"log_format\": \"[%(name)s]%(highlevel)s %(message)s\",\n",
      "            \"log_level\": 30,\n",
      "            \"provenance_log\": \"/home/travis/build/cta-observatory/ctapipe/docs/examples/mytool.provenance.log\",\n",
      "            \"quiet\": false,\n",
      "            \"show_config\": false,\n",
      "            \"show_config_json\": false,\n",
      "            \"MyComponent\": {\n",
      "               \"value\": -1\n",
      "            },\n",
      "            \"SecondaryMyComponent\": {\n",
      "               \"value\": -1\n",
      "            },\n",
      "            \"TelescopeWiseComponent\": {\n",
      "               \"param\": [\n",
      "                  [\n",
      "                     \"type\",\n",
      "                     \"*\",\n",
      "                     5.0\n",
      "                  ]\n",
      "               ]\n",
      "            },\n",
      "            \"AdvancedComponent\": {\n",
      "               \"infile\": \"/home/travis/.cache/Python-Eggs/ctapipe_extra-0.3.1-py3.9.egg-tmp/ctapipe_resources/gamma_test.simtel.gz\",\n",
      "               \"outfile\": null,\n",
      "               \"value1\": -1,\n",
      "               \"MyComponent\": {\n",
      "                  \"value\": -1\n",
      "               }\n",
      "            }\n",
      "         }\n",
      "      },\n",
      "      \"status\": \"completed\",\n",
      "      \"duration_min\": 0.008933333333391857\n",
      "   },\n",
      "   {\n",
      "      \"activity_name\": \"mytool\",\n",
      "      \"activity_uuid\": \"0e6b7565-867b-47e2-9af3-88a15d79348b\",\n",
      "      \"start\": {\n",
      "         \"time_utc\": \"2020-11-13T15:18:12.679\"\n",
      "      },\n",
      "      \"stop\": {\n",
      "         \"time_utc\": \"2020-11-13T15:18:13.021\"\n",
      "      },\n",
      "      \"system\": {\n",
      "         \"ctapipe_version\": \"0.9.2.dev40+g2e3a5744\",\n",
      "         \"ctapipe_resources_version\": \"0.3.1\",\n",
      "         \"eventio_version\": \"1.4.2\",\n",
      "         \"ctapipe_svc_path\": null,\n",
      "         \"executable\": \"/home/travis/miniconda/envs/travis/bin/python\",\n",
      "         \"platform\": {\n",
      "            \"architecture_bits\": \"64bit\",\n",
      "            \"architecture_linkage\": \"\",\n",
      "            \"machine\": \"x86_64\",\n",
      "            \"processor\": \"x86_64\",\n",
      "            \"node\": \"travis-job-7012dc37-8b65-4b3d-8ad9-5079e9741538\",\n",
      "            \"version\": \"#31~18.04.1-Ubuntu SMP Mon Jun 22 15:24:52 UTC 2020\",\n",
      "            \"system\": \"Linux\",\n",
      "            \"release\": \"5.3.0-1029-gcp\",\n",
      "            \"libcver\": [\n",
      "               \"glibc\",\n",
      "               \"2.10\"\n",
      "            ],\n",
      "            \"num_cpus\": 2,\n",
      "            \"boot_time\": \"2020-11-13T15:07:45.000\"\n",
      "         },\n",
      "         \"python\": {\n",
      "            \"version_string\": \"3.7.7 (default, Mar 26 2020, 15:48:22) \\n[GCC 7.3.0]\",\n",
      "            \"version\": [\n",
      "               \"3\",\n",
      "               \"7\",\n",
      "               \"7\"\n",
      "            ],\n",
      "            \"compiler\": \"GCC 7.3.0\",\n",
      "            \"implementation\": \"CPython\"\n",
      "         },\n",
      "         \"environment\": {\n",
      "            \"CONDA_DEFAULT_ENV\": \"travis\",\n",
      "            \"CONDA_PREFIX\": \"/home/travis/miniconda/envs/travis\",\n",
      "            \"CONDA_PYTHON_EXE\": \"/home/travis/miniconda/bin/python\",\n",
      "            \"CONDA_EXE\": \"/home/travis/miniconda/bin/conda\",\n",
      "            \"CONDA_PROMPT_MODIFIER\": \"\",\n",
      "            \"CONDA_SHLVL\": \"1\",\n",
      "            \"PATH\": \"/home/travis/miniconda/envs/travis/bin:/home/travis/miniconda/condabin:/home/travis/bin:/home/travis/.local/bin:/usr/local/lib/jvm/openjdk11/bin:/opt/pyenv/shims:/home/travis/.phpenv/shims:/home/travis/perl5/perlbrew/bin:/home/travis/.nvm/versions/node/v10.16.0/bin:/home/travis/.kiex/elixirs/elixir-1.7.4/bin:/home/travis/.kiex/bin:/home/travis/.rvm/gems/ruby-2.6.5/bin:/home/travis/.rvm/gems/ruby-2.6.5@global/bin:/home/travis/.rvm/rubies/ruby-2.6.5/bin:/home/travis/gopath/bin:/home/travis/.gimme/versions/go1.11.1.linux.amd64/bin:/usr/local/maven-3.6.3/bin:/usr/local/cmake-3.12.4/bin:/usr/local/clang-7.0.0/bin:/usr/local/sbin:/usr/local/bin:/usr/sbin:/usr/bin:/sbin:/bin:/snap/bin:/home/travis/.rvm/bin:/home/travis/.phpenv/bin:/opt/pyenv/bin:/home/travis/.yarn/bin\",\n",
      "            \"LD_LIBRARY_PATH\": null,\n",
      "            \"DYLD_LIBRARY_PATH\": null,\n",
      "            \"USER\": \"travis\",\n",
      "            \"HOME\": \"/home/travis\",\n",
      "            \"SHELL\": \"/bin/bash\"\n",
      "         },\n",
      "         \"arguments\": [\n",
      "            \"/home/travis/miniconda/envs/travis/lib/python3.7/site-packages/ipykernel_launcher.py\",\n",
      "            \"-f\",\n",
      "            \"/tmp/tmp7gfsw8_a.json\",\n",
      "            \"--HistoryManager.hist_file=:memory:\"\n",
      "         ],\n",
      "         \"start_time_utc\": \"2020-11-13T15:18:12.709\"\n",
      "      },\n",
      "      \"input\": [],\n",
      "      \"output\": [],\n",
      "      \"config\": {\n",
      "         \"MyTool\": {\n",
      "            \"config_file\": null,\n",
      "            \"iterations\": 3,\n",
      "            \"log_config\": {\n",
      "               \"version\": 1,\n",
      "               \"disable_existing_loggers\": false,\n",
      "               \"formatters\": {\n",
      "                  \"file\": {\n",
      "                     \"()\": null,\n",
      "                     \"fmt\": \"%(asctime)s %(levelname)s [%(name)s] (%(module)s.%(funcName)s): %(message)s\"\n",
      "                  },\n",
      "                  \"console\": {\n",
      "                     \"()\": null,\n",
      "                     \"fmt\": \"%(asctime)s %(levelname)s [%(name)s] (%(module)s.%(funcName)s): %(message)s\"\n",
      "                  }\n",
      "               },\n",
      "               \"handlers\": {\n",
      "                  \"ctapipe-console\": {\n",
      "                     \"class\": \"logging.StreamHandler\",\n",
      "                     \"formatter\": \"console\",\n",
      "                     \"stream\": \"ext://sys.stderr\",\n",
      "                     \"level\": 10\n",
      "                  },\n",
      "                  \"console\": {\n",
      "                     \"class\": \"logging.StreamHandler\",\n",
      "                     \"formatter\": \"console\",\n",
      "                     \"stream\": \"ext://sys.stderr\",\n",
      "                     \"level\": \"NOTSET\"\n",
      "                  }\n",
      "               },\n",
      "               \"loggers\": {\n",
      "                  \"ctapipe\": {\n",
      "                     \"level\": 10,\n",
      "                     \"handlers\": [\n",
      "                        \"ctapipe-console\"\n",
      "                     ],\n",
      "                     \"propagate\": false\n",
      "                  }\n",
      "               }\n",
      "            },\n",
      "            \"log_datefmt\": \"%Y-%m-%d %H:%M:%S\",\n",
      "            \"log_file\": null,\n",
      "            \"log_file_level\": \"INFO\",\n",
      "            \"log_format\": \"%(asctime)s : %(levelname)s [%(name)s %(funcName)s] %(message)s\",\n",
      "            \"log_level\": 20,\n",
      "            \"provenance_log\": \"/home/travis/build/cta-observatory/ctapipe/docs/examples/mytool.provenance.log\",\n",
      "            \"quiet\": false,\n",
      "            \"show_config\": false,\n",
      "            \"show_config_json\": false,\n",
      "            \"MyComponent\": {\n",
      "               \"value\": -1\n",
      "            },\n",
      "            \"SecondaryMyComponent\": {\n",
      "               \"value\": -1\n",
      "            },\n",
      "            \"TelescopeWiseComponent\": {\n",
      "               \"param\": [\n",
      "                  [\n",
      "                     \"type\",\n",
      "                     \"*\",\n",
      "                     5.0\n",
      "                  ]\n",
      "               ]\n",
      "            },\n",
      "            \"AdvancedComponent\": {\n",
      "               \"infile\": \"/home/travis/.cache/Python-Eggs/ctapipe_extra-0.3.1-py3.9.egg-tmp/ctapipe_resources/gamma_test.simtel.gz\",\n",
      "               \"outfile\": null,\n",
      "               \"value1\": -1,\n",
      "               \"MyComponent\": {\n",
      "                  \"value\": -1\n",
      "               }\n",
      "            }\n",
      "         }\n",
      "      },\n",
      "      \"status\": \"completed\",\n",
      "      \"duration_min\": 0.005699999999997374\n",
      "   },\n",
      "   {\n",
      "      \"activity_name\": \"mytool\",\n",
      "      \"activity_uuid\": \"9b2ce921-cb45-4ba6-88af-c7d0cecd70c2\",\n",
      "      \"start\": {\n",
      "         \"time_utc\": \"2020-11-13T15:18:13.043\"\n",
      "      },\n",
      "      \"stop\": {\n",
      "         \"time_utc\": \"2020-11-13T15:18:13.396\"\n",
      "      },\n",
      "      \"system\": {\n",
      "         \"ctapipe_version\": \"0.9.2.dev40+g2e3a5744\",\n",
      "         \"ctapipe_resources_version\": \"0.3.1\",\n",
      "         \"eventio_version\": \"1.4.2\",\n",
      "         \"ctapipe_svc_path\": null,\n",
      "         \"executable\": \"/home/travis/miniconda/envs/travis/bin/python\",\n",
      "         \"platform\": {\n",
      "            \"architecture_bits\": \"64bit\",\n",
      "            \"architecture_linkage\": \"\",\n",
      "            \"machine\": \"x86_64\",\n",
      "            \"processor\": \"x86_64\",\n",
      "            \"node\": \"travis-job-7012dc37-8b65-4b3d-8ad9-5079e9741538\",\n",
      "            \"version\": \"#31~18.04.1-Ubuntu SMP Mon Jun 22 15:24:52 UTC 2020\",\n",
      "            \"system\": \"Linux\",\n",
      "            \"release\": \"5.3.0-1029-gcp\",\n",
      "            \"libcver\": [\n",
      "               \"glibc\",\n",
      "               \"2.10\"\n",
      "            ],\n",
      "            \"num_cpus\": 2,\n",
      "            \"boot_time\": \"2020-11-13T15:07:45.000\"\n",
      "         },\n",
      "         \"python\": {\n",
      "            \"version_string\": \"3.7.7 (default, Mar 26 2020, 15:48:22) \\n[GCC 7.3.0]\",\n",
      "            \"version\": [\n",
      "               \"3\",\n",
      "               \"7\",\n",
      "               \"7\"\n",
      "            ],\n",
      "            \"compiler\": \"GCC 7.3.0\",\n",
      "            \"implementation\": \"CPython\"\n",
      "         },\n",
      "         \"environment\": {\n",
      "            \"CONDA_DEFAULT_ENV\": \"travis\",\n",
      "            \"CONDA_PREFIX\": \"/home/travis/miniconda/envs/travis\",\n",
      "            \"CONDA_PYTHON_EXE\": \"/home/travis/miniconda/bin/python\",\n",
      "            \"CONDA_EXE\": \"/home/travis/miniconda/bin/conda\",\n",
      "            \"CONDA_PROMPT_MODIFIER\": \"\",\n",
      "            \"CONDA_SHLVL\": \"1\",\n",
      "            \"PATH\": \"/home/travis/miniconda/envs/travis/bin:/home/travis/miniconda/condabin:/home/travis/bin:/home/travis/.local/bin:/usr/local/lib/jvm/openjdk11/bin:/opt/pyenv/shims:/home/travis/.phpenv/shims:/home/travis/perl5/perlbrew/bin:/home/travis/.nvm/versions/node/v10.16.0/bin:/home/travis/.kiex/elixirs/elixir-1.7.4/bin:/home/travis/.kiex/bin:/home/travis/.rvm/gems/ruby-2.6.5/bin:/home/travis/.rvm/gems/ruby-2.6.5@global/bin:/home/travis/.rvm/rubies/ruby-2.6.5/bin:/home/travis/gopath/bin:/home/travis/.gimme/versions/go1.11.1.linux.amd64/bin:/usr/local/maven-3.6.3/bin:/usr/local/cmake-3.12.4/bin:/usr/local/clang-7.0.0/bin:/usr/local/sbin:/usr/local/bin:/usr/sbin:/usr/bin:/sbin:/bin:/snap/bin:/home/travis/.rvm/bin:/home/travis/.phpenv/bin:/opt/pyenv/bin:/home/travis/.yarn/bin\",\n",
      "            \"LD_LIBRARY_PATH\": null,\n",
      "            \"DYLD_LIBRARY_PATH\": null,\n",
      "            \"USER\": \"travis\",\n",
      "            \"HOME\": \"/home/travis\",\n",
      "            \"SHELL\": \"/bin/bash\"\n",
      "         },\n",
      "         \"arguments\": [\n",
      "            \"/home/travis/miniconda/envs/travis/lib/python3.7/site-packages/ipykernel_launcher.py\",\n",
      "            \"-f\",\n",
      "            \"/tmp/tmp7gfsw8_a.json\",\n",
      "            \"--HistoryManager.hist_file=:memory:\"\n",
      "         ],\n",
      "         \"start_time_utc\": \"2020-11-13T15:18:13.074\"\n",
      "      },\n",
      "      \"input\": [],\n",
      "      \"output\": [],\n",
      "      \"config\": {\n",
      "         \"MyTool\": {\n",
      "            \"config_file\": null,\n",
      "            \"iterations\": 3,\n",
      "            \"log_config\": {\n",
      "               \"version\": 1,\n",
      "               \"disable_existing_loggers\": false,\n",
      "               \"formatters\": {\n",
      "                  \"file\": {\n",
      "                     \"()\": null,\n",
      "                     \"fmt\": \"%(asctime)s %(levelname)s [%(name)s] (%(module)s.%(funcName)s): %(message)s\"\n",
      "                  },\n",
      "                  \"console\": {\n",
      "                     \"()\": null,\n",
      "                     \"fmt\": \"%(asctime)s %(levelname)s [%(name)s] (%(module)s.%(funcName)s): %(message)s\"\n",
      "                  }\n",
      "               },\n",
      "               \"handlers\": {\n",
      "                  \"ctapipe-console\": {\n",
      "                     \"class\": \"logging.StreamHandler\",\n",
      "                     \"formatter\": \"console\",\n",
      "                     \"stream\": \"ext://sys.stderr\",\n",
      "                     \"level\": 10\n",
      "                  },\n",
      "                  \"console\": {\n",
      "                     \"class\": \"logging.StreamHandler\",\n",
      "                     \"formatter\": \"console\",\n",
      "                     \"stream\": \"ext://sys.stderr\",\n",
      "                     \"level\": \"NOTSET\"\n",
      "                  }\n",
      "               },\n",
      "               \"loggers\": {\n",
      "                  \"ctapipe\": {\n",
      "                     \"level\": 10,\n",
      "                     \"handlers\": [\n",
      "                        \"ctapipe-console\"\n",
      "                     ],\n",
      "                     \"propagate\": false\n",
      "                  }\n",
      "               }\n",
      "            },\n",
      "            \"log_datefmt\": \"%Y-%m-%d %H:%M:%S\",\n",
      "            \"log_file\": null,\n",
      "            \"log_file_level\": \"INFO\",\n",
      "            \"log_format\": \"%(asctime)s : %(levelname)s [%(name)s %(funcName)s] %(message)s\",\n",
      "            \"log_level\": 10,\n",
      "            \"provenance_log\": \"/home/travis/build/cta-observatory/ctapipe/docs/examples/mytool.provenance.log\",\n",
      "            \"quiet\": false,\n",
      "            \"show_config\": false,\n",
      "            \"show_config_json\": false,\n",
      "            \"MyComponent\": {\n",
      "               \"value\": -1\n",
      "            },\n",
      "            \"SecondaryMyComponent\": {\n",
      "               \"value\": -1\n",
      "            },\n",
      "            \"TelescopeWiseComponent\": {\n",
      "               \"param\": [\n",
      "                  [\n",
      "                     \"type\",\n",
      "                     \"*\",\n",
      "                     5.0\n",
      "                  ]\n",
      "               ]\n",
      "            },\n",
      "            \"AdvancedComponent\": {\n",
      "               \"infile\": \"/home/travis/.cache/Python-Eggs/ctapipe_extra-0.3.1-py3.9.egg-tmp/ctapipe_resources/gamma_test.simtel.gz\",\n",
      "               \"outfile\": null,\n",
      "               \"value1\": -1,\n",
      "               \"MyComponent\": {\n",
      "                  \"value\": -1\n",
      "               }\n",
      "            }\n",
      "         }\n",
      "      },\n",
      "      \"status\": \"completed\",\n",
      "      \"duration_min\": 0.005883333333471796\n",
      "   },\n",
      "   {\n",
      "      \"activity_name\": \"mytool\",\n",
      "      \"activity_uuid\": \"c0f6f42b-d79b-46d3-a915-4f0019d7cb3b\",\n",
      "      \"start\": {\n",
      "         \"time_utc\": \"2020-11-13T15:18:13.422\"\n",
      "      },\n",
      "      \"stop\": {\n",
      "         \"time_utc\": \"2020-11-13T15:18:13.774\"\n",
      "      },\n",
      "      \"system\": {\n",
      "         \"ctapipe_version\": \"0.9.2.dev40+g2e3a5744\",\n",
      "         \"ctapipe_resources_version\": \"0.3.1\",\n",
      "         \"eventio_version\": \"1.4.2\",\n",
      "         \"ctapipe_svc_path\": null,\n",
      "         \"executable\": \"/home/travis/miniconda/envs/travis/bin/python\",\n",
      "         \"platform\": {\n",
      "            \"architecture_bits\": \"64bit\",\n",
      "            \"architecture_linkage\": \"\",\n",
      "            \"machine\": \"x86_64\",\n",
      "            \"processor\": \"x86_64\",\n",
      "            \"node\": \"travis-job-7012dc37-8b65-4b3d-8ad9-5079e9741538\",\n",
      "            \"version\": \"#31~18.04.1-Ubuntu SMP Mon Jun 22 15:24:52 UTC 2020\",\n",
      "            \"system\": \"Linux\",\n",
      "            \"release\": \"5.3.0-1029-gcp\",\n",
      "            \"libcver\": [\n",
      "               \"glibc\",\n",
      "               \"2.10\"\n",
      "            ],\n",
      "            \"num_cpus\": 2,\n",
      "            \"boot_time\": \"2020-11-13T15:07:45.000\"\n",
      "         },\n",
      "         \"python\": {\n",
      "            \"version_string\": \"3.7.7 (default, Mar 26 2020, 15:48:22) \\n[GCC 7.3.0]\",\n",
      "            \"version\": [\n",
      "               \"3\",\n",
      "               \"7\",\n",
      "               \"7\"\n",
      "            ],\n",
      "            \"compiler\": \"GCC 7.3.0\",\n",
      "            \"implementation\": \"CPython\"\n",
      "         },\n",
      "         \"environment\": {\n",
      "            \"CONDA_DEFAULT_ENV\": \"travis\",\n",
      "            \"CONDA_PREFIX\": \"/home/travis/miniconda/envs/travis\",\n",
      "            \"CONDA_PYTHON_EXE\": \"/home/travis/miniconda/bin/python\",\n",
      "            \"CONDA_EXE\": \"/home/travis/miniconda/bin/conda\",\n",
      "            \"CONDA_PROMPT_MODIFIER\": \"\",\n",
      "            \"CONDA_SHLVL\": \"1\",\n",
      "            \"PATH\": \"/home/travis/miniconda/envs/travis/bin:/home/travis/miniconda/condabin:/home/travis/bin:/home/travis/.local/bin:/usr/local/lib/jvm/openjdk11/bin:/opt/pyenv/shims:/home/travis/.phpenv/shims:/home/travis/perl5/perlbrew/bin:/home/travis/.nvm/versions/node/v10.16.0/bin:/home/travis/.kiex/elixirs/elixir-1.7.4/bin:/home/travis/.kiex/bin:/home/travis/.rvm/gems/ruby-2.6.5/bin:/home/travis/.rvm/gems/ruby-2.6.5@global/bin:/home/travis/.rvm/rubies/ruby-2.6.5/bin:/home/travis/gopath/bin:/home/travis/.gimme/versions/go1.11.1.linux.amd64/bin:/usr/local/maven-3.6.3/bin:/usr/local/cmake-3.12.4/bin:/usr/local/clang-7.0.0/bin:/usr/local/sbin:/usr/local/bin:/usr/sbin:/usr/bin:/sbin:/bin:/snap/bin:/home/travis/.rvm/bin:/home/travis/.phpenv/bin:/opt/pyenv/bin:/home/travis/.yarn/bin\",\n",
      "            \"LD_LIBRARY_PATH\": null,\n",
      "            \"DYLD_LIBRARY_PATH\": null,\n",
      "            \"USER\": \"travis\",\n",
      "            \"HOME\": \"/home/travis\",\n",
      "            \"SHELL\": \"/bin/bash\"\n",
      "         },\n",
      "         \"arguments\": [\n",
      "            \"/home/travis/miniconda/envs/travis/lib/python3.7/site-packages/ipykernel_launcher.py\",\n",
      "            \"-f\",\n",
      "            \"/tmp/tmp7gfsw8_a.json\",\n",
      "            \"--HistoryManager.hist_file=:memory:\"\n",
      "         ],\n",
      "         \"start_time_utc\": \"2020-11-13T15:18:13.453\"\n",
      "      },\n",
      "      \"input\": [],\n",
      "      \"output\": [],\n",
      "      \"config\": {\n",
      "         \"MyTool\": {\n",
      "            \"config_file\": null,\n",
      "            \"iterations\": 3,\n",
      "            \"log_config\": {\n",
      "               \"version\": 1,\n",
      "               \"disable_existing_loggers\": false,\n",
      "               \"formatters\": {\n",
      "                  \"file\": {\n",
      "                     \"()\": null,\n",
      "                     \"fmt\": \"%(asctime)s %(levelname)s [%(name)s] (%(module)s.%(funcName)s): %(message)s\"\n",
      "                  },\n",
      "                  \"console\": {\n",
      "                     \"()\": null,\n",
      "                     \"fmt\": \"%(asctime)s %(levelname)s [%(name)s] (%(module)s.%(funcName)s): %(message)s\"\n",
      "                  }\n",
      "               },\n",
      "               \"handlers\": {\n",
      "                  \"ctapipe-console\": {\n",
      "                     \"class\": \"logging.StreamHandler\",\n",
      "                     \"formatter\": \"console\",\n",
      "                     \"stream\": \"ext://sys.stderr\",\n",
      "                     \"level\": 10\n",
      "                  },\n",
      "                  \"console\": {\n",
      "                     \"class\": \"logging.StreamHandler\",\n",
      "                     \"formatter\": \"console\",\n",
      "                     \"stream\": \"ext://sys.stderr\",\n",
      "                     \"level\": \"NOTSET\"\n",
      "                  }\n",
      "               },\n",
      "               \"loggers\": {\n",
      "                  \"ctapipe\": {\n",
      "                     \"level\": 10,\n",
      "                     \"handlers\": [\n",
      "                        \"ctapipe-console\"\n",
      "                     ],\n",
      "                     \"propagate\": false\n",
      "                  }\n",
      "               }\n",
      "            },\n",
      "            \"log_datefmt\": \"%Y-%m-%d %H:%M:%S\",\n",
      "            \"log_file\": null,\n",
      "            \"log_file_level\": \"INFO\",\n",
      "            \"log_format\": \"%(asctime)s : %(levelname)s [%(name)s %(funcName)s] %(message)s\",\n",
      "            \"log_level\": 10,\n",
      "            \"provenance_log\": \"/home/travis/build/cta-observatory/ctapipe/docs/examples/mytool.provenance.log\",\n",
      "            \"quiet\": false,\n",
      "            \"show_config\": false,\n",
      "            \"show_config_json\": false,\n",
      "            \"MyComponent\": {\n",
      "               \"value\": -1\n",
      "            },\n",
      "            \"SecondaryMyComponent\": {\n",
      "               \"value\": -1\n",
      "            },\n",
      "            \"TelescopeWiseComponent\": {\n",
      "               \"param\": [\n",
      "                  [\n",
      "                     \"type\",\n",
      "                     \"*\",\n",
      "                     5.0\n",
      "                  ]\n",
      "               ]\n",
      "            },\n",
      "            \"AdvancedComponent\": {\n",
      "               \"infile\": \"/home/travis/.cache/Python-Eggs/ctapipe_extra-0.3.1-py3.9.egg-tmp/ctapipe_resources/gamma_test.simtel.gz\",\n",
      "               \"outfile\": null,\n",
      "               \"value1\": -1,\n",
      "               \"MyComponent\": {\n",
      "                  \"value\": -1\n",
      "               }\n",
      "            }\n",
      "         }\n",
      "      },\n",
      "      \"status\": \"completed\",\n",
      "      \"duration_min\": 0.0058666666667051\n",
      "   },\n",
      "   {\n",
      "      \"activity_name\": \"mytool\",\n",
      "      \"activity_uuid\": \"89db2f34-a5f9-4af5-89a5-0e0ee7b7c57d\",\n",
      "      \"start\": {\n",
      "         \"time_utc\": \"2020-11-13T15:18:13.822\"\n",
      "      },\n",
      "      \"stop\": {\n",
      "         \"time_utc\": \"2020-11-13T15:18:14.380\"\n",
      "      },\n",
      "      \"system\": {\n",
      "         \"ctapipe_version\": \"0.9.2.dev40+g2e3a5744\",\n",
      "         \"ctapipe_resources_version\": \"0.3.1\",\n",
      "         \"eventio_version\": \"1.4.2\",\n",
      "         \"ctapipe_svc_path\": null,\n",
      "         \"executable\": \"/home/travis/miniconda/envs/travis/bin/python\",\n",
      "         \"platform\": {\n",
      "            \"architecture_bits\": \"64bit\",\n",
      "            \"architecture_linkage\": \"\",\n",
      "            \"machine\": \"x86_64\",\n",
      "            \"processor\": \"x86_64\",\n",
      "            \"node\": \"travis-job-7012dc37-8b65-4b3d-8ad9-5079e9741538\",\n",
      "            \"version\": \"#31~18.04.1-Ubuntu SMP Mon Jun 22 15:24:52 UTC 2020\",\n",
      "            \"system\": \"Linux\",\n",
      "            \"release\": \"5.3.0-1029-gcp\",\n",
      "            \"libcver\": [\n",
      "               \"glibc\",\n",
      "               \"2.10\"\n",
      "            ],\n",
      "            \"num_cpus\": 2,\n",
      "            \"boot_time\": \"2020-11-13T15:07:45.000\"\n",
      "         },\n",
      "         \"python\": {\n",
      "            \"version_string\": \"3.7.7 (default, Mar 26 2020, 15:48:22) \\n[GCC 7.3.0]\",\n",
      "            \"version\": [\n",
      "               \"3\",\n",
      "               \"7\",\n",
      "               \"7\"\n",
      "            ],\n",
      "            \"compiler\": \"GCC 7.3.0\",\n",
      "            \"implementation\": \"CPython\"\n",
      "         },\n",
      "         \"environment\": {\n",
      "            \"CONDA_DEFAULT_ENV\": \"travis\",\n",
      "            \"CONDA_PREFIX\": \"/home/travis/miniconda/envs/travis\",\n",
      "            \"CONDA_PYTHON_EXE\": \"/home/travis/miniconda/bin/python\",\n",
      "            \"CONDA_EXE\": \"/home/travis/miniconda/bin/conda\",\n",
      "            \"CONDA_PROMPT_MODIFIER\": \"\",\n",
      "            \"CONDA_SHLVL\": \"1\",\n",
      "            \"PATH\": \"/home/travis/miniconda/envs/travis/bin:/home/travis/miniconda/condabin:/home/travis/bin:/home/travis/.local/bin:/usr/local/lib/jvm/openjdk11/bin:/opt/pyenv/shims:/home/travis/.phpenv/shims:/home/travis/perl5/perlbrew/bin:/home/travis/.nvm/versions/node/v10.16.0/bin:/home/travis/.kiex/elixirs/elixir-1.7.4/bin:/home/travis/.kiex/bin:/home/travis/.rvm/gems/ruby-2.6.5/bin:/home/travis/.rvm/gems/ruby-2.6.5@global/bin:/home/travis/.rvm/rubies/ruby-2.6.5/bin:/home/travis/gopath/bin:/home/travis/.gimme/versions/go1.11.1.linux.amd64/bin:/usr/local/maven-3.6.3/bin:/usr/local/cmake-3.12.4/bin:/usr/local/clang-7.0.0/bin:/usr/local/sbin:/usr/local/bin:/usr/sbin:/usr/bin:/sbin:/bin:/snap/bin:/home/travis/.rvm/bin:/home/travis/.phpenv/bin:/opt/pyenv/bin:/home/travis/.yarn/bin\",\n",
      "            \"LD_LIBRARY_PATH\": null,\n",
      "            \"DYLD_LIBRARY_PATH\": null,\n",
      "            \"USER\": \"travis\",\n",
      "            \"HOME\": \"/home/travis\",\n",
      "            \"SHELL\": \"/bin/bash\"\n",
      "         },\n",
      "         \"arguments\": [\n",
      "            \"/home/travis/miniconda/envs/travis/lib/python3.7/site-packages/ipykernel_launcher.py\",\n",
      "            \"-f\",\n",
      "            \"/tmp/tmp7gfsw8_a.json\",\n",
      "            \"--HistoryManager.hist_file=:memory:\"\n",
      "         ],\n",
      "         \"start_time_utc\": \"2020-11-13T15:18:13.852\"\n",
      "      },\n",
      "      \"input\": [],\n",
      "      \"output\": [],\n",
      "      \"config\": {\n",
      "         \"MyTool\": {\n",
      "            \"config_file\": \"/home/travis/build/cta-observatory/ctapipe/docs/examples/Tools.json\",\n",
      "            \"iterations\": 5,\n",
      "            \"log_config\": {\n",
      "               \"version\": 1,\n",
      "               \"disable_existing_loggers\": false,\n",
      "               \"formatters\": {\n",
      "                  \"file\": {\n",
      "                     \"()\": null,\n",
      "                     \"fmt\": \"%(asctime)s %(levelname)s [%(name)s] (%(module)s.%(funcName)s): %(message)s\"\n",
      "                  },\n",
      "                  \"console\": {\n",
      "                     \"()\": null,\n",
      "                     \"fmt\": \"%(asctime)s %(levelname)s [%(name)s] (%(module)s.%(funcName)s): %(message)s\"\n",
      "                  }\n",
      "               },\n",
      "               \"handlers\": {\n",
      "                  \"ctapipe-console\": {\n",
      "                     \"class\": \"logging.StreamHandler\",\n",
      "                     \"formatter\": \"console\",\n",
      "                     \"stream\": \"ext://sys.stderr\",\n",
      "                     \"level\": 10\n",
      "                  },\n",
      "                  \"console\": {\n",
      "                     \"class\": \"logging.StreamHandler\",\n",
      "                     \"formatter\": \"console\",\n",
      "                     \"stream\": \"ext://sys.stderr\",\n",
      "                     \"level\": \"NOTSET\"\n",
      "                  }\n",
      "               },\n",
      "               \"loggers\": {\n",
      "                  \"ctapipe\": {\n",
      "                     \"level\": 10,\n",
      "                     \"handlers\": [\n",
      "                        \"ctapipe-console\"\n",
      "                     ],\n",
      "                     \"propagate\": false\n",
      "                  }\n",
      "               }\n",
      "            },\n",
      "            \"log_datefmt\": \"%Y-%m-%d %H:%M:%S\",\n",
      "            \"log_file\": null,\n",
      "            \"log_file_level\": \"INFO\",\n",
      "            \"log_format\": \"[%(name)s]%(highlevel)s %(message)s\",\n",
      "            \"log_level\": 10,\n",
      "            \"provenance_log\": \"/home/travis/build/cta-observatory/ctapipe/docs/examples/mytool.provenance.log\",\n",
      "            \"quiet\": false,\n",
      "            \"show_config\": false,\n",
      "            \"show_config_json\": false,\n",
      "            \"MyComponent\": {\n",
      "               \"value\": -1\n",
      "            },\n",
      "            \"SecondaryMyComponent\": {\n",
      "               \"value\": -1\n",
      "            },\n",
      "            \"TelescopeWiseComponent\": {\n",
      "               \"param\": [\n",
      "                  [\n",
      "                     \"type\",\n",
      "                     \"*\",\n",
      "                     5.0\n",
      "                  ]\n",
      "               ]\n",
      "            },\n",
      "            \"AdvancedComponent\": {\n",
      "               \"infile\": \"/home/travis/build/cta-observatory/ctapipe/docs/examples/something.txt\",\n",
      "               \"outfile\": null,\n",
      "               \"value1\": -1,\n",
      "               \"MyComponent\": {\n",
      "                  \"value\": -1\n",
      "               }\n",
      "            }\n",
      "         }\n",
      "      },\n",
      "      \"status\": \"completed\",\n",
      "      \"duration_min\": 0.009300000000020958\n",
      "   }\n",
      "]'\n"
     ]
    },
    {
     "name": "stderr",
     "output_type": "stream",
     "text": [
      "2020-11-13 15:18:14,389 \u001b[1;34mDEBUG\u001b[0m [ctapipe.mytool] (application.exit): Exiting application: mytool\n"
     ]
    }
   ],
   "source": [
    "try:\n",
    "    tool2.run(argv=['--config', 'Tools.json'])\n",
    "except SystemExit as e:\n",
    "    assert e.code == 0, f'Tool returned with error status {e}'"
   ]
  },
  {
   "cell_type": "code",
   "execution_count": 20,
   "metadata": {
    "execution": {
     "iopub.execute_input": "2020-11-13T15:18:14.400097Z",
     "iopub.status.busy": "2020-11-13T15:18:14.399700Z",
     "iopub.status.idle": "2020-11-13T15:18:14.402773Z",
     "shell.execute_reply": "2020-11-13T15:18:14.403202Z"
    }
   },
   "outputs": [
    {
     "name": "stdout",
     "output_type": "stream",
     "text": [
      "/home/travis/build/cta-observatory/ctapipe/docs/examples/something.txt\n"
     ]
    }
   ],
   "source": [
    "print(tool2.advanced.infile)"
   ]
  },
  {
   "cell_type": "code",
   "execution_count": 21,
   "metadata": {
    "execution": {
     "iopub.execute_input": "2020-11-13T15:18:14.406569Z",
     "iopub.status.busy": "2020-11-13T15:18:14.406154Z",
     "iopub.status.idle": "2020-11-13T15:18:14.409231Z",
     "shell.execute_reply": "2020-11-13T15:18:14.409732Z"
    }
   },
   "outputs": [
    {
     "name": "stdout",
     "output_type": "stream",
     "text": [
      "{'MyTool': {'config_file': 'Tools.json', 'log_level': 'DEBUG'}, 'AdvancedComponent': {'infile': 'something.txt'}, 'attach_subarray': <LazyConfigValue {}>}\n"
     ]
    }
   ],
   "source": [
    "print(tool2.config)"
   ]
  },
  {
   "cell_type": "code",
   "execution_count": 22,
   "metadata": {
    "execution": {
     "iopub.execute_input": "2020-11-13T15:18:14.414011Z",
     "iopub.status.busy": "2020-11-13T15:18:14.413517Z",
     "iopub.status.idle": "2020-11-13T15:18:14.415962Z",
     "shell.execute_reply": "2020-11-13T15:18:14.416388Z"
    }
   },
   "outputs": [
    {
     "data": {
      "text/plain": [
       "True"
      ]
     },
     "execution_count": 1,
     "metadata": {},
     "output_type": "execute_result"
    }
   ],
   "source": [
    "tool2.is_setup"
   ]
  },
  {
   "cell_type": "code",
   "execution_count": 23,
   "metadata": {
    "execution": {
     "iopub.execute_input": "2020-11-13T15:18:14.420945Z",
     "iopub.status.busy": "2020-11-13T15:18:14.420034Z",
     "iopub.status.idle": "2020-11-13T15:18:14.423271Z",
     "shell.execute_reply": "2020-11-13T15:18:14.422824Z"
    }
   },
   "outputs": [],
   "source": [
    "tool3 = MyTool()"
   ]
  },
  {
   "cell_type": "code",
   "execution_count": 24,
   "metadata": {
    "execution": {
     "iopub.execute_input": "2020-11-13T15:18:14.427475Z",
     "iopub.status.busy": "2020-11-13T15:18:14.426780Z",
     "iopub.status.idle": "2020-11-13T15:18:14.429417Z",
     "shell.execute_reply": "2020-11-13T15:18:14.429867Z"
    }
   },
   "outputs": [
    {
     "data": {
      "text/plain": [
       "False"
      ]
     },
     "execution_count": 1,
     "metadata": {},
     "output_type": "execute_result"
    }
   ],
   "source": [
    "tool3.is_setup"
   ]
  },
  {
   "cell_type": "code",
   "execution_count": 25,
   "metadata": {
    "execution": {
     "iopub.execute_input": "2020-11-13T15:18:14.436898Z",
     "iopub.status.busy": "2020-11-13T15:18:14.435856Z",
     "iopub.status.idle": "2020-11-13T15:18:14.440136Z",
     "shell.execute_reply": "2020-11-13T15:18:14.439681Z"
    }
   },
   "outputs": [],
   "source": [
    "tool3.initialize(argv=[])"
   ]
  },
  {
   "cell_type": "code",
   "execution_count": 26,
   "metadata": {
    "execution": {
     "iopub.execute_input": "2020-11-13T15:18:14.444435Z",
     "iopub.status.busy": "2020-11-13T15:18:14.443900Z",
     "iopub.status.idle": "2020-11-13T15:18:14.446391Z",
     "shell.execute_reply": "2020-11-13T15:18:14.446808Z"
    }
   },
   "outputs": [
    {
     "data": {
      "text/plain": [
       "False"
      ]
     },
     "execution_count": 1,
     "metadata": {},
     "output_type": "execute_result"
    }
   ],
   "source": [
    "tool3.is_setup"
   ]
  },
  {
   "cell_type": "code",
   "execution_count": 27,
   "metadata": {
    "execution": {
     "iopub.execute_input": "2020-11-13T15:18:14.451519Z",
     "iopub.status.busy": "2020-11-13T15:18:14.451014Z",
     "iopub.status.idle": "2020-11-13T15:18:14.453637Z",
     "shell.execute_reply": "2020-11-13T15:18:14.454064Z"
    }
   },
   "outputs": [
    {
     "data": {
      "text/html": [
       "<b>MyTool</b>\n",
       "<p> do some things and stuff </p>\n",
       "<table>\n",
       "<tr><th>config_file</th>\n",
       "<td>None</td>\n",
       "<td style=\"text-align:left\"><i>name of a configuration file with parameters to load in addition to command-line parameters (default: None)</i></td></tr>\n",
       "<tr><th>iterations</th>\n",
       "<td>5</td>\n",
       "<td style=\"text-align:left\"><i>Number of times to run (default: 5)</i></td></tr>\n",
       "<tr><th>log_config</th>\n",
       "<td><span style='color:blue'>{'version': 1, 'disable_existing_loggers': False, 'formatters': {'file': {'()': <class 'ctapipe.core.logging.PlainFormatter'>, 'fmt': '%(asctime)s %(levelname)s [%(name)s] (%(module)s.%(funcName)s): %(message)s'}, 'console': {'()': <class 'ctapipe.core.logging.ColoredFormatter'>, 'fmt': '%(asctime)s %(levelname)s [%(name)s] (%(module)s.%(funcName)s): %(message)s'}}, 'handlers': {'ctapipe-console': {'class': 'logging.StreamHandler', 'formatter': 'console', 'stream': 'ext://sys.stderr', 'level': 30}, 'console': {'class': 'logging.StreamHandler', 'formatter': 'console', 'stream': 'ext://sys.stderr', 'level': 'NOTSET'}}, 'loggers': {'ctapipe': {'level': 30, 'handlers': ['ctapipe-console'], 'propagate': False}}}</span></td>\n",
       "<td style=\"text-align:left\"><i> (default: traitlets.Undefined)</i></td></tr>\n",
       "<tr><th>log_datefmt</th>\n",
       "<td>%Y-%m-%d %H:%M:%S</td>\n",
       "<td style=\"text-align:left\"><i>The date format used by logging formatters for %(asctime)s (default: %Y-%m-%d %H:%M:%S)</i></td></tr>\n",
       "<tr><th>log_file</th>\n",
       "<td>None</td>\n",
       "<td style=\"text-align:left\"><i>Filename for the log (default: None)</i></td></tr>\n",
       "<tr><th>log_file_level</th>\n",
       "<td>INFO</td>\n",
       "<td style=\"text-align:left\"><i>Logging Level for File Logging (default: INFO)</i></td></tr>\n",
       "<tr><th>log_format</th>\n",
       "<td>[%(name)s]%(highlevel)s %(message)s</td>\n",
       "<td style=\"text-align:left\"><i>The Logging format template (default: [%(name)s]%(highlevel)s %(message)s)</i></td></tr>\n",
       "<tr><th>log_level</th>\n",
       "<td>30</td>\n",
       "<td style=\"text-align:left\"><i>Set the log level by value or name. (default: 30)</i></td></tr>\n",
       "<tr><th>provenance_log</th>\n",
       "<td><span style='color:blue'>/home/travis/build/cta-observatory/ctapipe/docs/examples/mytool.provenance.log</span></td>\n",
       "<td style=\"text-align:left\"><i> (default: None)</i></td></tr>\n",
       "<tr><th>quiet</th>\n",
       "<td>False</td>\n",
       "<td style=\"text-align:left\"><i> (default: False)</i></td></tr>\n",
       "<tr><th>show_config</th>\n",
       "<td>False</td>\n",
       "<td style=\"text-align:left\"><i>Instead of starting the Application, dump configuration to stdout (default: False)</i></td></tr>\n",
       "<tr><th>show_config_json</th>\n",
       "<td>False</td>\n",
       "<td style=\"text-align:left\"><i>Instead of starting the Application, dump configuration to stdout (as JSON) (default: False)</i></td></tr>\n",
       "</table>\n",
       "<p><i>Components:</i>\n",
       "MyTool, MyComponent, AdvancedComponent, SecondaryMyComponent, TelescopeWiseComponent\n",
       "</p>"
      ],
      "text/plain": [
       "<__main__.MyTool at 0x7f66b7ed8c90>"
      ]
     },
     "execution_count": 1,
     "metadata": {},
     "output_type": "execute_result"
    }
   ],
   "source": [
    "tool3"
   ]
  },
  {
   "cell_type": "code",
   "execution_count": 28,
   "metadata": {
    "execution": {
     "iopub.execute_input": "2020-11-13T15:18:14.458416Z",
     "iopub.status.busy": "2020-11-13T15:18:14.457742Z",
     "iopub.status.idle": "2020-11-13T15:18:14.464871Z",
     "shell.execute_reply": "2020-11-13T15:18:14.465300Z"
    }
   },
   "outputs": [
    {
     "ename": "KeyError",
     "evalue": "'MyComponent'",
     "output_type": "error",
     "traceback": [
      "\u001b[0;31m---------------------------------------------------------------------------\u001b[0m",
      "\u001b[0;31mKeyError\u001b[0m                                  Traceback (most recent call last)",
      "\u001b[0;32m~/miniconda/envs/travis/lib/python3.7/site-packages/IPython/core/formatters.py\u001b[0m in \u001b[0;36m__call__\u001b[0;34m(self, obj)\u001b[0m\n\u001b[1;32m    343\u001b[0m             \u001b[0mmethod\u001b[0m \u001b[0;34m=\u001b[0m \u001b[0mget_real_method\u001b[0m\u001b[0;34m(\u001b[0m\u001b[0mobj\u001b[0m\u001b[0;34m,\u001b[0m \u001b[0mself\u001b[0m\u001b[0;34m.\u001b[0m\u001b[0mprint_method\u001b[0m\u001b[0;34m)\u001b[0m\u001b[0;34m\u001b[0m\u001b[0;34m\u001b[0m\u001b[0m\n\u001b[1;32m    344\u001b[0m             \u001b[0;32mif\u001b[0m \u001b[0mmethod\u001b[0m \u001b[0;32mis\u001b[0m \u001b[0;32mnot\u001b[0m \u001b[0;32mNone\u001b[0m\u001b[0;34m:\u001b[0m\u001b[0;34m\u001b[0m\u001b[0;34m\u001b[0m\u001b[0m\n\u001b[0;32m--> 345\u001b[0;31m                 \u001b[0;32mreturn\u001b[0m \u001b[0mmethod\u001b[0m\u001b[0;34m(\u001b[0m\u001b[0;34m)\u001b[0m\u001b[0;34m\u001b[0m\u001b[0;34m\u001b[0m\u001b[0m\n\u001b[0m\u001b[1;32m    346\u001b[0m             \u001b[0;32mreturn\u001b[0m \u001b[0;32mNone\u001b[0m\u001b[0;34m\u001b[0m\u001b[0;34m\u001b[0m\u001b[0m\n\u001b[1;32m    347\u001b[0m         \u001b[0;32melse\u001b[0m\u001b[0;34m:\u001b[0m\u001b[0;34m\u001b[0m\u001b[0;34m\u001b[0m\u001b[0m\n",
      "\u001b[0;32m~/build/cta-observatory/ctapipe/ctapipe/core/tool.py\u001b[0m in \u001b[0;36m_repr_html_\u001b[0;34m(self)\u001b[0m\n\u001b[1;32m    321\u001b[0m         ]\n\u001b[1;32m    322\u001b[0m         \u001b[0;32mfor\u001b[0m \u001b[0mkey\u001b[0m\u001b[0;34m,\u001b[0m \u001b[0mval\u001b[0m \u001b[0;32min\u001b[0m \u001b[0mself\u001b[0m\u001b[0;34m.\u001b[0m\u001b[0mget_current_config\u001b[0m\u001b[0;34m(\u001b[0m\u001b[0;34m)\u001b[0m\u001b[0;34m[\u001b[0m\u001b[0mname\u001b[0m\u001b[0;34m]\u001b[0m\u001b[0;34m.\u001b[0m\u001b[0mitems\u001b[0m\u001b[0;34m(\u001b[0m\u001b[0;34m)\u001b[0m\u001b[0;34m:\u001b[0m\u001b[0;34m\u001b[0m\u001b[0;34m\u001b[0m\u001b[0m\n\u001b[0;32m--> 323\u001b[0;31m             \u001b[0mdefault\u001b[0m \u001b[0;34m=\u001b[0m \u001b[0mtraits\u001b[0m\u001b[0;34m[\u001b[0m\u001b[0mkey\u001b[0m\u001b[0;34m]\u001b[0m\u001b[0;34m.\u001b[0m\u001b[0mdefault_value\u001b[0m\u001b[0;34m\u001b[0m\u001b[0;34m\u001b[0m\u001b[0m\n\u001b[0m\u001b[1;32m    324\u001b[0m             \u001b[0mthehelp\u001b[0m \u001b[0;34m=\u001b[0m \u001b[0;34mf\"{traits[key].help} (default: {default})\"\u001b[0m\u001b[0;34m\u001b[0m\u001b[0;34m\u001b[0m\u001b[0m\n\u001b[1;32m    325\u001b[0m             \u001b[0mlines\u001b[0m\u001b[0;34m.\u001b[0m\u001b[0mappend\u001b[0m\u001b[0;34m(\u001b[0m\u001b[0;34mf\"<tr><th>{key}</th>\"\u001b[0m\u001b[0;34m)\u001b[0m\u001b[0;34m\u001b[0m\u001b[0;34m\u001b[0m\u001b[0m\n",
      "\u001b[0;31mKeyError\u001b[0m: 'MyComponent'"
     ]
    },
    {
     "data": {
      "text/plain": [
       "<__main__.MyTool at 0x7f66b7f7afd0>"
      ]
     },
     "execution_count": 1,
     "metadata": {},
     "output_type": "execute_result"
    }
   ],
   "source": [
    "tool"
   ]
  },
  {
   "cell_type": "code",
   "execution_count": 29,
   "metadata": {
    "execution": {
     "iopub.execute_input": "2020-11-13T15:18:14.469653Z",
     "iopub.status.busy": "2020-11-13T15:18:14.469118Z",
     "iopub.status.idle": "2020-11-13T15:18:14.471615Z",
     "shell.execute_reply": "2020-11-13T15:18:14.472052Z"
    }
   },
   "outputs": [
    {
     "data": {
      "text/html": [
       "<b>SecondaryMyComponent</b>\n",
       "<p> Undocumented! </p>\n",
       "<table>\n",
       "<tr><th>value</th>\n",
       "<td>-1</td>\n",
       "<td style=\"text-align:left\"><i>Value to use (default: -1)</i></td></tr>\n",
       "</table>"
      ],
      "text/plain": [
       "<__main__.SecondaryMyComponent at 0x7f66ba5ff910>"
      ]
     },
     "execution_count": 1,
     "metadata": {},
     "output_type": "execute_result"
    }
   ],
   "source": [
    "tool.comp2"
   ]
  },
  {
   "cell_type": "markdown",
   "metadata": {},
   "source": [
    "## Getting the configuration of an instance"
   ]
  },
  {
   "cell_type": "code",
   "execution_count": 30,
   "metadata": {
    "execution": {
     "iopub.execute_input": "2020-11-13T15:18:14.478149Z",
     "iopub.status.busy": "2020-11-13T15:18:14.477681Z",
     "iopub.status.idle": "2020-11-13T15:18:14.480212Z",
     "shell.execute_reply": "2020-11-13T15:18:14.480644Z"
    }
   },
   "outputs": [
    {
     "data": {
      "text/plain": [
       "{'MyTool': {'config_file': None,\n",
       "  'iterations': 3,\n",
       "  'log_config': {'version': 1,\n",
       "   'disable_existing_loggers': False,\n",
       "   'formatters': {'file': {'()': ctapipe.core.logging.PlainFormatter,\n",
       "     'fmt': '%(asctime)s %(levelname)s [%(name)s] (%(module)s.%(funcName)s): %(message)s'},\n",
       "    'console': {'()': ctapipe.core.logging.ColoredFormatter,\n",
       "     'fmt': '%(asctime)s %(levelname)s [%(name)s] (%(module)s.%(funcName)s): %(message)s'}},\n",
       "   'handlers': {'ctapipe-console': {'class': 'logging.StreamHandler',\n",
       "     'formatter': 'console',\n",
       "     'stream': 'ext://sys.stderr',\n",
       "     'level': 30},\n",
       "    'console': {'class': 'logging.StreamHandler',\n",
       "     'formatter': 'console',\n",
       "     'stream': 'ext://sys.stderr',\n",
       "     'level': 'NOTSET'}},\n",
       "   'loggers': {'ctapipe': {'level': 30,\n",
       "     'handlers': ['ctapipe-console'],\n",
       "     'propagate': False}}},\n",
       "  'log_datefmt': '%Y-%m-%d %H:%M:%S',\n",
       "  'log_file': None,\n",
       "  'log_file_level': 'INFO',\n",
       "  'log_format': '%(asctime)s : %(levelname)s [%(name)s %(funcName)s] %(message)s',\n",
       "  'log_level': 10,\n",
       "  'provenance_log': PosixPath('/home/travis/build/cta-observatory/ctapipe/docs/examples/mytool.provenance.log'),\n",
       "  'quiet': False,\n",
       "  'show_config': False,\n",
       "  'show_config_json': False,\n",
       "  'MyComponent': {'value': -1},\n",
       "  'SecondaryMyComponent': {'value': -1},\n",
       "  'TelescopeWiseComponent': {'param': [('type', '*', 5.0)]},\n",
       "  'AdvancedComponent': {'infile': PosixPath('/home/travis/.cache/Python-Eggs/ctapipe_extra-0.3.1-py3.9.egg-tmp/ctapipe_resources/gamma_test.simtel.gz'),\n",
       "   'outfile': PosixPath('/home/travis/build/cta-observatory/ctapipe/docs/examples/Another.txt'),\n",
       "   'value1': -1,\n",
       "   'MyComponent': {'value': -1}}}}"
      ]
     },
     "execution_count": 1,
     "metadata": {},
     "output_type": "execute_result"
    }
   ],
   "source": [
    "tool.get_current_config()"
   ]
  },
  {
   "cell_type": "code",
   "execution_count": 31,
   "metadata": {
    "execution": {
     "iopub.execute_input": "2020-11-13T15:18:14.486334Z",
     "iopub.status.busy": "2020-11-13T15:18:14.485856Z",
     "iopub.status.idle": "2020-11-13T15:18:14.488360Z",
     "shell.execute_reply": "2020-11-13T15:18:14.488768Z"
    }
   },
   "outputs": [
    {
     "data": {
      "text/plain": [
       "{'MyTool': {'config_file': None,\n",
       "  'iterations': 12,\n",
       "  'log_config': {'version': 1,\n",
       "   'disable_existing_loggers': False,\n",
       "   'formatters': {'file': {'()': ctapipe.core.logging.PlainFormatter,\n",
       "     'fmt': '%(asctime)s %(levelname)s [%(name)s] (%(module)s.%(funcName)s): %(message)s'},\n",
       "    'console': {'()': ctapipe.core.logging.ColoredFormatter,\n",
       "     'fmt': '%(asctime)s %(levelname)s [%(name)s] (%(module)s.%(funcName)s): %(message)s'}},\n",
       "   'handlers': {'ctapipe-console': {'class': 'logging.StreamHandler',\n",
       "     'formatter': 'console',\n",
       "     'stream': 'ext://sys.stderr',\n",
       "     'level': 30},\n",
       "    'console': {'class': 'logging.StreamHandler',\n",
       "     'formatter': 'console',\n",
       "     'stream': 'ext://sys.stderr',\n",
       "     'level': 'NOTSET'}},\n",
       "   'loggers': {'ctapipe': {'level': 30,\n",
       "     'handlers': ['ctapipe-console'],\n",
       "     'propagate': False}}},\n",
       "  'log_datefmt': '%Y-%m-%d %H:%M:%S',\n",
       "  'log_file': None,\n",
       "  'log_file_level': 'INFO',\n",
       "  'log_format': '%(asctime)s : %(levelname)s [%(name)s %(funcName)s] %(message)s',\n",
       "  'log_level': 10,\n",
       "  'provenance_log': PosixPath('/home/travis/build/cta-observatory/ctapipe/docs/examples/mytool.provenance.log'),\n",
       "  'quiet': False,\n",
       "  'show_config': False,\n",
       "  'show_config_json': False,\n",
       "  'MyComponent': {'value': -1},\n",
       "  'SecondaryMyComponent': {'value': -1},\n",
       "  'TelescopeWiseComponent': {'param': [('type', '*', 5.0)]},\n",
       "  'AdvancedComponent': {'infile': PosixPath('/home/travis/.cache/Python-Eggs/ctapipe_extra-0.3.1-py3.9.egg-tmp/ctapipe_resources/gamma_test.simtel.gz'),\n",
       "   'outfile': PosixPath('/home/travis/build/cta-observatory/ctapipe/docs/examples/Another.txt'),\n",
       "   'value1': -1,\n",
       "   'MyComponent': {'value': -1}}}}"
      ]
     },
     "execution_count": 1,
     "metadata": {},
     "output_type": "execute_result"
    }
   ],
   "source": [
    "tool.iterations = 12\n",
    "tool.get_current_config()"
   ]
  },
  {
   "cell_type": "markdown",
   "metadata": {},
   "source": [
    "## Writing a Sample Config File"
   ]
  },
  {
   "cell_type": "code",
   "execution_count": 32,
   "metadata": {
    "execution": {
     "iopub.execute_input": "2020-11-13T15:18:14.505326Z",
     "iopub.status.busy": "2020-11-13T15:18:14.503967Z",
     "iopub.status.idle": "2020-11-13T15:18:14.506559Z",
     "shell.execute_reply": "2020-11-13T15:18:14.506979Z"
    }
   },
   "outputs": [
    {
     "name": "stdout",
     "output_type": "stream",
     "text": [
      "# Configuration file for mytool.\n",
      "\n",
      "#------------------------------------------------------------------------------\n",
      "# Application(SingletonConfigurable) configuration\n",
      "#------------------------------------------------------------------------------\n",
      "## This is an application.\n",
      "\n",
      "## The date format used by logging formatters for %(asctime)s\n",
      "#  Default: '%Y-%m-%d %H:%M:%S'\n",
      "# c.Application.log_datefmt = '%Y-%m-%d %H:%M:%S'\n",
      "\n",
      "## The Logging format template\n",
      "#  Default: '[%(name)s]%(highlevel)s %(message)s'\n",
      "# c.Application.log_format = '[%(name)s]%(highlevel)s %(message)s'\n",
      "\n",
      "## Set the log level by value or name.\n",
      "#  Choices: any of [0, 10, 20, 30, 40, 50, 'DEBUG', 'INFO', 'WARN', 'ERROR', 'CRITICAL']\n",
      "#  Default: 30\n",
      "# c.Application.log_level = 30\n",
      "\n",
      "## Instead of starting the Application, dump configuration to stdout\n",
      "#  Default: False\n",
      "# c.Application.show_config = False\n",
      "\n",
      "## Instead of starting the Application, dump configuration to stdout (as JSON)\n",
      "#  Default: False\n",
      "# c.Application.show_config_json = False\n",
      "\n",
      "#------------------------------------------------------------------------------\n",
      "# Tool(Application) configuration\n",
      "#------------------------------------------------------------------------------\n",
      "## This is an application.\n",
      "\n",
      "## name of a configuration file with parameters to load in addition to command-\n",
      "#  line parameters\n",
      "#  Default: None\n",
      "# c.Tool.config_file = None\n",
      "\n",
      "#  Default: {'version': 1, 'disable_existing_loggers': False, 'formatters': {'file': {'()': <class 'ctapipe.core.logging.PlainFormatter'>, 'fmt': '%(asctime)s %(levelname)s [%(name)s] (%(module)s.%(funcName)s): %(message)s'}, 'console': {'()': <class 'ctapipe.core.logging.ColoredFormatter'>, 'fmt': '%(asctime)s %(levelname)s [%(name)s] (%(module)s.%(funcName)s): %(message)s'}}, 'handlers': {'ctapipe-console': {'class': 'logging.StreamHandler', 'formatter': 'console', 'stream': 'ext://sys.stderr', 'level': 30}, 'console': {'class': 'logging.StreamHandler', 'formatter': 'console', 'stream': 'ext://sys.stderr', 'level': 'NOTSET'}}, 'loggers': {'ctapipe': {'level': 30, 'handlers': ['ctapipe-console'], 'propagate': False}}}\n",
      "# c.Tool.log_config = {'version': 1, 'disable_existing_loggers': False, 'formatters': {'file': {'()': <class 'ctapipe.core.logging.PlainFormatter'>, 'fmt': '%(asctime)s %(levelname)s [%(name)s] (%(module)s.%(funcName)s): %(message)s'}, 'console': {'()': <class 'ctapipe.core.logging.ColoredFormatter'>, 'fmt': '%(asctime)s %(levelname)s [%(name)s] (%(module)s.%(funcName)s): %(message)s'}}, 'handlers': {'ctapipe-console': {'class': 'logging.StreamHandler', 'formatter': 'console', 'stream': 'ext://sys.stderr', 'level': 30}, 'console': {'class': 'logging.StreamHandler', 'formatter': 'console', 'stream': 'ext://sys.stderr', 'level': 'NOTSET'}}, 'loggers': {'ctapipe': {'level': 30, 'handlers': ['ctapipe-console'], 'propagate': False}}}\n",
      "\n",
      "## The date format used by logging formatters for %(asctime)s\n",
      "#  See also: Application.log_datefmt\n",
      "# c.Tool.log_datefmt = '%Y-%m-%d %H:%M:%S'\n",
      "\n",
      "## Filename for the log\n",
      "#  Default: None\n",
      "# c.Tool.log_file = None\n",
      "\n",
      "## Logging Level for File Logging\n",
      "#  Choices: any of [0, 10, 20, 30, 40, 50, 'DEBUG', 'INFO', 'WARN', 'ERROR', 'CRITICAL']\n",
      "#  Default: 'INFO'\n",
      "# c.Tool.log_file_level = 'INFO'\n",
      "\n",
      "## The Logging format template\n",
      "#  See also: Application.log_format\n",
      "# c.Tool.log_format = '[%(name)s]%(highlevel)s %(message)s'\n",
      "\n",
      "## Set the log level by value or name.\n",
      "#  See also: Application.log_level\n",
      "# c.Tool.log_level = 30\n",
      "\n",
      "#  Default: None\n",
      "# c.Tool.provenance_log = None\n",
      "\n",
      "#  Default: False\n",
      "# c.Tool.quiet = False\n",
      "\n",
      "## Instead of starting the Application, dump configuration to stdout\n",
      "#  See also: Application.show_config\n",
      "# c.Tool.show_config = False\n",
      "\n",
      "## Instead of starting the Application, dump configuration to stdout (as JSON)\n",
      "#  See also: Application.show_config_json\n",
      "# c.Tool.show_config_json = False\n",
      "\n",
      "#------------------------------------------------------------------------------\n",
      "# MyTool(Tool) configuration\n",
      "#------------------------------------------------------------------------------\n",
      "## name of a configuration file with parameters to load in addition to command-\n",
      "#  line parameters\n",
      "#  See also: Tool.config_file\n",
      "# c.MyTool.config_file = None\n",
      "\n",
      "## Number of times to run\n",
      "#  Default: 5\n",
      "# c.MyTool.iterations = 5\n",
      "\n",
      "#  See also: Tool.log_config\n",
      "# c.MyTool.log_config = {'version': 1, 'disable_existing_loggers': False, 'formatters': {'file': {'()': <class 'ctapipe.core.logging.PlainFormatter'>, 'fmt': '%(asctime)s %(levelname)s [%(name)s] (%(module)s.%(funcName)s): %(message)s'}, 'console': {'()': <class 'ctapipe.core.logging.ColoredFormatter'>, 'fmt': '%(asctime)s %(levelname)s [%(name)s] (%(module)s.%(funcName)s): %(message)s'}}, 'handlers': {'ctapipe-console': {'class': 'logging.StreamHandler', 'formatter': 'console', 'stream': 'ext://sys.stderr', 'level': 30}, 'console': {'class': 'logging.StreamHandler', 'formatter': 'console', 'stream': 'ext://sys.stderr', 'level': 'NOTSET'}}, 'loggers': {'ctapipe': {'level': 30, 'handlers': ['ctapipe-console'], 'propagate': False}}}\n",
      "\n",
      "## The date format used by logging formatters for %(asctime)s\n",
      "#  See also: Application.log_datefmt\n",
      "# c.MyTool.log_datefmt = '%Y-%m-%d %H:%M:%S'\n",
      "\n",
      "## Filename for the log\n",
      "#  See also: Tool.log_file\n",
      "# c.MyTool.log_file = None\n",
      "\n",
      "## Logging Level for File Logging\n",
      "#  See also: Tool.log_file_level\n",
      "# c.MyTool.log_file_level = 'INFO'\n",
      "\n",
      "## The Logging format template\n",
      "#  See also: Application.log_format\n",
      "# c.MyTool.log_format = '[%(name)s]%(highlevel)s %(message)s'\n",
      "\n",
      "## Set the log level by value or name.\n",
      "#  See also: Application.log_level\n",
      "# c.MyTool.log_level = 30\n",
      "\n",
      "#  See also: Tool.provenance_log\n",
      "# c.MyTool.provenance_log = None\n",
      "\n",
      "#  See also: Tool.quiet\n",
      "# c.MyTool.quiet = False\n",
      "\n",
      "## Instead of starting the Application, dump configuration to stdout\n",
      "#  See also: Application.show_config\n",
      "# c.MyTool.show_config = False\n",
      "\n",
      "## Instead of starting the Application, dump configuration to stdout (as JSON)\n",
      "#  See also: Application.show_config_json\n",
      "# c.MyTool.show_config_json = False\n",
      "\n",
      "#------------------------------------------------------------------------------\n",
      "# MyComponent(Component) configuration\n",
      "#------------------------------------------------------------------------------\n",
      "## A Component that does stuff\n",
      "\n",
      "## Value to use\n",
      "#  Default: -1\n",
      "# c.MyComponent.value = -1\n",
      "\n",
      "#------------------------------------------------------------------------------\n",
      "# AdvancedComponent(Component) configuration\n",
      "#------------------------------------------------------------------------------\n",
      "## An advanced technique\n",
      "\n",
      "## input file name\n",
      "#  Default: None\n",
      "# c.AdvancedComponent.infile = None\n",
      "\n",
      "## output file name\n",
      "#  Default: None\n",
      "# c.AdvancedComponent.outfile = None\n",
      "\n",
      "## Value to use\n",
      "#  Default: -1\n",
      "# c.AdvancedComponent.value1 = -1\n",
      "\n",
      "#------------------------------------------------------------------------------\n",
      "# SecondaryMyComponent(MyComponent) configuration\n",
      "#------------------------------------------------------------------------------\n",
      "## Value to use\n",
      "#  See also: MyComponent.value\n",
      "# c.SecondaryMyComponent.value = -1\n",
      "\n",
      "#------------------------------------------------------------------------------\n",
      "# TelescopeWiseComponent(TelescopeComponent) configuration\n",
      "#------------------------------------------------------------------------------\n",
      "## a component that contains parameters that are per-telescope configurable\n",
      "\n",
      "## Something configurable with telescope patterns\n",
      "#  Default: [('type', '*', 5.0)]\n",
      "# c.TelescopeWiseComponent.param = [('type', '*', 5.0)]\n",
      "\n"
     ]
    }
   ],
   "source": [
    "print(tool.generate_config_file())"
   ]
  }
 ],
 "metadata": {
  "kernelspec": {
   "display_name": "Python 3",
   "language": "python",
   "name": "python3"
  },
  "language_info": {
   "codemirror_mode": {
    "name": "ipython",
    "version": 3
   },
   "file_extension": ".py",
   "mimetype": "text/x-python",
   "name": "python",
   "nbconvert_exporter": "python",
   "pygments_lexer": "ipython3",
   "version": "3.7.7"
  }
 },
 "nbformat": 4,
 "nbformat_minor": 4
}
