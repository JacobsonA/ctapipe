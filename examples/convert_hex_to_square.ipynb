{
 "cells": [
  {
   "cell_type": "markdown",
   "metadata": {},
   "source": [
    "# Convert hexagonal cameras into square grid and back"
   ]
  },
  {
   "cell_type": "code",
   "execution_count": 1,
   "metadata": {
    "execution": {
     "iopub.execute_input": "2020-11-13T15:18:30.903946Z",
     "iopub.status.busy": "2020-11-13T15:18:30.903228Z",
     "iopub.status.idle": "2020-11-13T15:18:32.818229Z",
     "shell.execute_reply": "2020-11-13T15:18:32.817669Z"
    }
   },
   "outputs": [
    {
     "name": "stderr",
     "output_type": "stream",
     "text": [
      "/home/travis/miniconda/envs/travis/lib/python3.7/site-packages/setuptools_scm/git.py:68: UserWarning: \"/home/travis/build/cta-observatory/ctapipe\" is shallow and may cause errors\n",
      "  warnings.warn('\"{}\" is shallow and may cause errors'.format(wd.path))\n"
     ]
    }
   ],
   "source": [
    "from ctapipe.utils import get_dataset_path\n",
    "from ctapipe.image.geometry_converter import convert_geometry_hex1d_to_rect2d, convert_geometry_rect2d_back_to_hexe1d\n",
    "from ctapipe.visualization import CameraDisplay\n",
    "from ctapipe.io import event_source\n",
    "import copy\n",
    "import matplotlib.pyplot as plt"
   ]
  },
  {
   "cell_type": "markdown",
   "metadata": {},
   "source": [
    "## Setup"
   ]
  },
  {
   "cell_type": "code",
   "execution_count": 2,
   "metadata": {
    "execution": {
     "iopub.execute_input": "2020-11-13T15:18:32.844427Z",
     "iopub.status.busy": "2020-11-13T15:18:32.821603Z",
     "iopub.status.idle": "2020-11-13T15:18:32.971396Z",
     "shell.execute_reply": "2020-11-13T15:18:32.971760Z"
    }
   },
   "outputs": [],
   "source": [
    "filename = get_dataset_path('gamma_test_large.simtel.gz')"
   ]
  },
  {
   "cell_type": "code",
   "execution_count": 3,
   "metadata": {
    "execution": {
     "iopub.execute_input": "2020-11-13T15:18:32.976159Z",
     "iopub.status.busy": "2020-11-13T15:18:32.975481Z",
     "iopub.status.idle": "2020-11-13T15:18:33.695094Z",
     "shell.execute_reply": "2020-11-13T15:18:33.695459Z"
    }
   },
   "outputs": [],
   "source": [
    "source = event_source(filename, max_events=10, allowed_tels={1})"
   ]
  },
  {
   "cell_type": "code",
   "execution_count": 4,
   "metadata": {
    "execution": {
     "iopub.execute_input": "2020-11-13T15:18:33.714329Z",
     "iopub.status.busy": "2020-11-13T15:18:33.713591Z",
     "iopub.status.idle": "2020-11-13T15:18:35.805667Z",
     "shell.execute_reply": "2020-11-13T15:18:35.805172Z"
    }
   },
   "outputs": [],
   "source": [
    "events = [copy.deepcopy(event) for event in source]"
   ]
  },
  {
   "cell_type": "code",
   "execution_count": 5,
   "metadata": {
    "execution": {
     "iopub.execute_input": "2020-11-13T15:18:35.809120Z",
     "iopub.status.busy": "2020-11-13T15:18:35.808691Z",
     "iopub.status.idle": "2020-11-13T15:18:35.812026Z",
     "shell.execute_reply": "2020-11-13T15:18:35.811394Z"
    }
   },
   "outputs": [],
   "source": [
    "event = events[0]"
   ]
  },
  {
   "cell_type": "code",
   "execution_count": 6,
   "metadata": {
    "execution": {
     "iopub.execute_input": "2020-11-13T15:18:35.829576Z",
     "iopub.status.busy": "2020-11-13T15:18:35.815095Z",
     "iopub.status.idle": "2020-11-13T15:18:36.159502Z",
     "shell.execute_reply": "2020-11-13T15:18:36.158996Z"
    }
   },
   "outputs": [
    {
     "data": {
      "text/plain": [
       "<ctapipe.visualization.mpl_camera.CameraDisplay at 0x7f2dcde1bdd0>"
      ]
     },
     "execution_count": 1,
     "metadata": {},
     "output_type": "execute_result"
    }
   ],
   "source": [
    "geometry = source.subarray.tel[1].camera.geometry\n",
    "image = event.r0.tel[1].waveform[0].sum(axis=1)\n",
    "CameraDisplay(geometry, image)"
   ]
  },
  {
   "cell_type": "markdown",
   "metadata": {},
   "source": [
    "## Conversion into square geometry"
   ]
  },
  {
   "cell_type": "markdown",
   "metadata": {},
   "source": [
    "**A key must be speficied to be able to convert back to hexagonal afterwards**   \n",
    "The conversion geometry is stored in `ctapipe.image.geometry_convert.rot_buffer`"
   ]
  },
  {
   "cell_type": "code",
   "execution_count": 7,
   "metadata": {
    "execution": {
     "iopub.execute_input": "2020-11-13T15:18:36.167853Z",
     "iopub.status.busy": "2020-11-13T15:18:36.166506Z",
     "iopub.status.idle": "2020-11-13T15:18:36.591126Z",
     "shell.execute_reply": "2020-11-13T15:18:36.590597Z"
    }
   },
   "outputs": [],
   "source": [
    "key = 0\n",
    "square_geom, square_image = convert_geometry_hex1d_to_rect2d(geometry, image, key=key)"
   ]
  },
  {
   "cell_type": "code",
   "execution_count": 8,
   "metadata": {
    "execution": {
     "iopub.execute_input": "2020-11-13T15:18:36.595875Z",
     "iopub.status.busy": "2020-11-13T15:18:36.595167Z",
     "iopub.status.idle": "2020-11-13T15:18:36.600075Z",
     "shell.execute_reply": "2020-11-13T15:18:36.600533Z"
    }
   },
   "outputs": [
    {
     "data": {
      "text/plain": [
       "<matplotlib.image.AxesImage at 0x7f2dc9a19d50>"
      ]
     },
     "execution_count": 1,
     "metadata": {},
     "output_type": "execute_result"
    }
   ],
   "source": [
    "plt.imshow(square_image)"
   ]
  },
  {
   "cell_type": "markdown",
   "metadata": {},
   "source": [
    "## Conversion back to hexagonal geometry"
   ]
  },
  {
   "cell_type": "code",
   "execution_count": 9,
   "metadata": {
    "execution": {
     "iopub.execute_input": "2020-11-13T15:18:36.604004Z",
     "iopub.status.busy": "2020-11-13T15:18:36.603583Z",
     "iopub.status.idle": "2020-11-13T15:18:36.606952Z",
     "shell.execute_reply": "2020-11-13T15:18:36.606503Z"
    }
   },
   "outputs": [],
   "source": [
    "hex_geom, hex_image = convert_geometry_rect2d_back_to_hexe1d(square_geom, square_image, key=key)"
   ]
  },
  {
   "cell_type": "code",
   "execution_count": 10,
   "metadata": {
    "execution": {
     "iopub.execute_input": "2020-11-13T15:18:36.611454Z",
     "iopub.status.busy": "2020-11-13T15:18:36.610044Z",
     "iopub.status.idle": "2020-11-13T15:18:37.032992Z",
     "shell.execute_reply": "2020-11-13T15:18:37.032180Z"
    }
   },
   "outputs": [
    {
     "data": {
      "text/plain": [
       "<ctapipe.visualization.mpl_camera.CameraDisplay at 0x7f2dc99d6750>"
      ]
     },
     "execution_count": 1,
     "metadata": {},
     "output_type": "execute_result"
    }
   ],
   "source": [
    "CameraDisplay(hex_geom, hex_image)"
   ]
  },
  {
   "cell_type": "markdown",
   "metadata": {},
   "source": [
    "Let's check that the images are exactly the same:"
   ]
  },
  {
   "cell_type": "code",
   "execution_count": 11,
   "metadata": {
    "execution": {
     "iopub.execute_input": "2020-11-13T15:18:37.037083Z",
     "iopub.status.busy": "2020-11-13T15:18:37.036648Z",
     "iopub.status.idle": "2020-11-13T15:18:37.040073Z",
     "shell.execute_reply": "2020-11-13T15:18:37.039455Z"
    }
   },
   "outputs": [],
   "source": [
    "assert (hex_image == image).all()"
   ]
  },
  {
   "cell_type": "code",
   "execution_count": 12,
   "metadata": {
    "execution": {
     "iopub.execute_input": "2020-11-13T15:18:37.043913Z",
     "iopub.status.busy": "2020-11-13T15:18:37.043231Z",
     "iopub.status.idle": "2020-11-13T15:18:37.046384Z",
     "shell.execute_reply": "2020-11-13T15:18:37.046814Z"
    }
   },
   "outputs": [],
   "source": [
    "assert hex_geom == geometry"
   ]
  }
 ],
 "metadata": {
  "kernelspec": {
   "display_name": "Python 3",
   "language": "python",
   "name": "python3"
  },
  "language_info": {
   "codemirror_mode": {
    "name": "ipython",
    "version": 3
   },
   "file_extension": ".py",
   "mimetype": "text/x-python",
   "name": "python",
   "nbconvert_exporter": "python",
   "pygments_lexer": "ipython3",
   "version": "3.7.7"
  }
 },
 "nbformat": 4,
 "nbformat_minor": 2
}
